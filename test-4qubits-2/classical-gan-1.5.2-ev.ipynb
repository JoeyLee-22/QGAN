{
 "cells": [
  {
   "cell_type": "code",
   "execution_count": 1,
   "metadata": {},
   "outputs": [],
   "source": [
    "import os\n",
    "import numpy as np\n",
    "import matplotlib.pyplot as plt\n",
    "from sklearn.model_selection import train_test_split\n",
    "import torch\n",
    "import torch.nn as nn\n",
    "import torch.utils.data\n",
    "import torch.optim as optim"
   ]
  },
  {
   "cell_type": "code",
   "execution_count": 2,
   "metadata": {},
   "outputs": [],
   "source": [
    "REAL_LABEL = 1\n",
    "FAKE_LABEL = 0\n",
    "OUT_DIM = 4\n",
    "n_epoch = 12\n",
    "lr = 2e-4\n",
    "batch_size = 32\n",
    "\n",
    "name = \"classical-gan-1.5.2\"\n",
    "\n",
    "path = f\"saved/{name}\"\n",
    "datapath = path + \"/samples.npz\""
   ]
  },
  {
   "cell_type": "code",
   "execution_count": 3,
   "metadata": {},
   "outputs": [],
   "source": [
    "# Device configuration\n",
    "device = torch.device('cuda' if torch.cuda.is_available() else 'cpu')"
   ]
  },
  {
   "cell_type": "code",
   "execution_count": 4,
   "metadata": {},
   "outputs": [],
   "source": [
    "with np.load(datapath) as data:\n",
    "    real_samples = data[\"real_samples\"]\n",
    "    fake_samples_raw = data[\"fake_samples_raw\"]\n",
    "\n",
    "samples = np.concatenate((real_samples, fake_samples_raw))\n",
    "\n",
    "\n",
    "real_labels = np.repeat(REAL_LABEL, real_samples.shape[0])\n",
    "fake_labels = np.repeat(FAKE_LABEL, fake_samples_raw.shape[0])\n",
    "labels = np.concatenate((real_labels, fake_labels))\n",
    "\n",
    "X_train, X_rest, y_train, y_rest = train_test_split(\n",
    "    samples, labels, train_size = 0.6, shuffle = True, stratify = labels\n",
    ")\n",
    "\n",
    "X_valid, X_test, y_valid, y_test = train_test_split(\n",
    "    X_rest, y_rest, test_size = 0.5, shuffle = True, stratify = y_rest\n",
    ")\n",
    "\n",
    "X_train = torch.tensor(X_train, dtype=torch.float32, device=device)\n",
    "X_valid = torch.tensor(X_valid, dtype=torch.float32, device=device)\n",
    "X_test = torch.tensor(X_test, dtype=torch.float32, device=device)\n",
    "y_train = torch.tensor(y_train, dtype=torch.float32, device=device)\n",
    "y_valid = torch.tensor(y_valid, dtype=torch.float32, device=device)\n",
    "y_test = torch.tensor(y_test, dtype=torch.float32, device=device)\n",
    "\n",
    "\n",
    "data_loader = torch.utils.data.DataLoader(list(zip(X_train, y_train)), batch_size = batch_size, shuffle = True)\n",
    "\n"
   ]
  },
  {
   "cell_type": "code",
   "execution_count": 5,
   "metadata": {},
   "outputs": [],
   "source": [
    "def weights_init(m):\n",
    "    classname = m.__class__.__name__\n",
    "    if classname.find('Linear') != -1:\n",
    "        m.weight.data.normal_(0.0, 1.0)\n",
    "        m.bias.data.fill_(0.0)\n",
    "    elif classname.find('Conv') != -1:\n",
    "        m.weight.data.normal_(0.0, 0.02)\n",
    "    elif classname.find('BatchNorm') != -1:\n",
    "        m.weight.data.normal_(1.0, 0.02)\n",
    "        m.bias.data.fill_(0)"
   ]
  },
  {
   "cell_type": "code",
   "execution_count": 6,
   "metadata": {},
   "outputs": [],
   "source": [
    "class Evaluator(nn.Module):\n",
    "    def __init__(self):\n",
    "        super(Evaluator, self).__init__()\n",
    "        self.main = nn.Sequential(\n",
    "            nn.Linear(OUT_DIM, 16),\n",
    "            # nn.LeakyReLU(0.2),\n",
    "            # nn.Linear(32, 16),\n",
    "            nn.LeakyReLU(0.2),\n",
    "            nn.Linear(16, 8),\n",
    "            nn.LeakyReLU(0.2),\n",
    "            nn.Linear(8, 1),\n",
    "            nn.Sigmoid()\n",
    "        )\n",
    "    \n",
    "    def forward(self, input):\n",
    "        return self.main(input)"
   ]
  },
  {
   "cell_type": "code",
   "execution_count": 7,
   "metadata": {},
   "outputs": [
    {
     "name": "stdout",
     "output_type": "stream",
     "text": [
      "Evaluator(\n",
      "  (main): Sequential(\n",
      "    (0): Linear(in_features=4, out_features=16, bias=True)\n",
      "    (1): LeakyReLU(negative_slope=0.2)\n",
      "    (2): Linear(in_features=16, out_features=8, bias=True)\n",
      "    (3): LeakyReLU(negative_slope=0.2)\n",
      "    (4): Linear(in_features=8, out_features=1, bias=True)\n",
      "    (5): Sigmoid()\n",
      "  )\n",
      ")\n"
     ]
    }
   ],
   "source": [
    "netEv = Evaluator().to(device)\n",
    "netEv.apply(weights_init)\n",
    "\n",
    "optimizerEv = optim.Adam(netEv.parameters(), lr=lr, betas=(0.5, 0.999))\n",
    "print(netEv)"
   ]
  },
  {
   "cell_type": "code",
   "execution_count": 8,
   "metadata": {},
   "outputs": [],
   "source": [
    "loss = nn.BCELoss()\n",
    "\n",
    "optimizer = optim.Adam(netEv.parameters(), lr=lr, betas=(0.5, 0.999))"
   ]
  },
  {
   "cell_type": "code",
   "execution_count": 9,
   "metadata": {},
   "outputs": [
    {
     "name": "stdout",
     "output_type": "stream",
     "text": [
      "Starting the training loop\n",
      "[0/12][0/375]\tLoss train: 0.807\tLoss valid: 0.814\tLoss acc: 0.496\n",
      "[0/12][50/375]\tLoss train: 0.761\tLoss valid: 0.766\tLoss acc: 0.501\n",
      "[0/12][100/375]\tLoss train: 0.739\tLoss valid: 0.743\tLoss acc: 0.504\n",
      "[0/12][150/375]\tLoss train: 0.724\tLoss valid: 0.727\tLoss acc: 0.530\n",
      "[0/12][200/375]\tLoss train: 0.713\tLoss valid: 0.716\tLoss acc: 0.528\n",
      "[0/12][250/375]\tLoss train: 0.705\tLoss valid: 0.708\tLoss acc: 0.524\n",
      "[0/12][300/375]\tLoss train: 0.702\tLoss valid: 0.704\tLoss acc: 0.521\n",
      "[0/12][350/375]\tLoss train: 0.698\tLoss valid: 0.700\tLoss acc: 0.523\n",
      "[1/12][0/375]\tLoss train: 0.697\tLoss valid: 0.698\tLoss acc: 0.523\n",
      "[1/12][50/375]\tLoss train: 0.696\tLoss valid: 0.697\tLoss acc: 0.524\n",
      "[1/12][100/375]\tLoss train: 0.695\tLoss valid: 0.696\tLoss acc: 0.530\n",
      "[1/12][150/375]\tLoss train: 0.694\tLoss valid: 0.694\tLoss acc: 0.529\n",
      "[1/12][200/375]\tLoss train: 0.693\tLoss valid: 0.694\tLoss acc: 0.524\n",
      "[1/12][250/375]\tLoss train: 0.692\tLoss valid: 0.693\tLoss acc: 0.533\n",
      "[1/12][300/375]\tLoss train: 0.692\tLoss valid: 0.693\tLoss acc: 0.522\n",
      "[1/12][350/375]\tLoss train: 0.692\tLoss valid: 0.692\tLoss acc: 0.529\n",
      "[2/12][0/375]\tLoss train: 0.692\tLoss valid: 0.692\tLoss acc: 0.535\n",
      "[2/12][50/375]\tLoss train: 0.691\tLoss valid: 0.692\tLoss acc: 0.536\n",
      "[2/12][100/375]\tLoss train: 0.691\tLoss valid: 0.692\tLoss acc: 0.523\n",
      "[2/12][150/375]\tLoss train: 0.691\tLoss valid: 0.692\tLoss acc: 0.536\n",
      "[2/12][200/375]\tLoss train: 0.692\tLoss valid: 0.692\tLoss acc: 0.521\n",
      "[2/12][250/375]\tLoss train: 0.691\tLoss valid: 0.691\tLoss acc: 0.525\n",
      "[2/12][300/375]\tLoss train: 0.691\tLoss valid: 0.691\tLoss acc: 0.520\n",
      "[2/12][350/375]\tLoss train: 0.691\tLoss valid: 0.691\tLoss acc: 0.522\n",
      "[3/12][0/375]\tLoss train: 0.691\tLoss valid: 0.691\tLoss acc: 0.524\n",
      "[3/12][50/375]\tLoss train: 0.691\tLoss valid: 0.691\tLoss acc: 0.525\n",
      "[3/12][100/375]\tLoss train: 0.691\tLoss valid: 0.691\tLoss acc: 0.524\n",
      "[3/12][150/375]\tLoss train: 0.691\tLoss valid: 0.691\tLoss acc: 0.520\n",
      "[3/12][200/375]\tLoss train: 0.691\tLoss valid: 0.691\tLoss acc: 0.527\n",
      "[3/12][250/375]\tLoss train: 0.691\tLoss valid: 0.692\tLoss acc: 0.511\n",
      "[3/12][300/375]\tLoss train: 0.691\tLoss valid: 0.691\tLoss acc: 0.523\n",
      "[3/12][350/375]\tLoss train: 0.691\tLoss valid: 0.691\tLoss acc: 0.513\n",
      "[4/12][0/375]\tLoss train: 0.692\tLoss valid: 0.692\tLoss acc: 0.519\n",
      "[4/12][50/375]\tLoss train: 0.691\tLoss valid: 0.691\tLoss acc: 0.517\n",
      "[4/12][100/375]\tLoss train: 0.691\tLoss valid: 0.691\tLoss acc: 0.530\n",
      "[4/12][150/375]\tLoss train: 0.691\tLoss valid: 0.691\tLoss acc: 0.540\n",
      "[4/12][200/375]\tLoss train: 0.691\tLoss valid: 0.691\tLoss acc: 0.524\n",
      "[4/12][250/375]\tLoss train: 0.691\tLoss valid: 0.691\tLoss acc: 0.517\n",
      "[4/12][300/375]\tLoss train: 0.690\tLoss valid: 0.690\tLoss acc: 0.528\n",
      "[4/12][350/375]\tLoss train: 0.690\tLoss valid: 0.691\tLoss acc: 0.540\n",
      "[5/12][0/375]\tLoss train: 0.690\tLoss valid: 0.690\tLoss acc: 0.526\n",
      "[5/12][50/375]\tLoss train: 0.690\tLoss valid: 0.690\tLoss acc: 0.526\n",
      "[5/12][100/375]\tLoss train: 0.691\tLoss valid: 0.691\tLoss acc: 0.512\n",
      "[5/12][150/375]\tLoss train: 0.690\tLoss valid: 0.691\tLoss acc: 0.532\n",
      "[5/12][200/375]\tLoss train: 0.691\tLoss valid: 0.691\tLoss acc: 0.511\n",
      "[5/12][250/375]\tLoss train: 0.691\tLoss valid: 0.691\tLoss acc: 0.519\n",
      "[5/12][300/375]\tLoss train: 0.690\tLoss valid: 0.690\tLoss acc: 0.524\n",
      "[5/12][350/375]\tLoss train: 0.690\tLoss valid: 0.690\tLoss acc: 0.531\n",
      "[6/12][0/375]\tLoss train: 0.690\tLoss valid: 0.690\tLoss acc: 0.529\n",
      "[6/12][50/375]\tLoss train: 0.690\tLoss valid: 0.690\tLoss acc: 0.518\n",
      "[6/12][100/375]\tLoss train: 0.692\tLoss valid: 0.692\tLoss acc: 0.532\n",
      "[6/12][150/375]\tLoss train: 0.690\tLoss valid: 0.690\tLoss acc: 0.532\n",
      "[6/12][200/375]\tLoss train: 0.690\tLoss valid: 0.690\tLoss acc: 0.531\n",
      "[6/12][250/375]\tLoss train: 0.690\tLoss valid: 0.690\tLoss acc: 0.531\n",
      "[6/12][300/375]\tLoss train: 0.690\tLoss valid: 0.690\tLoss acc: 0.530\n",
      "[6/12][350/375]\tLoss train: 0.691\tLoss valid: 0.691\tLoss acc: 0.525\n",
      "[7/12][0/375]\tLoss train: 0.691\tLoss valid: 0.691\tLoss acc: 0.526\n",
      "[7/12][50/375]\tLoss train: 0.691\tLoss valid: 0.691\tLoss acc: 0.529\n",
      "[7/12][100/375]\tLoss train: 0.690\tLoss valid: 0.690\tLoss acc: 0.541\n",
      "[7/12][150/375]\tLoss train: 0.691\tLoss valid: 0.691\tLoss acc: 0.513\n",
      "[7/12][200/375]\tLoss train: 0.690\tLoss valid: 0.690\tLoss acc: 0.531\n",
      "[7/12][250/375]\tLoss train: 0.690\tLoss valid: 0.690\tLoss acc: 0.529\n",
      "[7/12][300/375]\tLoss train: 0.690\tLoss valid: 0.690\tLoss acc: 0.520\n",
      "[7/12][350/375]\tLoss train: 0.689\tLoss valid: 0.690\tLoss acc: 0.533\n",
      "[8/12][0/375]\tLoss train: 0.690\tLoss valid: 0.690\tLoss acc: 0.516\n",
      "[8/12][50/375]\tLoss train: 0.690\tLoss valid: 0.690\tLoss acc: 0.529\n",
      "[8/12][100/375]\tLoss train: 0.690\tLoss valid: 0.690\tLoss acc: 0.518\n",
      "[8/12][150/375]\tLoss train: 0.690\tLoss valid: 0.690\tLoss acc: 0.529\n",
      "[8/12][200/375]\tLoss train: 0.690\tLoss valid: 0.690\tLoss acc: 0.531\n",
      "[8/12][250/375]\tLoss train: 0.690\tLoss valid: 0.690\tLoss acc: 0.526\n",
      "[8/12][300/375]\tLoss train: 0.689\tLoss valid: 0.689\tLoss acc: 0.519\n",
      "[8/12][350/375]\tLoss train: 0.690\tLoss valid: 0.690\tLoss acc: 0.512\n",
      "[9/12][0/375]\tLoss train: 0.690\tLoss valid: 0.690\tLoss acc: 0.512\n",
      "[9/12][50/375]\tLoss train: 0.689\tLoss valid: 0.689\tLoss acc: 0.516\n",
      "[9/12][100/375]\tLoss train: 0.689\tLoss valid: 0.689\tLoss acc: 0.535\n",
      "[9/12][150/375]\tLoss train: 0.691\tLoss valid: 0.691\tLoss acc: 0.526\n",
      "[9/12][200/375]\tLoss train: 0.690\tLoss valid: 0.690\tLoss acc: 0.531\n",
      "[9/12][250/375]\tLoss train: 0.690\tLoss valid: 0.689\tLoss acc: 0.512\n",
      "[9/12][300/375]\tLoss train: 0.689\tLoss valid: 0.689\tLoss acc: 0.538\n",
      "[9/12][350/375]\tLoss train: 0.689\tLoss valid: 0.689\tLoss acc: 0.512\n",
      "[10/12][0/375]\tLoss train: 0.690\tLoss valid: 0.690\tLoss acc: 0.517\n",
      "[10/12][50/375]\tLoss train: 0.689\tLoss valid: 0.689\tLoss acc: 0.531\n",
      "[10/12][100/375]\tLoss train: 0.689\tLoss valid: 0.689\tLoss acc: 0.536\n",
      "[10/12][150/375]\tLoss train: 0.689\tLoss valid: 0.689\tLoss acc: 0.513\n",
      "[10/12][200/375]\tLoss train: 0.690\tLoss valid: 0.689\tLoss acc: 0.532\n",
      "[10/12][250/375]\tLoss train: 0.689\tLoss valid: 0.689\tLoss acc: 0.537\n",
      "[10/12][300/375]\tLoss train: 0.689\tLoss valid: 0.689\tLoss acc: 0.533\n",
      "[10/12][350/375]\tLoss train: 0.690\tLoss valid: 0.689\tLoss acc: 0.521\n",
      "[11/12][0/375]\tLoss train: 0.689\tLoss valid: 0.689\tLoss acc: 0.519\n",
      "[11/12][50/375]\tLoss train: 0.689\tLoss valid: 0.689\tLoss acc: 0.532\n",
      "[11/12][100/375]\tLoss train: 0.689\tLoss valid: 0.689\tLoss acc: 0.535\n",
      "[11/12][150/375]\tLoss train: 0.689\tLoss valid: 0.689\tLoss acc: 0.526\n",
      "[11/12][200/375]\tLoss train: 0.689\tLoss valid: 0.689\tLoss acc: 0.536\n",
      "[11/12][250/375]\tLoss train: 0.689\tLoss valid: 0.688\tLoss acc: 0.542\n",
      "[11/12][300/375]\tLoss train: 0.689\tLoss valid: 0.689\tLoss acc: 0.532\n",
      "[11/12][350/375]\tLoss train: 0.689\tLoss valid: 0.688\tLoss acc: 0.540\n"
     ]
    }
   ],
   "source": [
    "valid_losses = []\n",
    "train_losses = []\n",
    "iters = 0\n",
    "\n",
    "netEv.train()\n",
    "\n",
    "print(\"Starting the training loop\")\n",
    "for epoch in range(n_epoch):\n",
    "    for i, data in enumerate(data_loader):\n",
    "        netEv.zero_grad()\n",
    "        X_batch = data[0].to(device)\n",
    "        y_batch = data[1].to(device)\n",
    "        prediction_batch = netEv(X_batch).view(-1)\n",
    "        err = loss(prediction_batch, y_batch)\n",
    "        err.backward()\n",
    "        optimizer.step()\n",
    "\n",
    "        if i%50 == 0:\n",
    "            netEv.eval()\n",
    "            with torch.no_grad():\n",
    "                prediction_valid = netEv(X_valid).view(-1)\n",
    "                prediction_train = netEv(X_train).view(-1)\n",
    "            train_loss = loss(prediction_train, y_train).item()\n",
    "            valid_loss = loss(prediction_valid, y_valid).item()\n",
    "            train_losses.append(train_loss)\n",
    "            valid_losses.append(valid_loss)\n",
    "            valid_acc  = torch.isclose(torch.round(prediction_valid), y_valid).sum().item()/len(y_valid)\n",
    "            netEv.train()\n",
    "\n",
    "            print(\n",
    "                f\"[{epoch}/{n_epoch}][{i}/{len(data_loader)}]\\tLoss train: {train_loss:.3f}\\tLoss valid: {valid_loss:.3f}\\tLoss acc: {valid_acc:.3f}\"\n",
    "            )"
   ]
  },
  {
   "cell_type": "code",
   "execution_count": 10,
   "metadata": {},
   "outputs": [
    {
     "data": {
      "text/plain": [
       "<matplotlib.legend.Legend at 0x775652f68910>"
      ]
     },
     "execution_count": 10,
     "metadata": {},
     "output_type": "execute_result"
    },
    {
     "data": {
      "image/png": "[encoded data removed]",
      "text/plain": [
       "<Figure size 640x480 with 1 Axes>"
      ]
     },
     "metadata": {},
     "output_type": "display_data"
    }
   ],
   "source": [
    "fig, ax = plt.subplots()\n",
    "ax.plot(train_losses, label=\"train\")\n",
    "ax.plot(valid_losses, label=\"valid\")\n",
    "ax.set(xlabel=\"iterations\", ylabel=\"loss\")\n",
    "ax.legend()"
   ]
  },
  {
   "cell_type": "code",
   "execution_count": 11,
   "metadata": {},
   "outputs": [
    {
     "name": "stdout",
     "output_type": "stream",
     "text": [
      "Test accuracy: 0.551\n"
     ]
    }
   ],
   "source": [
    "netEv.eval()\n",
    "\n",
    "with torch.no_grad():\n",
    "    prediction_test = netEv(X_test).view(-1)\n",
    "\n",
    "test_acc = torch.isclose(torch.round(prediction_test), y_test).sum().item() / len(y_test)\n",
    "\n",
    "print(f\"Test accuracy: {test_acc}\")"
   ]
  },
  {
   "cell_type": "code",
   "execution_count": 12,
   "metadata": {},
   "outputs": [
    {
     "data": {
      "image/png": "[encoded data removed]",
      "text/plain": [
       "<Figure size 640x480 with 1 Axes>"
      ]
     },
     "metadata": {},
     "output_type": "display_data"
    }
   ],
   "source": [
    "true_indices = y_test.isclose(torch.tensor(1.0))\n",
    "fake_indices = y_test.isclose(torch.tensor(0.0))\n",
    "\n",
    "pred_true = prediction_test[true_indices]\n",
    "pred_fake = prediction_test[fake_indices]\n",
    "\n",
    "fig, ax = plt.subplots()\n",
    "ax.hist(pred_true.cpu(), bins = 50, range=(0, 1), color = plt.cm.tab10(0), alpha=0.5, label=\"true\")\n",
    "ax.hist(pred_fake.cpu(), bins = 50, range=(0, 1), color = plt.cm.tab10(1), alpha=0.5, label=\"generated\")\n",
    "ax.legend()\n",
    "\n",
    "None"
   ]
  },
  {
   "cell_type": "code",
   "execution_count": null,
   "metadata": {},
   "outputs": [],
   "source": []
  }
 ],
 "metadata": {
  "kernelspec": {
   "display_name": "Python 3 (ipykernel)",
   "language": "python",
   "name": "python3"
  },
  "language_info": {
   "codemirror_mode": {
    "name": "ipython",
    "version": 3
   },
   "file_extension": ".py",
   "mimetype": "text/x-python",
   "name": "python",
   "nbconvert_exporter": "python",
   "pygments_lexer": "ipython3",
   "version": "3.11.7"
  }
 },
 "nbformat": 4,
 "nbformat_minor": 4
}
