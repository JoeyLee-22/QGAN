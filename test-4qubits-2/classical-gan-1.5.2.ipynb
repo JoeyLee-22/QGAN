{
 "cells": [
  {
   "cell_type": "code",
   "execution_count": 1,
   "metadata": {},
   "outputs": [],
   "source": [
    "import os\n",
    "import numpy as np\n",
    "import matplotlib.pyplot as plt\n",
    "import json\n",
    "import torch\n",
    "import torch.nn as nn\n",
    "import torch.utils.data\n",
    "import torch.optim as optim"
   ]
  },
  {
   "cell_type": "code",
   "execution_count": 2,
   "metadata": {},
   "outputs": [],
   "source": [
    "Z_DIM = 6\n",
    "OUT_DIM = 4\n",
    "REAL_LABEL = 1\n",
    "FAKE_LABEL = 0\n",
    "n_epoch = 25\n",
    "lr = 6e-4\n",
    "batch_size = 64\n",
    "\n",
    "d_lr = lr\n",
    "g_lr = lr\n",
    "\n",
    "seed = 42\n",
    "\n",
    "name = \"classical-gan-1.5.2\"\n",
    "\n",
    "save_folder = f\"saved/{name}\"\n",
    "\n",
    "data_path = \"dataset/dataset.npy\""
   ]
  },
  {
   "cell_type": "code",
   "execution_count": 3,
   "metadata": {},
   "outputs": [],
   "source": [
    "## some code to prevent the the output from being saved to the wrong directory\n",
    "\n",
    "if globals().get(\"__file__\") and os.path.basename(globals[\"__file__\"]) != name + \".py\":\n",
    "    raise UserWarning(\"The 'name' variable does not match the file name.\")\n",
    "if globals().get(\"__vsc_ipynb_file__\") and os.path.basename(globals().get(\"__vsc_ipynb_file__\")) != name + \".ipynb\":\n",
    "    raise UserWarning(\"The 'name' variable does not match the file name.\")"
   ]
  },
  {
   "cell_type": "code",
   "execution_count": 4,
   "metadata": {},
   "outputs": [
    {
     "name": "stdout",
     "output_type": "stream",
     "text": [
      "This notebook may overwrite previous results in the saved/classical-gan-1.5.2 directory\n"
     ]
    }
   ],
   "source": [
    "if os.path.exists(save_folder):\n",
    "    print(f\"This notebook may overwrite previous results in the {save_folder} directory\")\n",
    "else:\n",
    "    os.makedirs(save_folder)\n",
    "\n",
    "rng = np.random.default_rng()\n",
    "\n",
    "# Device configuration\n",
    "device = torch.device('cuda' if torch.cuda.is_available() else 'cpu')\n",
    "\n",
    "# torch.manual_seed(seed)\n",
    "# torch.use_deterministic_algorithms(True) "
   ]
  },
  {
   "cell_type": "code",
   "execution_count": 5,
   "metadata": {},
   "outputs": [
    {
     "data": {
      "text/plain": [
       "array([[0, 0, 0, 1],\n",
       "       [0, 0, 0, 1],\n",
       "       [0, 0, 0, 1],\n",
       "       ...,\n",
       "       [1, 0, 1, 1],\n",
       "       [1, 0, 1, 1],\n",
       "       [1, 0, 1, 1]])"
      ]
     },
     "execution_count": 5,
     "metadata": {},
     "output_type": "execute_result"
    }
   ],
   "source": [
    "np.load(data_path)"
   ]
  },
  {
   "cell_type": "code",
   "execution_count": 6,
   "metadata": {},
   "outputs": [],
   "source": [
    "data_true = np.load(data_path)\n",
    "rng.shuffle(data_true)\n",
    "data_true = torch.tensor(data_true, dtype = torch.float32, device=device, requires_grad=False)\n",
    "data_loader = torch.utils.data.DataLoader(data_true, batch_size=batch_size, shuffle = True)"
   ]
  },
  {
   "cell_type": "code",
   "execution_count": 7,
   "metadata": {},
   "outputs": [
    {
     "data": {
      "text/plain": [
       "<matplotlib.image.AxesImage at 0x7ff285b8e650>"
      ]
     },
     "execution_count": 7,
     "metadata": {},
     "output_type": "execute_result"
    },
    {
     "data": {
      "image/png": "[encoded data removed]",
      "text/plain": [
       "<Figure size 640x480 with 1 Axes>"
      ]
     },
     "metadata": {},
     "output_type": "display_data"
    }
   ],
   "source": [
    "real_batch = next(iter(data_loader))\n",
    "real_sample_one = real_batch[0]\n",
    "plt.figure()\n",
    "plt.axis(\"off\")\n",
    "plt.imshow(real_sample_one.reshape(2, 2).cpu(), cmap=\"binary\")"
   ]
  },
  {
   "cell_type": "code",
   "execution_count": 8,
   "metadata": {},
   "outputs": [],
   "source": [
    "def weights_init(m):\n",
    "    classname = m.__class__.__name__\n",
    "    if classname.find('Linear') != -1:\n",
    "        m.weight.data.normal_(0.0, 0.5)\n",
    "        m.bias.data.uniform_(-0.3, 0.3)\n",
    "    elif classname.find('Conv') != -1:\n",
    "        m.weight.data.normal_(0.0, 0.02)\n",
    "    elif classname.find('BatchNorm') != -1:\n",
    "        m.weight.data.normal_(1.0, 0.02)\n",
    "        m.bias.data.fill_(0)"
   ]
  },
  {
   "cell_type": "code",
   "execution_count": 9,
   "metadata": {},
   "outputs": [],
   "source": [
    "class Generator(nn.Module):\n",
    "    def __init__(self):\n",
    "        super(Generator, self).__init__()\n",
    "        self.main = nn.Sequential(\n",
    "            nn.Linear(Z_DIM, 8),\n",
    "            nn.LeakyReLU(0.2),\n",
    "            nn.Linear(8, 12),\n",
    "            nn.LeakyReLU(0.2),\n",
    "            nn.Linear(12, OUT_DIM),\n",
    "            nn.Sigmoid()\n",
    "        )\n",
    "    \n",
    "    def forward(self, input):\n",
    "        return self.main(input)"
   ]
  },
  {
   "cell_type": "code",
   "execution_count": 10,
   "metadata": {},
   "outputs": [],
   "source": [
    "class Discriminator(nn.Module):\n",
    "    def __init__(self):\n",
    "        super(Discriminator, self).__init__()\n",
    "        self.main = nn.Sequential(\n",
    "            nn.Linear(OUT_DIM, 12),\n",
    "            nn.LeakyReLU(0.2),\n",
    "            # nn.Linear(16, 8),\n",
    "            # nn.LeakyReLU(0.2),\n",
    "            nn.Linear(12, 6),\n",
    "            nn.LeakyReLU(0.2),\n",
    "            nn.Linear(6, 1),\n",
    "            nn.Sigmoid()\n",
    "        )\n",
    "    \n",
    "    def forward(self, input):\n",
    "        return self.main(input)"
   ]
  },
  {
   "cell_type": "code",
   "execution_count": 11,
   "metadata": {},
   "outputs": [
    {
     "name": "stdout",
     "output_type": "stream",
     "text": [
      "Generator(\n",
      "  (main): Sequential(\n",
      "    (0): Linear(in_features=6, out_features=8, bias=True)\n",
      "    (1): LeakyReLU(negative_slope=0.2)\n",
      "    (2): Linear(in_features=8, out_features=12, bias=True)\n",
      "    (3): LeakyReLU(negative_slope=0.2)\n",
      "    (4): Linear(in_features=12, out_features=4, bias=True)\n",
      "    (5): Sigmoid()\n",
      "  )\n",
      ")\n",
      "Discriminator(\n",
      "  (main): Sequential(\n",
      "    (0): Linear(in_features=4, out_features=12, bias=True)\n",
      "    (1): LeakyReLU(negative_slope=0.2)\n",
      "    (2): Linear(in_features=12, out_features=6, bias=True)\n",
      "    (3): LeakyReLU(negative_slope=0.2)\n",
      "    (4): Linear(in_features=6, out_features=1, bias=True)\n",
      "    (5): Sigmoid()\n",
      "  )\n",
      ")\n"
     ]
    }
   ],
   "source": [
    "# Create the generator\n",
    "netG = Generator().to(device)\n",
    "netG.apply(weights_init)\n",
    "print(netG)\n",
    "\n",
    "# Create the discriminator\n",
    "netD = Discriminator().to(device)\n",
    "netD.apply(weights_init)\n",
    "print(netD)"
   ]
  },
  {
   "cell_type": "code",
   "execution_count": 12,
   "metadata": {},
   "outputs": [],
   "source": [
    "# Initialize BCELoss function\n",
    "criterion = nn.BCELoss()\n",
    "\n",
    "# Setup Adam optimizers for both G and D\n",
    "optimizerD = optim.Adam(netD.parameters(), lr=d_lr, betas=(0.5, 0.999))\n",
    "optimizerG = optim.Adam(netG.parameters(), lr=g_lr, betas=(0.5, 0.999))"
   ]
  },
  {
   "cell_type": "code",
   "execution_count": 13,
   "metadata": {},
   "outputs": [
    {
     "name": "stdout",
     "output_type": "stream",
     "text": [
      "tensor([[-0.3962,  0.6266,  0.2718,  0.4560],\n",
      "        [-0.1448,  0.0756,  0.8639, -0.0624],\n",
      "        [-0.3305, -0.1755,  0.0025,  0.4418],\n",
      "        [-0.5853,  1.1329,  0.1238,  0.7562],\n",
      "        [-0.0550, -0.6903,  0.0742, -0.4970],\n",
      "        [ 0.2564,  0.3609, -0.0420, -0.1776],\n",
      "        [ 0.3374, -0.2222, -0.3660, -0.4533],\n",
      "        [-0.0111,  0.1135, -0.3948, -1.0342],\n",
      "        [ 0.1003,  0.1621, -0.0456, -0.9607],\n",
      "        [-0.1384,  0.0531,  0.0332, -0.4279],\n",
      "        [ 0.5383, -0.8107,  0.8531, -0.6047],\n",
      "        [ 0.3690, -0.1988, -0.5517,  0.3344]], device='cuda:0')\n",
      "tensor([-0.1805, -0.0049,  0.2629,  0.2147,  0.0625,  0.2254,  0.1275, -0.0367,\n",
      "         0.0361, -0.0058,  0.1367,  0.0659], device='cuda:0')\n",
      "tensor([[-0.5105, -0.4889,  0.0859, -0.1302, -0.4537,  0.1812,  0.1812, -0.0386,\n",
      "         -0.3859,  1.0114,  0.0257, -0.2654],\n",
      "        [ 0.6947,  0.8530,  1.3751,  0.5315, -0.6806, -0.3089,  0.0710,  0.1826,\n",
      "          0.7652, -0.4544, -0.1220, -0.6275],\n",
      "        [ 0.1165, -0.2941, -0.4939, -0.2163,  0.0962, -0.1547,  0.1021, -0.1795,\n",
      "          0.1121,  0.3540, -0.8793, -0.5520],\n",
      "        [-0.1813, -0.3229,  0.3399, -0.7032,  0.3635,  0.9085,  0.1799,  0.1445,\n",
      "          0.6474, -0.0737, -0.3509, -0.4388],\n",
      "        [-0.4373, -0.0866, -0.3297,  1.1119, -0.3017,  0.6055, -0.0474, -0.4474,\n",
      "         -0.4152,  0.2902,  0.4415, -0.4067],\n",
      "        [ 0.4598, -0.4588,  0.3489, -0.0844,  0.3787, -0.1257,  0.5724,  0.1375,\n",
      "         -0.5061, -0.6248,  0.5106,  0.6285]], device='cuda:0')\n",
      "tensor([-0.2225, -0.1215, -0.2826, -0.1615,  0.1213, -0.0626], device='cuda:0')\n",
      "tensor([[ 0.6114,  0.2280,  0.0376, -0.4165,  0.1551, -0.7928]],\n",
      "       device='cuda:0')\n",
      "tensor([-0.0608], device='cuda:0')\n"
     ]
    }
   ],
   "source": [
    "for param in netD.parameters():\n",
    "    print(param.data)"
   ]
  },
  {
   "cell_type": "code",
   "execution_count": 14,
   "metadata": {},
   "outputs": [
    {
     "name": "stdout",
     "output_type": "stream",
     "text": [
      "tensor([[-1.0780,  0.3539,  0.3229,  0.3784,  0.0623, -0.0184],\n",
      "        [-0.1677,  0.1400, -0.2780, -0.7249, -0.5781, -0.1599],\n",
      "        [ 0.2925, -0.6007, -0.2782,  0.5046,  0.2611, -0.4085],\n",
      "        [-0.5997, -0.0407, -0.2341,  0.0555,  0.5833,  0.1071],\n",
      "        [ 0.1895, -0.0530, -0.8841, -0.4573, -0.7625, -0.2015],\n",
      "        [-0.7318, -0.4455,  0.0471,  0.0470,  0.3046, -0.5526],\n",
      "        [ 0.1000,  0.9424,  0.9669,  0.2987, -0.1658, -0.2665],\n",
      "        [ 0.6765, -0.1471, -0.8259, -0.2270,  0.1368,  0.0287]],\n",
      "       device='cuda:0')\n",
      "tensor([ 0.1653, -0.1849, -0.1849, -0.1217,  0.0278, -0.1234,  0.1881,  0.1505],\n",
      "       device='cuda:0')\n",
      "tensor([[-0.2423,  0.4113,  0.3815,  0.6715, -0.8923,  0.4068, -0.3119,  0.0188],\n",
      "        [ 0.6698, -0.2489,  0.4162,  1.0629, -0.5570, -0.4356, -0.0550,  0.1405],\n",
      "        [-0.1616,  0.5875, -0.6942,  0.1947, -1.1313,  0.0387, -0.8194,  0.7886],\n",
      "        [ 0.3962,  0.3733,  0.4519,  0.2357,  0.1641,  0.2993,  0.3016,  0.2220],\n",
      "        [-0.3877,  0.3228,  0.2228,  0.1726, -0.5097,  0.1097,  0.1331, -0.0654],\n",
      "        [ 0.2970, -0.5643,  0.6183,  0.7784, -0.7980,  0.4631,  0.4484,  0.5046],\n",
      "        [ 0.4090,  0.1640,  0.1241, -0.3464, -0.7690, -0.0322,  0.0556,  0.0608],\n",
      "        [ 0.0165,  0.2690, -0.4687,  0.0772,  0.1267,  0.9453, -0.1890,  0.1240],\n",
      "        [-0.5579, -0.2716, -0.1112,  0.6592,  0.4627,  0.2520,  0.5092, -0.1487],\n",
      "        [-0.0259, -0.5632, -0.3731,  0.0209, -0.5104,  0.4468,  0.1750,  0.2389],\n",
      "        [-0.2234, -0.0084, -1.1412, -0.2163, -0.5697, -0.2877, -0.3583,  0.0554],\n",
      "        [ 0.5339, -0.0584,  0.1978,  0.1199, -0.0347, -0.4446,  0.4175, -0.2430]],\n",
      "       device='cuda:0')\n",
      "tensor([ 0.1291,  0.1189, -0.2129,  0.2878, -0.1867,  0.1355,  0.1021, -0.2796,\n",
      "        -0.1427,  0.2960,  0.1607,  0.2588], device='cuda:0')\n",
      "tensor([[ 0.0809, -0.6339,  0.4125, -0.6721, -0.2563,  0.8993, -0.5681,  0.6115,\n",
      "         -0.3941,  0.1077, -0.6835,  1.0187],\n",
      "        [ 0.3713, -0.3967, -0.5163, -0.2252, -0.5797, -0.0608, -0.4789, -0.3374,\n",
      "          0.0929, -0.8728, -0.5167,  0.1552],\n",
      "        [ 0.3972, -0.0102, -0.4053,  0.6388,  0.4238, -0.1184, -0.4751, -0.5218,\n",
      "         -0.1390, -0.1745, -1.4011, -0.1795],\n",
      "        [-0.0388,  0.3173,  0.4894,  0.7734, -0.2924,  0.7882,  0.0795,  0.3787,\n",
      "          0.5901,  0.2404, -0.1831, -0.2876]], device='cuda:0')\n",
      "tensor([ 0.0203,  0.2411, -0.2512, -0.0352], device='cuda:0')\n"
     ]
    }
   ],
   "source": [
    "for param in netG.parameters():\n",
    "    print(param.data)"
   ]
  },
  {
   "cell_type": "code",
   "execution_count": 15,
   "metadata": {},
   "outputs": [
    {
     "name": "stdout",
     "output_type": "stream",
     "text": [
      "Starting Training Loop...\n",
      "[0/25][0/320]\tLossD: 1.5954\tLossG: 0.5671\tD(x): 0.4763\tD(G(x)): 0.5694\n",
      "[0/25][50/320]\tLossD: 1.5439\tLossG: 0.5710\tD(x): 0.4941\tD(G(x)): 0.5656\n",
      "[0/25][100/320]\tLossD: 1.4750\tLossG: 0.6242\tD(x): 0.4946\tD(G(x)): 0.5359\n",
      "[0/25][150/320]\tLossD: 1.4173\tLossG: 0.6758\tD(x): 0.4945\tD(G(x)): 0.5088\n",
      "[0/25][200/320]\tLossD: 1.3612\tLossG: 0.7225\tD(x): 0.4999\tD(G(x)): 0.4856\n",
      "[0/25][250/320]\tLossD: 1.2046\tLossG: 0.7595\tD(x): 0.5716\tD(G(x)): 0.4679\n",
      "[0/25][300/320]\tLossD: 1.0750\tLossG: 0.7788\tD(x): 0.6461\tD(G(x)): 0.4603\n",
      "[1/25][0/320]\tLossD: 1.1028\tLossG: 0.7481\tD(x): 0.6648\tD(G(x)): 0.4808\n",
      "[1/25][50/320]\tLossD: 1.4292\tLossG: 0.6596\tD(x): 0.5301\tD(G(x)): 0.5245\n",
      "[1/25][100/320]\tLossD: 1.4807\tLossG: 0.6842\tD(x): 0.4723\tD(G(x)): 0.5058\n",
      "[1/25][150/320]\tLossD: 1.4626\tLossG: 0.7471\tD(x): 0.4431\tD(G(x)): 0.4739\n",
      "[1/25][200/320]\tLossD: 1.3980\tLossG: 0.7826\tD(x): 0.4555\tD(G(x)): 0.4572\n",
      "[1/25][250/320]\tLossD: 1.3207\tLossG: 0.8144\tD(x): 0.4819\tD(G(x)): 0.4430\n",
      "[1/25][300/320]\tLossD: 1.3416\tLossG: 0.7552\tD(x): 0.5025\tD(G(x)): 0.4717\n",
      "[2/25][0/320]\tLossD: 1.3565\tLossG: 0.7522\tD(x): 0.4966\tD(G(x)): 0.4732\n",
      "[2/25][50/320]\tLossD: 1.3692\tLossG: 0.7269\tD(x): 0.4963\tD(G(x)): 0.4839\n",
      "[2/25][100/320]\tLossD: 1.3705\tLossG: 0.7205\tD(x): 0.4957\tD(G(x)): 0.4868\n",
      "[2/25][150/320]\tLossD: 1.2941\tLossG: 0.7430\tD(x): 0.5271\tD(G(x)): 0.4765\n",
      "[2/25][200/320]\tLossD: 1.3467\tLossG: 0.7448\tD(x): 0.5024\tD(G(x)): 0.4765\n",
      "[2/25][250/320]\tLossD: 1.3429\tLossG: 0.7478\tD(x): 0.4997\tD(G(x)): 0.4737\n",
      "[2/25][300/320]\tLossD: 1.3341\tLossG: 0.7492\tD(x): 0.5015\tD(G(x)): 0.4729\n",
      "[3/25][0/320]\tLossD: 1.3012\tLossG: 0.7558\tD(x): 0.5179\tD(G(x)): 0.4699\n",
      "[3/25][50/320]\tLossD: 1.3267\tLossG: 0.7099\tD(x): 0.5277\tD(G(x)): 0.4931\n",
      "[3/25][100/320]\tLossD: 1.3351\tLossG: 0.6921\tD(x): 0.5308\tD(G(x)): 0.5016\n",
      "[3/25][150/320]\tLossD: 1.3230\tLossG: 0.7016\tD(x): 0.5308\tD(G(x)): 0.4965\n",
      "[3/25][200/320]\tLossD: 1.3184\tLossG: 0.7161\tD(x): 0.5264\tD(G(x)): 0.4895\n",
      "[3/25][250/320]\tLossD: 1.3260\tLossG: 0.7144\tD(x): 0.5225\tD(G(x)): 0.4903\n",
      "[3/25][300/320]\tLossD: 1.3339\tLossG: 0.7218\tD(x): 0.5144\tD(G(x)): 0.4865\n",
      "[4/25][0/320]\tLossD: 1.3293\tLossG: 0.7260\tD(x): 0.5151\tD(G(x)): 0.4847\n",
      "[4/25][50/320]\tLossD: 1.3322\tLossG: 0.7315\tD(x): 0.5099\tD(G(x)): 0.4821\n",
      "[4/25][100/320]\tLossD: 1.3313\tLossG: 0.7236\tD(x): 0.5151\tD(G(x)): 0.4860\n",
      "[4/25][150/320]\tLossD: 1.3254\tLossG: 0.7312\tD(x): 0.5135\tD(G(x)): 0.4822\n",
      "[4/25][200/320]\tLossD: 1.3281\tLossG: 0.7304\tD(x): 0.5116\tD(G(x)): 0.4824\n",
      "[4/25][250/320]\tLossD: 1.3299\tLossG: 0.7141\tD(x): 0.5190\tD(G(x)): 0.4903\n",
      "[4/25][300/320]\tLossD: 1.3334\tLossG: 0.7076\tD(x): 0.5214\tD(G(x)): 0.4939\n",
      "[5/25][0/320]\tLossD: 1.3289\tLossG: 0.7230\tD(x): 0.5184\tD(G(x)): 0.4863\n",
      "[5/25][50/320]\tLossD: 1.3245\tLossG: 0.7151\tD(x): 0.5249\tD(G(x)): 0.4902\n",
      "[5/25][100/320]\tLossD: 1.3390\tLossG: 0.7230\tD(x): 0.5138\tD(G(x)): 0.4865\n",
      "[5/25][150/320]\tLossD: 1.3290\tLossG: 0.7239\tD(x): 0.5199\tD(G(x)): 0.4860\n",
      "[5/25][200/320]\tLossD: 1.3156\tLossG: 0.7199\tD(x): 0.5273\tD(G(x)): 0.4889\n",
      "[5/25][250/320]\tLossD: 1.3235\tLossG: 0.7178\tD(x): 0.5247\tD(G(x)): 0.4904\n",
      "[5/25][300/320]\tLossD: 1.3474\tLossG: 0.7203\tD(x): 0.5142\tD(G(x)): 0.4903\n",
      "[6/25][0/320]\tLossD: 1.3488\tLossG: 0.6987\tD(x): 0.5200\tD(G(x)): 0.4988\n",
      "[6/25][50/320]\tLossD: 1.3464\tLossG: 0.7068\tD(x): 0.5152\tD(G(x)): 0.4941\n",
      "[6/25][100/320]\tLossD: 1.3554\tLossG: 0.6982\tD(x): 0.5148\tD(G(x)): 0.4982\n",
      "[6/25][150/320]\tLossD: 1.3238\tLossG: 0.7309\tD(x): 0.5163\tD(G(x)): 0.4834\n",
      "[6/25][200/320]\tLossD: 1.3459\tLossG: 0.7141\tD(x): 0.5120\tD(G(x)): 0.4908\n",
      "[6/25][250/320]\tLossD: 1.3244\tLossG: 0.7336\tD(x): 0.5173\tD(G(x)): 0.4841\n",
      "[6/25][300/320]\tLossD: 1.3190\tLossG: 0.7506\tD(x): 0.5129\tD(G(x)): 0.4754\n",
      "[7/25][0/320]\tLossD: 1.3331\tLossG: 0.7390\tD(x): 0.5068\tD(G(x)): 0.4807\n",
      "[7/25][50/320]\tLossD: 1.3500\tLossG: 0.7079\tD(x): 0.5137\tD(G(x)): 0.4946\n",
      "[7/25][100/320]\tLossD: 1.3328\tLossG: 0.7323\tD(x): 0.5133\tD(G(x)): 0.4861\n",
      "[7/25][150/320]\tLossD: 1.3315\tLossG: 0.7270\tD(x): 0.5157\tD(G(x)): 0.4862\n",
      "[7/25][200/320]\tLossD: 1.3390\tLossG: 0.7263\tD(x): 0.5149\tD(G(x)): 0.4865\n",
      "[7/25][250/320]\tLossD: 1.3377\tLossG: 0.7260\tD(x): 0.5115\tD(G(x)): 0.4861\n",
      "[7/25][300/320]\tLossD: 1.3570\tLossG: 0.7198\tD(x): 0.5048\tD(G(x)): 0.4901\n",
      "[8/25][0/320]\tLossD: 1.3230\tLossG: 0.7489\tD(x): 0.5123\tD(G(x)): 0.4771\n",
      "[8/25][50/320]\tLossD: 1.3488\tLossG: 0.7216\tD(x): 0.5116\tD(G(x)): 0.4888\n",
      "[8/25][100/320]\tLossD: 1.3178\tLossG: 0.7631\tD(x): 0.5134\tD(G(x)): 0.4739\n",
      "[8/25][150/320]\tLossD: 1.3183\tLossG: 0.7690\tD(x): 0.5100\tD(G(x)): 0.4716\n",
      "[8/25][200/320]\tLossD: 1.3417\tLossG: 0.7259\tD(x): 0.5113\tD(G(x)): 0.4870\n",
      "[8/25][250/320]\tLossD: 1.3380\tLossG: 0.7300\tD(x): 0.5131\tD(G(x)): 0.4849\n",
      "[8/25][300/320]\tLossD: 1.3451\tLossG: 0.7170\tD(x): 0.5155\tD(G(x)): 0.4913\n",
      "[9/25][0/320]\tLossD: 1.3092\tLossG: 0.7632\tD(x): 0.5127\tD(G(x)): 0.4712\n",
      "[9/25][50/320]\tLossD: 1.3498\tLossG: 0.7249\tD(x): 0.5107\tD(G(x)): 0.4887\n",
      "[9/25][100/320]\tLossD: 1.3473\tLossG: 0.7123\tD(x): 0.5124\tD(G(x)): 0.4927\n",
      "[9/25][150/320]\tLossD: 1.3430\tLossG: 0.7411\tD(x): 0.5024\tD(G(x)): 0.4785\n",
      "[9/25][200/320]\tLossD: 1.3232\tLossG: 0.7668\tD(x): 0.5089\tD(G(x)): 0.4737\n",
      "[9/25][250/320]\tLossD: 1.3536\tLossG: 0.7187\tD(x): 0.5104\tD(G(x)): 0.4914\n",
      "[9/25][300/320]\tLossD: 1.3516\tLossG: 0.7128\tD(x): 0.5139\tD(G(x)): 0.4923\n",
      "[10/25][0/320]\tLossD: 1.3290\tLossG: 0.7505\tD(x): 0.5082\tD(G(x)): 0.4766\n",
      "[10/25][50/320]\tLossD: 1.3418\tLossG: 0.7326\tD(x): 0.5107\tD(G(x)): 0.4882\n",
      "[10/25][100/320]\tLossD: 1.3429\tLossG: 0.7204\tD(x): 0.5109\tD(G(x)): 0.4892\n",
      "[10/25][150/320]\tLossD: 1.3318\tLossG: 0.7595\tD(x): 0.5091\tD(G(x)): 0.4757\n",
      "[10/25][200/320]\tLossD: 1.3539\tLossG: 0.7081\tD(x): 0.5209\tD(G(x)): 0.4970\n",
      "[10/25][250/320]\tLossD: 1.3519\tLossG: 0.7170\tD(x): 0.5121\tD(G(x)): 0.4949\n",
      "[10/25][300/320]\tLossD: 1.3500\tLossG: 0.7231\tD(x): 0.5118\tD(G(x)): 0.4895\n",
      "[11/25][0/320]\tLossD: 1.3497\tLossG: 0.7440\tD(x): 0.5079\tD(G(x)): 0.4823\n",
      "[11/25][50/320]\tLossD: 1.3476\tLossG: 0.7197\tD(x): 0.5150\tD(G(x)): 0.4932\n",
      "[11/25][100/320]\tLossD: 1.3587\tLossG: 0.7041\tD(x): 0.5141\tD(G(x)): 0.4967\n",
      "[11/25][150/320]\tLossD: 1.3579\tLossG: 0.7080\tD(x): 0.5165\tD(G(x)): 0.4983\n",
      "[11/25][200/320]\tLossD: 1.3502\tLossG: 0.7260\tD(x): 0.5026\tD(G(x)): 0.4864\n",
      "[11/25][250/320]\tLossD: 1.3359\tLossG: 0.7503\tD(x): 0.5083\tD(G(x)): 0.4804\n",
      "[11/25][300/320]\tLossD: 1.3947\tLossG: 0.6841\tD(x): 0.5048\tD(G(x)): 0.5061\n",
      "[12/25][0/320]\tLossD: 1.3593\tLossG: 0.7129\tD(x): 0.5043\tD(G(x)): 0.4922\n",
      "[12/25][50/320]\tLossD: 1.3510\tLossG: 0.7134\tD(x): 0.5174\tD(G(x)): 0.4948\n",
      "[12/25][100/320]\tLossD: 1.3547\tLossG: 0.7158\tD(x): 0.5095\tD(G(x)): 0.4929\n",
      "[12/25][150/320]\tLossD: 1.3594\tLossG: 0.7011\tD(x): 0.5164\tD(G(x)): 0.5004\n",
      "[12/25][200/320]\tLossD: 1.3470\tLossG: 0.7291\tD(x): 0.5110\tD(G(x)): 0.4868\n",
      "[12/25][250/320]\tLossD: 1.3510\tLossG: 0.7326\tD(x): 0.5136\tD(G(x)): 0.4872\n",
      "[12/25][300/320]\tLossD: 1.3553\tLossG: 0.7092\tD(x): 0.5124\tD(G(x)): 0.4947\n",
      "[13/25][0/320]\tLossD: 1.3578\tLossG: 0.7133\tD(x): 0.5138\tD(G(x)): 0.4921\n",
      "[13/25][50/320]\tLossD: 1.3300\tLossG: 0.7565\tD(x): 0.5159\tD(G(x)): 0.4815\n",
      "[13/25][100/320]\tLossD: 1.3334\tLossG: 0.7413\tD(x): 0.5217\tD(G(x)): 0.4870\n",
      "[13/25][150/320]\tLossD: 1.3569\tLossG: 0.7099\tD(x): 0.5135\tD(G(x)): 0.4978\n",
      "[13/25][200/320]\tLossD: 1.3432\tLossG: 0.7339\tD(x): 0.5105\tD(G(x)): 0.4849\n",
      "[13/25][250/320]\tLossD: 1.3625\tLossG: 0.7159\tD(x): 0.5103\tD(G(x)): 0.4927\n",
      "[13/25][300/320]\tLossD: 1.3624\tLossG: 0.7070\tD(x): 0.5120\tD(G(x)): 0.4975\n",
      "[14/25][0/320]\tLossD: 1.3691\tLossG: 0.6893\tD(x): 0.5133\tD(G(x)): 0.5032\n",
      "[14/25][50/320]\tLossD: 1.3261\tLossG: 0.7869\tD(x): 0.5133\tD(G(x)): 0.4732\n",
      "[14/25][100/320]\tLossD: 1.3615\tLossG: 0.7282\tD(x): 0.5049\tD(G(x)): 0.4899\n",
      "[14/25][150/320]\tLossD: 1.3351\tLossG: 0.7525\tD(x): 0.5113\tD(G(x)): 0.4812\n",
      "[14/25][200/320]\tLossD: 1.3472\tLossG: 0.7380\tD(x): 0.5128\tD(G(x)): 0.4918\n",
      "[14/25][250/320]\tLossD: 1.3500\tLossG: 0.7300\tD(x): 0.5086\tD(G(x)): 0.4857\n",
      "[14/25][300/320]\tLossD: 1.3388\tLossG: 0.7605\tD(x): 0.5078\tD(G(x)): 0.4800\n",
      "[15/25][0/320]\tLossD: 1.3521\tLossG: 0.7036\tD(x): 0.5206\tD(G(x)): 0.4985\n",
      "[15/25][50/320]\tLossD: 1.3390\tLossG: 0.7566\tD(x): 0.5154\tD(G(x)): 0.4839\n",
      "[15/25][100/320]\tLossD: 1.3501\tLossG: 0.7427\tD(x): 0.5200\tD(G(x)): 0.4929\n",
      "[15/25][150/320]\tLossD: 1.3150\tLossG: 0.8085\tD(x): 0.5114\tD(G(x)): 0.4704\n",
      "[15/25][200/320]\tLossD: 1.3591\tLossG: 0.7121\tD(x): 0.5171\tD(G(x)): 0.4977\n",
      "[15/25][250/320]\tLossD: 1.3497\tLossG: 0.7333\tD(x): 0.5074\tD(G(x)): 0.4879\n",
      "[15/25][300/320]\tLossD: 1.3701\tLossG: 0.7013\tD(x): 0.5114\tD(G(x)): 0.5013\n",
      "[16/25][0/320]\tLossD: 1.3406\tLossG: 0.7596\tD(x): 0.5079\tD(G(x)): 0.4810\n",
      "[16/25][50/320]\tLossD: 1.3736\tLossG: 0.6966\tD(x): 0.5098\tD(G(x)): 0.5012\n",
      "[16/25][100/320]\tLossD: 1.3621\tLossG: 0.7007\tD(x): 0.5167\tD(G(x)): 0.4989\n",
      "[16/25][150/320]\tLossD: 1.3622\tLossG: 0.7149\tD(x): 0.5081\tD(G(x)): 0.4929\n",
      "[16/25][200/320]\tLossD: 1.3783\tLossG: 0.6866\tD(x): 0.5087\tD(G(x)): 0.5043\n",
      "[16/25][250/320]\tLossD: 1.3348\tLossG: 0.7495\tD(x): 0.5132\tD(G(x)): 0.4832\n",
      "[16/25][300/320]\tLossD: 1.3252\tLossG: 0.7705\tD(x): 0.5197\tD(G(x)): 0.4798\n",
      "[17/25][0/320]\tLossD: 1.3715\tLossG: 0.6760\tD(x): 0.5267\tD(G(x)): 0.5129\n",
      "[17/25][50/320]\tLossD: 1.3705\tLossG: 0.7006\tD(x): 0.5101\tD(G(x)): 0.5004\n",
      "[17/25][100/320]\tLossD: 1.3336\tLossG: 0.7652\tD(x): 0.5128\tD(G(x)): 0.4822\n",
      "[17/25][150/320]\tLossD: 1.3698\tLossG: 0.7091\tD(x): 0.5091\tD(G(x)): 0.4968\n",
      "[17/25][200/320]\tLossD: 1.3535\tLossG: 0.7455\tD(x): 0.5138\tD(G(x)): 0.4889\n",
      "[17/25][250/320]\tLossD: 1.3275\tLossG: 0.7448\tD(x): 0.5215\tD(G(x)): 0.4815\n",
      "[17/25][300/320]\tLossD: 1.3348\tLossG: 0.7368\tD(x): 0.5221\tD(G(x)): 0.4876\n",
      "[18/25][0/320]\tLossD: 1.3413\tLossG: 0.7438\tD(x): 0.5196\tD(G(x)): 0.4856\n",
      "[18/25][50/320]\tLossD: 1.3254\tLossG: 0.7425\tD(x): 0.5220\tD(G(x)): 0.4842\n",
      "[18/25][100/320]\tLossD: 1.3413\tLossG: 0.7579\tD(x): 0.5118\tD(G(x)): 0.4811\n",
      "[18/25][150/320]\tLossD: 1.3818\tLossG: 0.6799\tD(x): 0.5144\tD(G(x)): 0.5083\n",
      "[18/25][200/320]\tLossD: 1.3536\tLossG: 0.7413\tD(x): 0.5065\tD(G(x)): 0.4870\n",
      "[18/25][250/320]\tLossD: 1.3526\tLossG: 0.7266\tD(x): 0.5158\tD(G(x)): 0.4890\n",
      "[18/25][300/320]\tLossD: 1.3520\tLossG: 0.7456\tD(x): 0.5082\tD(G(x)): 0.4838\n",
      "[19/25][0/320]\tLossD: 1.3371\tLossG: 0.7447\tD(x): 0.5116\tD(G(x)): 0.4839\n",
      "[19/25][50/320]\tLossD: 1.3573\tLossG: 0.7378\tD(x): 0.5160\tD(G(x)): 0.4940\n",
      "[19/25][100/320]\tLossD: 1.3497\tLossG: 0.7225\tD(x): 0.5219\tD(G(x)): 0.4975\n",
      "[19/25][150/320]\tLossD: 1.3495\tLossG: 0.7295\tD(x): 0.5114\tD(G(x)): 0.4916\n",
      "[19/25][200/320]\tLossD: 1.3656\tLossG: 0.7034\tD(x): 0.5137\tD(G(x)): 0.4980\n",
      "[19/25][250/320]\tLossD: 1.3443\tLossG: 0.7257\tD(x): 0.5193\tD(G(x)): 0.4907\n",
      "[19/25][300/320]\tLossD: 1.3639\tLossG: 0.7129\tD(x): 0.5133\tD(G(x)): 0.4945\n",
      "[20/25][0/320]\tLossD: 1.3462\tLossG: 0.7580\tD(x): 0.5078\tD(G(x)): 0.4807\n",
      "[20/25][50/320]\tLossD: 1.3476\tLossG: 0.7821\tD(x): 0.5117\tD(G(x)): 0.4830\n",
      "[20/25][100/320]\tLossD: 1.3460\tLossG: 0.7588\tD(x): 0.5116\tD(G(x)): 0.4865\n",
      "[20/25][150/320]\tLossD: 1.3259\tLossG: 0.7756\tD(x): 0.5060\tD(G(x)): 0.4718\n",
      "[20/25][200/320]\tLossD: 1.3806\tLossG: 0.6818\tD(x): 0.5160\tD(G(x)): 0.5067\n",
      "[20/25][250/320]\tLossD: 1.3510\tLossG: 0.7268\tD(x): 0.5099\tD(G(x)): 0.4933\n",
      "[20/25][300/320]\tLossD: 1.3472\tLossG: 0.7392\tD(x): 0.5016\tD(G(x)): 0.4854\n",
      "[21/25][0/320]\tLossD: 1.3370\tLossG: 0.7448\tD(x): 0.5141\tD(G(x)): 0.4837\n",
      "[21/25][50/320]\tLossD: 1.3668\tLossG: 0.7187\tD(x): 0.5029\tD(G(x)): 0.4919\n",
      "[21/25][100/320]\tLossD: 1.3492\tLossG: 0.7500\tD(x): 0.5121\tD(G(x)): 0.4928\n",
      "[21/25][150/320]\tLossD: 1.3482\tLossG: 0.7438\tD(x): 0.5101\tD(G(x)): 0.4878\n",
      "[21/25][200/320]\tLossD: 1.3486\tLossG: 0.7474\tD(x): 0.5066\tD(G(x)): 0.4868\n",
      "[21/25][250/320]\tLossD: 1.3684\tLossG: 0.7002\tD(x): 0.5098\tD(G(x)): 0.4980\n",
      "[21/25][300/320]\tLossD: 1.3581\tLossG: 0.7103\tD(x): 0.5114\tD(G(x)): 0.4945\n",
      "[22/25][0/320]\tLossD: 1.3314\tLossG: 0.7815\tD(x): 0.5075\tD(G(x)): 0.4746\n",
      "[22/25][50/320]\tLossD: 1.3420\tLossG: 0.7261\tD(x): 0.5146\tD(G(x)): 0.4867\n",
      "[22/25][100/320]\tLossD: 1.3510\tLossG: 0.7053\tD(x): 0.5198\tD(G(x)): 0.4963\n",
      "[22/25][150/320]\tLossD: 1.3322\tLossG: 0.7730\tD(x): 0.5139\tD(G(x)): 0.4790\n",
      "[22/25][200/320]\tLossD: 1.3279\tLossG: 0.8147\tD(x): 0.5038\tD(G(x)): 0.4711\n",
      "[22/25][250/320]\tLossD: 1.3718\tLossG: 0.6868\tD(x): 0.5156\tD(G(x)): 0.5081\n",
      "[22/25][300/320]\tLossD: 1.3600\tLossG: 0.7239\tD(x): 0.5092\tD(G(x)): 0.4929\n",
      "[23/25][0/320]\tLossD: 1.3578\tLossG: 0.7128\tD(x): 0.5096\tD(G(x)): 0.4939\n",
      "[23/25][50/320]\tLossD: 1.3520\tLossG: 0.7581\tD(x): 0.5024\tD(G(x)): 0.4794\n",
      "[23/25][100/320]\tLossD: 1.3711\tLossG: 0.6774\tD(x): 0.5246\tD(G(x)): 0.5098\n",
      "[23/25][150/320]\tLossD: 1.3049\tLossG: 0.8400\tD(x): 0.5085\tD(G(x)): 0.4609\n",
      "[23/25][200/320]\tLossD: 1.3575\tLossG: 0.7243\tD(x): 0.5092\tD(G(x)): 0.4944\n",
      "[23/25][250/320]\tLossD: 1.3699\tLossG: 0.6927\tD(x): 0.5179\tD(G(x)): 0.5042\n",
      "[23/25][300/320]\tLossD: 1.3433\tLossG: 0.7374\tD(x): 0.5172\tD(G(x)): 0.4907\n",
      "[24/25][0/320]\tLossD: 1.3440\tLossG: 0.7829\tD(x): 0.5048\tD(G(x)): 0.4788\n",
      "[24/25][50/320]\tLossD: 1.3562\tLossG: 0.7312\tD(x): 0.5052\tD(G(x)): 0.4876\n",
      "[24/25][100/320]\tLossD: 1.3537\tLossG: 0.7111\tD(x): 0.5193\tD(G(x)): 0.4938\n",
      "[24/25][150/320]\tLossD: 1.3693\tLossG: 0.6766\tD(x): 0.5272\tD(G(x)): 0.5116\n",
      "[24/25][200/320]\tLossD: 1.3756\tLossG: 0.7004\tD(x): 0.5048\tD(G(x)): 0.4974\n",
      "[24/25][250/320]\tLossD: 1.3568\tLossG: 0.7088\tD(x): 0.5155\tD(G(x)): 0.4968\n",
      "[24/25][300/320]\tLossD: 1.3713\tLossG: 0.6993\tD(x): 0.5099\tD(G(x)): 0.5011\n"
     ]
    }
   ],
   "source": [
    "G_losses = []\n",
    "D_losses = []\n",
    "iters = 0\n",
    "\n",
    "netD.train()\n",
    "netG.train()\n",
    "\n",
    "print(\"Starting Training Loop...\")\n",
    "\n",
    "for epoch in range(n_epoch):\n",
    "    for i, data in enumerate(data_loader):\n",
    "\n",
    "        netD.zero_grad()\n",
    "        real_batch = data.to(device)\n",
    "        b_size = real_batch.shape[0]\n",
    "        label = torch.full((b_size,), REAL_LABEL, dtype=torch.float, device=device)\n",
    "        output = netD(real_batch).view(-1)\n",
    "        errD_real = criterion(output, label)\n",
    "        errD_real.backward()\n",
    "        D_x = output.mean().item()\n",
    "\n",
    "        noise = torch.randn(b_size, Z_DIM, device=device)\n",
    "        # Generate fake image batch with G\n",
    "        fake = netG(noise)\n",
    "        label.fill_(FAKE_LABEL)\n",
    "        # Classify all fake batch with D\n",
    "        output = netD(fake.detach()).view(-1)\n",
    "        # Calculate D's loss on the all-fake batch\n",
    "        errD_fake = criterion(output, label)\n",
    "        errD_fake.backward()\n",
    "        D_G_z1 = output.mean().item()\n",
    "        errD = errD_real + errD_fake\n",
    "        # Update D\n",
    "        optimizerD.step()\n",
    "\n",
    "        netG.zero_grad()\n",
    "        label.fill_(REAL_LABEL)\n",
    "        output = netD(fake).view(-1)\n",
    "        errG = criterion(output, label)\n",
    "        errG.backward()\n",
    "        D_G_z2 = output.mean().item()\n",
    "        optimizerG.step()\n",
    "\n",
    "        # Save Losses for plotting later\n",
    "        G_losses.append(errG.item())\n",
    "        D_losses.append(errD.item())\n",
    "\n",
    "        # Output training stats\n",
    "        if i % 50 == 0:\n",
    "            print(f\"[{epoch}/{n_epoch}][{i}/{len(data_loader)}]\\tLossD: {errD.item():.4f}\\tLossG: {errG.item():.4f}\\t\" +\n",
    "                f\"D(x): {D_x:.4f}\\tD(G(x)): {D_G_z2:.4f}\")\n",
    "\n"
   ]
  },
  {
   "cell_type": "code",
   "execution_count": 16,
   "metadata": {},
   "outputs": [
    {
     "name": "stdout",
     "output_type": "stream",
     "text": [
      "tensor([[-5.3276e-01,  9.1472e-01,  5.3411e-01, -3.3505e-03],\n",
      "        [ 3.0480e-03, -4.0575e-02,  8.6124e-01, -5.9506e-01],\n",
      "        [-1.3398e+00, -3.4879e-01, -8.4957e-01,  1.3814e-01],\n",
      "        [-9.1502e-01,  1.0280e+00, -2.0630e-01,  5.4629e-01],\n",
      "        [-1.5094e-01, -5.0518e-01, -6.5029e-02, -8.5390e-01],\n",
      "        [ 4.2480e-01,  7.3199e-01,  1.6046e-03, -2.8829e-01],\n",
      "        [ 2.8010e-01, -4.3737e-01, -3.1383e-01, -1.8568e+00],\n",
      "        [-1.6534e-01,  2.1386e-01, -8.2231e-01, -1.7203e+00],\n",
      "        [ 4.3499e-01,  2.4905e-01,  1.6704e-01, -9.7403e-01],\n",
      "        [ 2.0222e-01, -3.4182e-01,  4.0299e-01,  5.8160e-02],\n",
      "        [ 8.9478e-01, -9.8628e-01,  1.1372e+00, -2.0351e-01],\n",
      "        [-8.9881e-02, -1.4938e-01, -7.7218e-01,  4.7012e-01]], device='cuda:0')\n",
      "tensor([ 3.9135e-05, -2.4273e-01,  5.2654e-01, -2.3517e-01, -4.4853e-03,\n",
      "         9.1506e-01,  5.5215e-01, -2.3023e-01,  3.7054e-01,  7.3110e-02,\n",
      "        -5.6893e-01, -2.5830e-01], device='cuda:0')\n",
      "tensor([[-8.6723e-01, -3.7808e-01,  9.0168e-01, -4.7822e-02, -7.3568e-01,\n",
      "         -5.0128e-04,  1.1141e+00, -5.0718e-01, -5.6125e-01,  1.2783e+00,\n",
      "          5.0122e-01,  4.6539e-01],\n",
      "        [ 4.7287e-01,  1.2015e+00,  2.2241e+00,  5.6268e-01, -4.3269e-01,\n",
      "         -4.1203e-01,  1.3074e+00,  4.9787e-01,  1.3058e+00, -1.7716e-01,\n",
      "          1.7068e-01, -6.6688e-02],\n",
      "        [ 7.1232e-01, -2.4633e-01, -7.8491e-01, -1.6873e-01, -1.6139e-01,\n",
      "          3.6175e-01, -8.2743e-01, -4.5926e-01,  9.6726e-02,  3.7306e-01,\n",
      "         -1.4662e+00, -1.4047e+00],\n",
      "        [ 2.1424e-01, -1.5797e-01, -4.1657e-01, -7.3065e-01,  5.2913e-01,\n",
      "          1.4302e+00, -7.2405e-01,  3.2752e-01,  9.3680e-01, -1.0056e-01,\n",
      "         -7.1763e-01, -1.0475e+00],\n",
      "        [-6.1115e-01, -7.7160e-02, -4.8532e-01,  1.0651e+00, -3.4388e-01,\n",
      "          3.2645e-01, -1.1103e-01, -3.6305e-01, -3.5912e-01,  5.9646e-01,\n",
      "          6.9345e-01, -1.7863e-01],\n",
      "        [ 5.9281e-01, -4.6119e-01, -1.7105e-01, -1.0290e-01,  4.8941e-01,\n",
      "         -5.7688e-02,  3.1403e-02,  5.4343e-01, -2.5177e-01, -6.6280e-01,\n",
      "          3.4898e-01,  3.1488e-01]], device='cuda:0')\n",
      "tensor([-0.3498,  0.0378,  0.2086,  0.3722, -0.2954, -0.1450], device='cuda:0')\n",
      "tensor([[ 1.8428,  0.8353, -1.6100, -1.3237,  0.1748, -0.3877]],\n",
      "       device='cuda:0')\n",
      "tensor([-0.3510], device='cuda:0')\n"
     ]
    }
   ],
   "source": [
    "for param in netD.parameters():\n",
    "    print(param.data)"
   ]
  },
  {
   "cell_type": "code",
   "execution_count": 17,
   "metadata": {},
   "outputs": [
    {
     "name": "stdout",
     "output_type": "stream",
     "text": [
      "tensor([[-1.1616,  0.9009,  0.9999,  0.7180,  0.0961,  0.2454],\n",
      "        [ 0.4823,  0.1771, -0.4922, -1.5128, -1.4274,  0.1533],\n",
      "        [ 0.5470, -0.8503, -0.1837,  1.1094,  0.8754, -0.5060],\n",
      "        [-1.3076, -0.6540, -0.6307,  0.2096,  1.4385,  0.2451],\n",
      "        [ 0.3613, -0.0781, -0.6254, -0.7568, -0.7348,  0.1395],\n",
      "        [-1.1331, -1.2298, -0.5522,  0.2428,  0.9229, -0.7651],\n",
      "        [ 0.5412,  1.9013,  2.0282,  0.5980, -0.5240,  0.0477],\n",
      "        [ 0.9933, -0.7170, -1.3862, -0.7548, -0.4756,  0.2166]],\n",
      "       device='cuda:0')\n",
      "tensor([ 0.9400,  0.1894,  0.3376,  0.6917, -0.2535,  0.6213,  0.9659,  0.7285],\n",
      "       device='cuda:0')\n",
      "tensor([[ 0.5667, -0.0806,  0.9260,  1.1271, -1.4736,  0.8137,  0.6531, -0.0616],\n",
      "        [ 0.6778,  0.4761,  0.0660,  0.5483,  0.1334, -0.6496,  0.3597,  0.8636],\n",
      "        [ 0.0208,  0.8231,  0.0435,  0.9409, -0.7828,  1.0803, -2.2522,  1.0901],\n",
      "        [ 0.2111, -0.0373,  0.3541,  0.4634,  0.0210,  0.8075, -0.4358,  0.2541],\n",
      "        [ 0.5370,  0.5164,  0.6659,  0.4739, -0.5172,  0.2729,  1.4427,  0.1616],\n",
      "        [ 0.7414, -0.6223,  1.3419,  1.5471, -0.9492,  1.2099,  0.4663,  0.6178],\n",
      "        [ 0.1569,  1.3333, -0.2408, -1.1121,  0.2192, -0.7622,  0.4877,  0.6823],\n",
      "        [-0.1396,  0.2217,  0.1548,  0.7817,  0.2933,  1.5385, -1.7048,  0.5150],\n",
      "        [-0.6868, -0.2164, -0.0099,  1.0185,  0.6442,  0.9118, -0.3442,  0.2564],\n",
      "        [ 0.5658, -0.5248,  0.1635,  0.4119, -0.6006,  0.7771,  0.7316,  0.3517],\n",
      "        [-1.0835,  1.1850, -1.9979, -1.0886,  0.5299, -1.0353, -0.5341,  0.7389],\n",
      "        [ 1.0819,  0.0331,  0.7630,  0.3795, -0.1599, -0.2500,  1.1436, -0.1162]],\n",
      "       device='cuda:0')\n",
      "tensor([ 0.4520,  0.3811, -0.0259,  0.1004,  0.4005,  0.4441,  0.3537, -0.2536,\n",
      "        -0.1150,  0.6124,  0.2476,  0.6543], device='cuda:0')\n",
      "tensor([[ 1.3096, -0.4932, -0.1730, -0.4112,  0.2707,  1.6315, -1.0023,  0.4478,\n",
      "         -0.0501,  0.6707, -2.6571,  1.4223],\n",
      "        [ 0.0433, -0.6621, -0.4338, -0.4171, -1.1451, -0.3190, -0.9381, -0.6300,\n",
      "          0.0517, -1.2451, -0.3012, -0.1383],\n",
      "        [ 1.6826,  0.2546, -0.4288,  0.9707,  0.7218,  0.8260, -0.8797, -0.0846,\n",
      "          0.5519,  0.6827, -3.3643,  0.3385],\n",
      "        [-0.3868, -0.1741,  2.3686,  0.6364, -1.1126,  0.5347, -0.6694,  2.1649,\n",
      "          1.3556, -0.3335,  0.0298, -1.2115]], device='cuda:0')\n",
      "tensor([ 0.1955,  0.0387, -0.0252, -0.4347], device='cuda:0')\n"
     ]
    }
   ],
   "source": [
    "for param in netG.parameters():\n",
    "    print(param.data)"
   ]
  },
  {
   "cell_type": "code",
   "execution_count": 18,
   "metadata": {},
   "outputs": [
    {
     "data": {
      "text/plain": [
       "Generator(\n",
       "  (main): Sequential(\n",
       "    (0): Linear(in_features=6, out_features=8, bias=True)\n",
       "    (1): LeakyReLU(negative_slope=0.2)\n",
       "    (2): Linear(in_features=8, out_features=12, bias=True)\n",
       "    (3): LeakyReLU(negative_slope=0.2)\n",
       "    (4): Linear(in_features=12, out_features=4, bias=True)\n",
       "    (5): Sigmoid()\n",
       "  )\n",
       ")"
      ]
     },
     "execution_count": 18,
     "metadata": {},
     "output_type": "execute_result"
    }
   ],
   "source": [
    "netD.eval()\n",
    "netG.eval()"
   ]
  },
  {
   "cell_type": "code",
   "execution_count": 19,
   "metadata": {},
   "outputs": [
    {
     "data": {
      "image/png": "[encoded data removed]",
      "text/plain": [
       "<Figure size 1000x500 with 1 Axes>"
      ]
     },
     "metadata": {},
     "output_type": "display_data"
    }
   ],
   "source": [
    "plt.figure(figsize=(10,5))\n",
    "plt.title(\"Generator and Discriminator Loss During Training\")\n",
    "plt.plot(G_losses,label=\"G\")\n",
    "plt.plot(D_losses,label=\"D\")\n",
    "plt.xlabel(\"iterations\")\n",
    "plt.ylabel(\"Loss\")\n",
    "plt.legend()\n",
    "plt.show()"
   ]
  },
  {
   "cell_type": "code",
   "execution_count": 20,
   "metadata": {},
   "outputs": [],
   "source": [
    "n_rows = 4\n",
    "n_cols = 4"
   ]
  },
  {
   "cell_type": "code",
   "execution_count": 21,
   "metadata": {},
   "outputs": [
    {
     "data": {
      "image/png": "[encoded data removed]",
      "text/plain": [
       "<Figure size 640x480 with 16 Axes>"
      ]
     },
     "metadata": {},
     "output_type": "display_data"
    }
   ],
   "source": [
    "real_batch = next(iter(data_loader))\n",
    "\n",
    "fig, axes = plt.subplots(n_rows, n_cols)\n",
    "\n",
    "for i, ax in enumerate(axes.flatten()):\n",
    "    ax.axis(\"off\")\n",
    "    ax.imshow(real_batch[i].reshape(2, 2).cpu(), cmap=\"binary\")"
   ]
  },
  {
   "cell_type": "code",
   "execution_count": 22,
   "metadata": {},
   "outputs": [
    {
     "data": {
      "image/png": "[encoded data removed]",
      "text/plain": [
       "<Figure size 640x480 with 16 Axes>"
      ]
     },
     "metadata": {},
     "output_type": "display_data"
    }
   ],
   "source": [
    "real_batch = next(iter(data_loader))\n",
    "\n",
    "fig, axes = plt.subplots(n_rows, n_cols)\n",
    "\n",
    "for i, ax in enumerate(axes.flatten()):\n",
    "    ax.axis(\"off\")\n",
    "    ax.imshow(real_batch[i].reshape(2, 2).cpu(), cmap=\"binary\")"
   ]
  },
  {
   "cell_type": "code",
   "execution_count": 23,
   "metadata": {},
   "outputs": [
    {
     "data": {
      "image/png": "[encoded data removed]",
      "text/plain": [
       "<Figure size 640x480 with 16 Axes>"
      ]
     },
     "metadata": {},
     "output_type": "display_data"
    }
   ],
   "source": [
    "b_size = n_rows * n_cols\n",
    "\n",
    "noise = torch.randn(b_size, Z_DIM, device=device)\n",
    "\n",
    "with torch.no_grad():\n",
    "    fake_batch = netG(noise)\n",
    "\n",
    "fig, axes = plt.subplots(n_rows, n_cols)\n",
    "for i, ax in enumerate(axes.flatten()):\n",
    "    ax.axis(\"off\")\n",
    "    ax.imshow(fake_batch[i].reshape(2, 2).cpu(), cmap=\"binary\")"
   ]
  },
  {
   "cell_type": "code",
   "execution_count": 24,
   "metadata": {},
   "outputs": [
    {
     "data": {
      "image/png": "[encoded data removed]",
      "text/plain": [
       "<Figure size 640x480 with 16 Axes>"
      ]
     },
     "metadata": {},
     "output_type": "display_data"
    }
   ],
   "source": [
    "b_size = n_rows * n_cols\n",
    "\n",
    "noise = torch.randn(b_size, Z_DIM, device=device)\n",
    "\n",
    "with torch.no_grad():\n",
    "    fake_batch = netG(noise)\n",
    "\n",
    "fig, axes = plt.subplots(n_rows, n_cols)\n",
    "for i, ax in enumerate(axes.flatten()):\n",
    "    ax.axis(\"off\")\n",
    "    ax.imshow(fake_batch[i].reshape(2, 2).cpu(), cmap=\"binary\")"
   ]
  },
  {
   "cell_type": "code",
   "execution_count": 25,
   "metadata": {},
   "outputs": [],
   "source": [
    "sample_size = 10000\n",
    "data_index = torch.randperm(data_true.shape[0])[:sample_size]\n",
    "real_samples = data_true[data_index]\n",
    "\n",
    "\n",
    "\n",
    "noise = torch.randn(sample_size, Z_DIM, device=device)\n",
    "with torch.no_grad():\n",
    "    fake_samples = netG(noise)\n",
    "\n",
    "\n",
    "np.savez(save_folder + \"/samples.npz\", \n",
    "    real_samples = real_samples.cpu(), \n",
    "    fake_samples_raw=fake_samples.cpu())"
   ]
  },
  {
   "cell_type": "code",
   "execution_count": 26,
   "metadata": {},
   "outputs": [],
   "source": [
    "with torch.no_grad():\n",
    "    real_scores = netD(real_samples).cpu()\n",
    "    fake_scores = netD(fake_samples).cpu()\n",
    "    # fake_rounded_scores = netD(fake_samples_rounded).cpu()"
   ]
  },
  {
   "cell_type": "code",
   "execution_count": 27,
   "metadata": {},
   "outputs": [
    {
     "name": "stdout",
     "output_type": "stream",
     "text": [
      "0.5271643\n",
      "0.50650245\n"
     ]
    }
   ],
   "source": [
    "print(np.mean(real_scores.numpy()))\n",
    "print(np.mean(fake_scores.numpy()))\n",
    "# print(np.mean(fake_rounded_scores.numpy()))"
   ]
  },
  {
   "cell_type": "code",
   "execution_count": 28,
   "metadata": {},
   "outputs": [
    {
     "data": {
      "image/png": "[encoded data removed]",
      "text/plain": [
       "<Figure size 640x480 with 1 Axes>"
      ]
     },
     "metadata": {},
     "output_type": "display_data"
    }
   ],
   "source": [
    "fig, ax = plt.subplots()\n",
    "\n",
    "\n",
    "\n",
    "ax.hist(real_scores.view(-1), bins = 50, range=(0, 1), color = plt.cm.tab10(0), alpha = 0.5, label=\"real\")\n",
    "ax.hist(fake_scores.view(-1), bins = 50, range=(0, 1), color = plt.cm.tab10(1), alpha = 0.5, label=\"generated\")\n",
    "\n",
    "ax.legend()\n",
    "\n",
    "None"
   ]
  },
  {
   "cell_type": "code",
   "execution_count": 29,
   "metadata": {},
   "outputs": [],
   "source": [
    "# fig, ax = plt.subplots()\n",
    "\n",
    "\n",
    "\n",
    "# ax.hist(real_scores.view(-1), bins = 50, range=(0, 1), alpha=0.5, color = plt.cm.tab10(0))\n",
    "# ax.hist(fake_rounded_scores.view(-1), bins = 50, range=(0, 1), alpha=0.5, color = plt.cm.tab10(1))\n",
    "\n",
    "# None"
   ]
  },
  {
   "cell_type": "code",
   "execution_count": 30,
   "metadata": {},
   "outputs": [
    {
     "name": "stdout",
     "output_type": "stream",
     "text": [
      "JL-divergens is 0.001178100468526057\n"
     ]
    },
    {
     "name": "stderr",
     "output_type": "stream",
     "text": [
      "/tmp/ipykernel_1700090/2512989502.py:42: RuntimeWarning: divide by zero encountered in log\n",
      "  dl_r = np.sum(real_probs * np.nan_to_num(np.log(real_probs / mixed_probs)))\n"
     ]
    }
   ],
   "source": [
    "json_path = data_path[:-4] + \".json\"\n",
    "with open(json_path, 'r') as f:\n",
    "    real_data_dict = json.load(f)\n",
    "\n",
    "def np_to_dict(result_np):\n",
    "    result_dict = {}\n",
    "    for line in result_np:\n",
    "        str_key = \"\"\n",
    "        for i in line:  # reversing the order to match qiskit notation\n",
    "            str_key+=(str(i))\n",
    "        current_value = result_dict.get(str_key, 0)\n",
    "        result_dict[str_key] = current_value + 1\n",
    "    return result_dict\n",
    "\n",
    "noise = torch.randn(20480, Z_DIM, device=device)\n",
    "with torch.no_grad():\n",
    "    fake_data_raw = netG(noise)\n",
    "fake_data_rounded = torch.round(fake_data_raw)\n",
    "fake_data_rounded = fake_data_rounded.cpu().numpy().astype(np.int32)\n",
    "\n",
    "\n",
    "fake_data_dict = np_to_dict(fake_data_rounded)\n",
    "\n",
    "all_keys = (set(real_data_dict.keys())) | (set(fake_data_dict.keys()))\n",
    "\n",
    "real_counts = []\n",
    "fake_counts = []\n",
    "\n",
    "for k in all_keys:\n",
    "    real_counts.append(real_data_dict.get(k, 0))\n",
    "    fake_counts.append(fake_data_dict.get(k, 0))\n",
    "\n",
    "real_counts = np.array(real_counts)\n",
    "fake_counts = np.array(fake_counts)\n",
    "\n",
    "real_probs = real_counts / np.sum(real_counts)\n",
    "fake_probs = fake_counts / np.sum(fake_counts)\n",
    "\n",
    "mixed_probs = (real_probs + fake_probs) / 2 # here, every entry of mixed_probs are positive\n",
    "\n",
    "# Note, mixed_probs is all positive. That's why you can use nan_to_num to deal with zero entries in real_probs or fake_probs\n",
    "dl_r = np.sum(real_probs * np.nan_to_num(np.log(real_probs / mixed_probs)))\n",
    "dl_f = np.sum(fake_probs * np.nan_to_num(np.log(fake_probs / mixed_probs)))\n",
    "\n",
    "jl_div = (dl_r + dl_f) / 2\n",
    "\n",
    "print(f\"JL-divergens is {jl_div}\")\n"
   ]
  },
  {
   "cell_type": "code",
   "execution_count": 31,
   "metadata": {},
   "outputs": [],
   "source": [
    "# # train a standalone discriminator to evaluate the performance of the GAN \"objectively\"\n",
    "# class Evaluator(nn.Module):\n",
    "#     def __init__(self):\n",
    "#         super(Evaluator, self).__init__()\n",
    "#         self.main = nn.Sequential(\n",
    "#             nn.Linear(OUT_DIM, 32),\n",
    "#             nn.LeakyReLU(0.2),\n",
    "#             nn.Linear(32, 16),\n",
    "#             nn.LeakyReLU(0.2),\n",
    "#             nn.Linear(16, 8),\n",
    "#             nn.LeakyReLU(0.2),\n",
    "#             nn.Linear(8, 1),\n",
    "#             nn.Sigmoid()\n",
    "#         )\n",
    "    \n",
    "#     def forward(self, input):\n",
    "#         return self.main(input)"
   ]
  },
  {
   "cell_type": "code",
   "execution_count": 32,
   "metadata": {},
   "outputs": [],
   "source": [
    "# netEv = Evaluator().to(device)\n",
    "# netEv.apply(weights_init)\n",
    "\n",
    "# optimizerEv = optim.Adam(netEv.parameters(), lr=lr, betas=(0.5, 0.999))\n",
    "# print(netEv)"
   ]
  }
 ],
 "metadata": {
  "kernelspec": {
   "display_name": "Python 3 (ipykernel)",
   "language": "python",
   "name": "python3"
  },
  "language_info": {
   "codemirror_mode": {
    "name": "ipython",
    "version": 3
   },
   "file_extension": ".py",
   "mimetype": "text/x-python",
   "name": "python",
   "nbconvert_exporter": "python",
   "pygments_lexer": "ipython3",
   "version": "3.11.6"
  }
 },
 "nbformat": 4,
 "nbformat_minor": 4
}
