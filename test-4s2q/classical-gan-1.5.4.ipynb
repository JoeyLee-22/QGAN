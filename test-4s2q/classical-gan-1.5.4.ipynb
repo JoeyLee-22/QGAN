{
 "cells": [
  {
   "cell_type": "code",
   "execution_count": 1,
   "metadata": {},
   "outputs": [],
   "source": [
    "import os\n",
    "import numpy as np\n",
    "import matplotlib.pyplot as plt\n",
    "import json\n",
    "import torch\n",
    "import torch.nn as nn\n",
    "import torch.utils.data\n",
    "import torch.optim as optim\n",
    "from sklearn.model_selection import train_test_split\n",
    "from sklearn.metrics import roc_auc_score"
   ]
  },
  {
   "cell_type": "code",
   "execution_count": 2,
   "metadata": {},
   "outputs": [],
   "source": [
    "Z_DIM = 6\n",
    "OUT_DIM = 4\n",
    "REAL_LABEL = 1\n",
    "FAKE_LABEL = 0\n",
    "n_epoch = 25\n",
    "lr = 6e-4\n",
    "batch_size = 64\n",
    "\n",
    "d_lr = 1e-3\n",
    "g_lr = 1e-4\n",
    "\n",
    "seed = 42\n",
    "\n",
    "name = \"classical-gan-1.5.4\"\n",
    "\n",
    "save_folder = f\"saved/{name}\"\n",
    "\n",
    "data_path = \"dataset/dataset.npy\""
   ]
  },
  {
   "cell_type": "code",
   "execution_count": 3,
   "metadata": {},
   "outputs": [],
   "source": [
    "## some code to prevent the the output from being saved to the wrong directory\n",
    "\n",
    "if globals().get(\"__file__\") and os.path.basename(globals[\"__file__\"]) != name + \".py\":\n",
    "    raise UserWarning(\"The 'name' variable does not match the file name.\")\n",
    "if globals().get(\"__vsc_ipynb_file__\") and os.path.basename(globals().get(\"__vsc_ipynb_file__\")) != name + \".ipynb\":\n",
    "    raise UserWarning(\"The 'name' variable does not match the file name.\")"
   ]
  },
  {
   "cell_type": "code",
   "execution_count": 4,
   "metadata": {},
   "outputs": [],
   "source": [
    "if os.path.exists(save_folder):\n",
    "    print(f\"This notebook may overwrite previous results in the {save_folder} directory\")\n",
    "else:\n",
    "    os.makedirs(save_folder)\n",
    "\n",
    "rng = np.random.default_rng()\n",
    "\n",
    "# Device configuration\n",
    "device = torch.device('cuda' if torch.cuda.is_available() else 'cpu')\n",
    "\n",
    "# torch.manual_seed(seed)\n",
    "# torch.use_deterministic_algorithms(True) "
   ]
  },
  {
   "cell_type": "code",
   "execution_count": 5,
   "metadata": {},
   "outputs": [
    {
     "data": {
      "text/plain": [
       "array([[0.22623759, 0.89513221, 0.38569896, 0.36755241],\n",
       "       [0.2104556 , 0.99467451, 0.01770609, 0.46760388],\n",
       "       [0.13881856, 0.87695348, 0.2597558 , 0.31825066],\n",
       "       ...,\n",
       "       [0.93326431, 0.30004156, 0.68643019, 0.16775284],\n",
       "       [0.57852725, 0.38947711, 0.64027193, 0.96771737],\n",
       "       [0.96939843, 0.80032157, 0.09973308, 0.38007525]])"
      ]
     },
     "execution_count": 5,
     "metadata": {},
     "output_type": "execute_result"
    }
   ],
   "source": [
    "np.load(data_path)"
   ]
  },
  {
   "cell_type": "code",
   "execution_count": 6,
   "metadata": {},
   "outputs": [],
   "source": [
    "data_true = np.load(data_path)\n",
    "rng.shuffle(data_true)\n",
    "data_true = torch.tensor(data_true, dtype = torch.float32, device=device, requires_grad=False)\n",
    "data_loader = torch.utils.data.DataLoader(data_true, batch_size=batch_size, shuffle = True)"
   ]
  },
  {
   "cell_type": "code",
   "execution_count": 7,
   "metadata": {},
   "outputs": [
    {
     "data": {
      "text/plain": [
       "<matplotlib.image.AxesImage at 0x73bb960c8090>"
      ]
     },
     "execution_count": 7,
     "metadata": {},
     "output_type": "execute_result"
    },
    {
     "data": {
      "image/png": "[encoded data removed]",
      "text/plain": [
       "<Figure size 640x480 with 1 Axes>"
      ]
     },
     "metadata": {},
     "output_type": "display_data"
    }
   ],
   "source": [
    "real_batch = next(iter(data_loader))\n",
    "real_sample_one = real_batch[0]\n",
    "plt.figure()\n",
    "plt.axis(\"off\")\n",
    "plt.imshow(real_sample_one.reshape(2, 2).cpu(), cmap=\"binary\")"
   ]
  },
  {
   "cell_type": "code",
   "execution_count": 8,
   "metadata": {},
   "outputs": [],
   "source": [
    "def weights_init(m):\n",
    "    classname = m.__class__.__name__\n",
    "    if classname.find('Linear') != -1:\n",
    "        m.weight.data.normal_(0.0, 0.5)\n",
    "        m.bias.data.uniform_(-0.3, 0.3)\n",
    "    elif classname.find('Conv') != -1:\n",
    "        m.weight.data.normal_(0.0, 0.02)\n",
    "    elif classname.find('BatchNorm') != -1:\n",
    "        m.weight.data.normal_(1.0, 0.02)\n",
    "        m.bias.data.fill_(0)"
   ]
  },
  {
   "cell_type": "code",
   "execution_count": 9,
   "metadata": {},
   "outputs": [],
   "source": [
    "class Generator(nn.Module):\n",
    "    def __init__(self):\n",
    "        super(Generator, self).__init__()\n",
    "        self.main = nn.Sequential(\n",
    "            nn.Linear(Z_DIM, 8),\n",
    "            nn.LeakyReLU(0.2),\n",
    "            nn.Linear(8, 12),\n",
    "            nn.LeakyReLU(0.2),\n",
    "            nn.Linear(12, OUT_DIM),\n",
    "            nn.Sigmoid()\n",
    "        )\n",
    "    \n",
    "    def forward(self, input):\n",
    "        return self.main(input)"
   ]
  },
  {
   "cell_type": "code",
   "execution_count": 10,
   "metadata": {},
   "outputs": [],
   "source": [
    "class Discriminator(nn.Module):\n",
    "    def __init__(self):\n",
    "        super(Discriminator, self).__init__()\n",
    "        self.main = nn.Sequential(\n",
    "            nn.Linear(OUT_DIM, 12),\n",
    "            nn.LeakyReLU(0.2),\n",
    "            # nn.Linear(16, 8),\n",
    "            # nn.LeakyReLU(0.2),\n",
    "            nn.Linear(12, 6),\n",
    "            nn.LeakyReLU(0.2),\n",
    "            nn.Linear(6, 1),\n",
    "            nn.Sigmoid()\n",
    "        )\n",
    "    \n",
    "    def forward(self, input):\n",
    "        return self.main(input)"
   ]
  },
  {
   "cell_type": "code",
   "execution_count": 11,
   "metadata": {},
   "outputs": [
    {
     "name": "stdout",
     "output_type": "stream",
     "text": [
      "Generator(\n",
      "  (main): Sequential(\n",
      "    (0): Linear(in_features=6, out_features=8, bias=True)\n",
      "    (1): LeakyReLU(negative_slope=0.2)\n",
      "    (2): Linear(in_features=8, out_features=12, bias=True)\n",
      "    (3): LeakyReLU(negative_slope=0.2)\n",
      "    (4): Linear(in_features=12, out_features=4, bias=True)\n",
      "    (5): Sigmoid()\n",
      "  )\n",
      ")\n",
      "Discriminator(\n",
      "  (main): Sequential(\n",
      "    (0): Linear(in_features=4, out_features=12, bias=True)\n",
      "    (1): LeakyReLU(negative_slope=0.2)\n",
      "    (2): Linear(in_features=12, out_features=6, bias=True)\n",
      "    (3): LeakyReLU(negative_slope=0.2)\n",
      "    (4): Linear(in_features=6, out_features=1, bias=True)\n",
      "    (5): Sigmoid()\n",
      "  )\n",
      ")\n"
     ]
    }
   ],
   "source": [
    "# Create the generator\n",
    "netG = Generator().to(device)\n",
    "netG.apply(weights_init)\n",
    "print(netG)\n",
    "\n",
    "# Create the discriminator\n",
    "netD = Discriminator().to(device)\n",
    "netD.apply(weights_init)\n",
    "print(netD)"
   ]
  },
  {
   "cell_type": "code",
   "execution_count": 12,
   "metadata": {},
   "outputs": [],
   "source": [
    "# Initialize BCELoss function\n",
    "criterion = nn.BCELoss()\n",
    "\n",
    "# Setup Adam optimizers for both G and D\n",
    "optimizerD = optim.Adam(netD.parameters(), lr=d_lr, betas=(0.5, 0.999))\n",
    "optimizerG = optim.Adam(netG.parameters(), lr=g_lr, betas=(0.5, 0.999))"
   ]
  },
  {
   "cell_type": "code",
   "execution_count": 13,
   "metadata": {},
   "outputs": [
    {
     "name": "stdout",
     "output_type": "stream",
     "text": [
      "tensor([[ 0.2125,  0.2350, -0.8692, -0.5760],\n",
      "        [-0.1883, -0.0594, -0.8791,  0.4949],\n",
      "        [ 0.3622, -0.1512,  0.1006, -0.0725],\n",
      "        [ 0.4928,  1.1745, -0.3439,  0.0320],\n",
      "        [-0.0455,  0.2067,  0.1322, -0.4545],\n",
      "        [ 0.6153,  0.4119,  0.1774, -0.6699],\n",
      "        [-0.1039, -0.6095,  0.5448, -0.8508],\n",
      "        [-0.0288, -0.0015, -0.3333,  0.1358],\n",
      "        [-0.4252,  0.0746,  0.8053, -0.9123],\n",
      "        [ 0.4296,  0.0323, -0.1388, -0.8967],\n",
      "        [-0.3828, -0.0320, -0.1307,  0.7439],\n",
      "        [ 0.3664,  0.7983,  0.3367,  0.2143]], device='cuda:0')\n",
      "tensor([ 0.0591,  0.1216, -0.2635,  0.2766, -0.2682, -0.2482,  0.1608,  0.2722,\n",
      "        -0.1509, -0.2614,  0.2733,  0.2297], device='cuda:0')\n",
      "tensor([[-0.5541, -0.2143, -0.9099, -1.0467, -0.4468,  0.5138, -0.8539, -0.1616,\n",
      "         -0.5539, -0.2499,  0.0805, -0.0107],\n",
      "        [-1.3503,  0.0419, -0.0395, -0.5001,  0.1900, -0.0621, -0.0975,  0.1332,\n",
      "         -0.2971, -0.4105,  0.8563, -0.1956],\n",
      "        [-0.2177,  0.1275,  0.8432,  1.1838, -0.7864, -0.3914, -0.1764,  0.1436,\n",
      "         -0.4681,  0.3334, -0.4608,  0.8333],\n",
      "        [-0.3603, -0.9721, -0.7381,  0.0681,  0.4916,  0.6189,  0.9243,  0.2920,\n",
      "         -0.3722,  0.2500,  0.1662,  0.0597],\n",
      "        [-0.0119, -0.1161,  0.7219,  0.3975,  0.7252, -0.2914, -0.0835, -0.1084,\n",
      "         -0.9696, -0.1839, -0.2073,  0.3284],\n",
      "        [-0.6214, -0.6293, -0.2991,  0.8187, -0.4224,  0.9529, -0.2435,  0.3871,\n",
      "          0.7789,  0.4427, -0.0810, -0.2927]], device='cuda:0')\n",
      "tensor([-0.0250,  0.1745, -0.1470, -0.1242,  0.1626, -0.0718], device='cuda:0')\n",
      "tensor([[ 0.0951,  1.1092, -0.3429,  0.7117, -0.7990, -0.2599]],\n",
      "       device='cuda:0')\n",
      "tensor([-0.0619], device='cuda:0')\n"
     ]
    }
   ],
   "source": [
    "for param in netD.parameters():\n",
    "    print(param.data)"
   ]
  },
  {
   "cell_type": "code",
   "execution_count": 14,
   "metadata": {},
   "outputs": [
    {
     "name": "stdout",
     "output_type": "stream",
     "text": [
      "tensor([[-0.1052,  0.0216, -0.3182,  0.1342,  1.3886,  0.9929],\n",
      "        [-0.4872,  0.2703, -0.2967,  0.2381, -0.2622, -0.5224],\n",
      "        [ 0.7131, -0.3489, -0.4542, -1.0387,  0.4745, -0.2633],\n",
      "        [-0.3517,  0.4432, -0.5600,  0.3707, -0.0689, -0.8065],\n",
      "        [-0.5539,  0.1533, -0.4450,  0.0691, -1.0241, -0.2697],\n",
      "        [ 0.5281, -0.1584,  0.1479,  0.6141,  0.1617,  0.1150],\n",
      "        [ 0.3207, -0.6541,  0.5886,  1.0433, -0.0274,  0.3372],\n",
      "        [-0.5144, -0.0231, -0.7704,  0.6874, -0.9104, -0.2715]],\n",
      "       device='cuda:0')\n",
      "tensor([-0.0883,  0.2551, -0.1654,  0.1576,  0.0971,  0.1398, -0.1317, -0.2877],\n",
      "       device='cuda:0')\n",
      "tensor([[-8.1243e-01,  5.8952e-01,  3.3573e-02,  8.4036e-01,  5.1096e-01,\n",
      "         -7.3421e-01, -5.7357e-01,  4.6044e-01],\n",
      "        [-5.0625e-01, -2.5232e-01,  8.8212e-02,  1.6846e-01, -2.3704e-01,\n",
      "          8.0324e-02, -1.6653e-02, -5.9489e-01],\n",
      "        [-3.9396e-01,  3.3001e-02, -3.6175e-01, -7.2264e-01,  3.5594e-01,\n",
      "         -2.2980e-01, -7.8493e-01,  4.1290e-01],\n",
      "        [ 2.3604e-01,  2.7915e-01, -1.4368e-01, -9.1841e-01, -4.8709e-01,\n",
      "         -2.7264e-01, -7.9007e-02,  5.7884e-01],\n",
      "        [ 2.0078e-01,  1.7288e-01, -2.8218e-04,  8.7561e-01,  9.4875e-01,\n",
      "          9.2746e-01, -5.1598e-01,  3.0854e-01],\n",
      "        [-6.6724e-02, -2.3166e-02,  6.4967e-01, -7.3986e-03,  6.3519e-02,\n",
      "         -2.4445e-01, -1.1184e+00,  5.8452e-02],\n",
      "        [ 4.9154e-01,  3.3436e-02, -2.1345e-01, -9.9069e-02,  2.8673e-01,\n",
      "          4.8251e-01,  8.6584e-01,  1.0533e+00],\n",
      "        [-6.0236e-01, -7.0791e-02, -1.5076e-01, -2.1654e-01,  1.9195e-01,\n",
      "         -3.3808e-02, -9.9080e-01, -8.7156e-01],\n",
      "        [ 3.2599e-01, -7.9124e-01, -1.7842e+00, -6.6109e-01,  8.0393e-02,\n",
      "          6.6030e-01,  4.6637e-01, -6.4571e-02],\n",
      "        [-2.3525e-01,  4.2347e-01, -2.4332e-01, -4.2474e-01,  2.2408e-02,\n",
      "         -1.4492e-02,  7.9180e-02, -1.1189e+00],\n",
      "        [ 5.7968e-01, -9.9104e-02, -4.0630e-01, -5.5239e-01,  1.0296e+00,\n",
      "          1.6859e-02,  4.5772e-01, -5.3176e-01],\n",
      "        [ 1.1962e+00, -3.2131e-01,  1.0526e+00,  5.8312e-01,  3.0397e-01,\n",
      "          5.8842e-01, -9.3769e-01,  5.3236e-02]], device='cuda:0')\n",
      "tensor([ 0.1002,  0.2556, -0.0976,  0.2074,  0.1774, -0.1618, -0.1632,  0.0479,\n",
      "        -0.2132, -0.0359, -0.0706, -0.0924], device='cuda:0')\n",
      "tensor([[ 0.8770,  0.1933, -0.0964, -1.1615,  0.4267,  0.8014,  0.3319, -0.7273,\n",
      "          1.2110, -0.1847, -0.6131,  0.5764],\n",
      "        [ 0.5386,  0.8620,  0.1908,  0.0574, -0.0174, -0.1262,  0.4302, -0.6033,\n",
      "          0.4727,  0.2581,  0.2986, -0.7407],\n",
      "        [-0.4268, -0.8124,  0.1535,  0.3724,  0.0646,  0.5558,  0.0328, -0.4067,\n",
      "          1.1377, -0.1352, -0.1047,  0.8538],\n",
      "        [-0.3721, -0.4874, -0.0346, -0.5926, -0.0603, -0.0276, -0.0941, -1.0878,\n",
      "         -0.2350, -0.9654, -0.8687,  0.2968]], device='cuda:0')\n",
      "tensor([-0.1214, -0.1565,  0.1301, -0.2248], device='cuda:0')\n"
     ]
    }
   ],
   "source": [
    "for param in netG.parameters():\n",
    "    print(param.data)"
   ]
  },
  {
   "cell_type": "code",
   "execution_count": 15,
   "metadata": {},
   "outputs": [
    {
     "name": "stdout",
     "output_type": "stream",
     "text": [
      "Starting Training Loop...\n",
      "[0/25][0/320]\tLossD: 2.0675\tLossG: 1.5928\tD(x): 0.1802\tD(G(x)): 0.2255\n",
      "[0/25][50/320]\tLossD: 1.3612\tLossG: 1.1160\tD(x): 0.4168\tD(G(x)): 0.3454\n",
      "[0/25][100/320]\tLossD: 1.0709\tLossG: 0.9947\tD(x): 0.5719\tD(G(x)): 0.3817\n",
      "[0/25][150/320]\tLossD: 0.9495\tLossG: 1.0929\tD(x): 0.6142\tD(G(x)): 0.3479\n",
      "[0/25][200/320]\tLossD: 0.7936\tLossG: 1.1535\tD(x): 0.7158\tD(G(x)): 0.3368\n",
      "[0/25][250/320]\tLossD: 0.8681\tLossG: 1.1498\tD(x): 0.6769\tD(G(x)): 0.3374\n",
      "[0/25][300/320]\tLossD: 0.8500\tLossG: 1.4259\tD(x): 0.6641\tD(G(x)): 0.2874\n",
      "[1/25][0/320]\tLossD: 0.8625\tLossG: 1.3060\tD(x): 0.7014\tD(G(x)): 0.3166\n",
      "[1/25][50/320]\tLossD: 0.7212\tLossG: 1.4530\tD(x): 0.7343\tD(G(x)): 0.2829\n",
      "[1/25][100/320]\tLossD: 0.7249\tLossG: 1.4857\tD(x): 0.7415\tD(G(x)): 0.2804\n",
      "[1/25][150/320]\tLossD: 0.8711\tLossG: 1.3581\tD(x): 0.6955\tD(G(x)): 0.3159\n",
      "[1/25][200/320]\tLossD: 0.8903\tLossG: 1.5444\tD(x): 0.6427\tD(G(x)): 0.2593\n",
      "[1/25][250/320]\tLossD: 1.0044\tLossG: 1.3013\tD(x): 0.6470\tD(G(x)): 0.3348\n",
      "[1/25][300/320]\tLossD: 0.9361\tLossG: 1.3720\tD(x): 0.6740\tD(G(x)): 0.3075\n",
      "[2/25][0/320]\tLossD: 1.1451\tLossG: 1.2606\tD(x): 0.6534\tD(G(x)): 0.3683\n",
      "[2/25][50/320]\tLossD: 1.0614\tLossG: 1.1609\tD(x): 0.6537\tD(G(x)): 0.3744\n",
      "[2/25][100/320]\tLossD: 1.0804\tLossG: 1.2075\tD(x): 0.6127\tD(G(x)): 0.3420\n",
      "[2/25][150/320]\tLossD: 1.0601\tLossG: 1.1182\tD(x): 0.6676\tD(G(x)): 0.3742\n",
      "[2/25][200/320]\tLossD: 1.0785\tLossG: 1.1123\tD(x): 0.6358\tD(G(x)): 0.3735\n",
      "[2/25][250/320]\tLossD: 1.1994\tLossG: 1.0214\tD(x): 0.6151\tD(G(x)): 0.4058\n",
      "[2/25][300/320]\tLossD: 1.1639\tLossG: 1.0572\tD(x): 0.5771\tD(G(x)): 0.3889\n",
      "[3/25][0/320]\tLossD: 1.3227\tLossG: 0.9110\tD(x): 0.5783\tD(G(x)): 0.4462\n",
      "[3/25][50/320]\tLossD: 1.1741\tLossG: 1.0003\tD(x): 0.6031\tD(G(x)): 0.4049\n",
      "[3/25][100/320]\tLossD: 1.1516\tLossG: 1.0492\tD(x): 0.6062\tD(G(x)): 0.4055\n",
      "[3/25][150/320]\tLossD: 1.2899\tLossG: 0.8631\tD(x): 0.5645\tD(G(x)): 0.4505\n",
      "[3/25][200/320]\tLossD: 1.2096\tLossG: 0.9409\tD(x): 0.5840\tD(G(x)): 0.4251\n",
      "[3/25][250/320]\tLossD: 1.1326\tLossG: 0.9294\tD(x): 0.6046\tD(G(x)): 0.4223\n",
      "[3/25][300/320]\tLossD: 1.2149\tLossG: 0.8657\tD(x): 0.6082\tD(G(x)): 0.4535\n",
      "[4/25][0/320]\tLossD: 1.1598\tLossG: 0.9040\tD(x): 0.6009\tD(G(x)): 0.4402\n",
      "[4/25][50/320]\tLossD: 1.2564\tLossG: 0.8186\tD(x): 0.5918\tD(G(x)): 0.4672\n",
      "[4/25][100/320]\tLossD: 1.1957\tLossG: 0.9120\tD(x): 0.5780\tD(G(x)): 0.4304\n",
      "[4/25][150/320]\tLossD: 1.1725\tLossG: 0.9025\tD(x): 0.5782\tD(G(x)): 0.4310\n",
      "[4/25][200/320]\tLossD: 1.2195\tLossG: 0.8409\tD(x): 0.6126\tD(G(x)): 0.4633\n",
      "[4/25][250/320]\tLossD: 1.1924\tLossG: 0.8878\tD(x): 0.5699\tD(G(x)): 0.4335\n",
      "[4/25][300/320]\tLossD: 1.2281\tLossG: 0.8331\tD(x): 0.5794\tD(G(x)): 0.4545\n",
      "[5/25][0/320]\tLossD: 1.2267\tLossG: 0.9281\tD(x): 0.5571\tD(G(x)): 0.4250\n",
      "[5/25][50/320]\tLossD: 1.1510\tLossG: 0.9257\tD(x): 0.5731\tD(G(x)): 0.4173\n",
      "[5/25][100/320]\tLossD: 1.2357\tLossG: 0.8738\tD(x): 0.5472\tD(G(x)): 0.4364\n",
      "[5/25][150/320]\tLossD: 1.2629\tLossG: 0.8898\tD(x): 0.5515\tD(G(x)): 0.4392\n",
      "[5/25][200/320]\tLossD: 1.1845\tLossG: 0.9031\tD(x): 0.5690\tD(G(x)): 0.4251\n",
      "[5/25][250/320]\tLossD: 1.2909\tLossG: 0.8146\tD(x): 0.5841\tD(G(x)): 0.4664\n",
      "[5/25][300/320]\tLossD: 1.2198\tLossG: 0.8624\tD(x): 0.5688\tD(G(x)): 0.4455\n",
      "[6/25][0/320]\tLossD: 1.2900\tLossG: 0.8220\tD(x): 0.5502\tD(G(x)): 0.4601\n",
      "[6/25][50/320]\tLossD: 1.3862\tLossG: 0.8216\tD(x): 0.5260\tD(G(x)): 0.4659\n",
      "[6/25][100/320]\tLossD: 1.2289\tLossG: 0.8814\tD(x): 0.5459\tD(G(x)): 0.4325\n",
      "[6/25][150/320]\tLossD: 1.2647\tLossG: 0.8219\tD(x): 0.5574\tD(G(x)): 0.4596\n",
      "[6/25][200/320]\tLossD: 1.2697\tLossG: 0.8653\tD(x): 0.5398\tD(G(x)): 0.4426\n",
      "[6/25][250/320]\tLossD: 1.2071\tLossG: 0.8863\tD(x): 0.5673\tD(G(x)): 0.4362\n",
      "[6/25][300/320]\tLossD: 1.3390\tLossG: 0.7768\tD(x): 0.5455\tD(G(x)): 0.4784\n",
      "[7/25][0/320]\tLossD: 1.2915\tLossG: 0.7818\tD(x): 0.5625\tD(G(x)): 0.4754\n",
      "[7/25][50/320]\tLossD: 1.2659\tLossG: 0.8463\tD(x): 0.5280\tD(G(x)): 0.4428\n",
      "[7/25][100/320]\tLossD: 1.2496\tLossG: 0.8142\tD(x): 0.5518\tD(G(x)): 0.4577\n",
      "[7/25][150/320]\tLossD: 1.2543\tLossG: 0.8092\tD(x): 0.5415\tD(G(x)): 0.4580\n",
      "[7/25][200/320]\tLossD: 1.3262\tLossG: 0.7842\tD(x): 0.5276\tD(G(x)): 0.4713\n",
      "[7/25][250/320]\tLossD: 1.2462\tLossG: 0.8176\tD(x): 0.5559\tD(G(x)): 0.4563\n",
      "[7/25][300/320]\tLossD: 1.2905\tLossG: 0.7740\tD(x): 0.5484\tD(G(x)): 0.4735\n",
      "[8/25][0/320]\tLossD: 1.2847\tLossG: 0.8201\tD(x): 0.5220\tD(G(x)): 0.4555\n",
      "[8/25][50/320]\tLossD: 1.2980\tLossG: 0.8017\tD(x): 0.5168\tD(G(x)): 0.4603\n",
      "[8/25][100/320]\tLossD: 1.3147\tLossG: 0.7896\tD(x): 0.5293\tD(G(x)): 0.4647\n",
      "[8/25][150/320]\tLossD: 1.2938\tLossG: 0.8278\tD(x): 0.5012\tD(G(x)): 0.4520\n",
      "[8/25][200/320]\tLossD: 1.3057\tLossG: 0.8219\tD(x): 0.5386\tD(G(x)): 0.4542\n",
      "[8/25][250/320]\tLossD: 1.2834\tLossG: 0.7687\tD(x): 0.5477\tD(G(x)): 0.4758\n",
      "[8/25][300/320]\tLossD: 1.2562\tLossG: 0.7700\tD(x): 0.5656\tD(G(x)): 0.4750\n",
      "[9/25][0/320]\tLossD: 1.2644\tLossG: 0.7701\tD(x): 0.5543\tD(G(x)): 0.4734\n",
      "[9/25][50/320]\tLossD: 1.2604\tLossG: 0.7919\tD(x): 0.5695\tD(G(x)): 0.4668\n",
      "[9/25][100/320]\tLossD: 1.3074\tLossG: 0.8411\tD(x): 0.5053\tD(G(x)): 0.4465\n",
      "[9/25][150/320]\tLossD: 1.3001\tLossG: 0.7941\tD(x): 0.5272\tD(G(x)): 0.4647\n",
      "[9/25][200/320]\tLossD: 1.2814\tLossG: 0.8068\tD(x): 0.5509\tD(G(x)): 0.4595\n",
      "[9/25][250/320]\tLossD: 1.3049\tLossG: 0.7808\tD(x): 0.5293\tD(G(x)): 0.4669\n",
      "[9/25][300/320]\tLossD: 1.2475\tLossG: 0.8427\tD(x): 0.5506\tD(G(x)): 0.4426\n",
      "[10/25][0/320]\tLossD: 1.3091\tLossG: 0.7661\tD(x): 0.5436\tD(G(x)): 0.4767\n",
      "[10/25][50/320]\tLossD: 1.2459\tLossG: 0.8098\tD(x): 0.5505\tD(G(x)): 0.4585\n",
      "[10/25][100/320]\tLossD: 1.3231\tLossG: 0.7670\tD(x): 0.5294\tD(G(x)): 0.4764\n",
      "[10/25][150/320]\tLossD: 1.2804\tLossG: 0.8252\tD(x): 0.5330\tD(G(x)): 0.4498\n",
      "[10/25][200/320]\tLossD: 1.3101\tLossG: 0.7832\tD(x): 0.5345\tD(G(x)): 0.4730\n",
      "[10/25][250/320]\tLossD: 1.3082\tLossG: 0.7839\tD(x): 0.5186\tD(G(x)): 0.4686\n",
      "[10/25][300/320]\tLossD: 1.3369\tLossG: 0.7499\tD(x): 0.5462\tD(G(x)): 0.4839\n",
      "[11/25][0/320]\tLossD: 1.3479\tLossG: 0.8135\tD(x): 0.5175\tD(G(x)): 0.4550\n",
      "[11/25][50/320]\tLossD: 1.3842\tLossG: 0.7806\tD(x): 0.4907\tD(G(x)): 0.4691\n",
      "[11/25][100/320]\tLossD: 1.2713\tLossG: 0.8480\tD(x): 0.5222\tD(G(x)): 0.4397\n",
      "[11/25][150/320]\tLossD: 1.2487\tLossG: 0.8020\tD(x): 0.5711\tD(G(x)): 0.4582\n",
      "[11/25][200/320]\tLossD: 1.3028\tLossG: 0.7886\tD(x): 0.5220\tD(G(x)): 0.4670\n",
      "[11/25][250/320]\tLossD: 1.2591\tLossG: 0.8115\tD(x): 0.5358\tD(G(x)): 0.4556\n",
      "[11/25][300/320]\tLossD: 1.3062\tLossG: 0.7767\tD(x): 0.5362\tD(G(x)): 0.4685\n",
      "[12/25][0/320]\tLossD: 1.2793\tLossG: 0.8058\tD(x): 0.5394\tD(G(x)): 0.4574\n",
      "[12/25][50/320]\tLossD: 1.3401\tLossG: 0.7918\tD(x): 0.5225\tD(G(x)): 0.4655\n",
      "[12/25][100/320]\tLossD: 1.2427\tLossG: 0.7858\tD(x): 0.5704\tD(G(x)): 0.4684\n",
      "[12/25][150/320]\tLossD: 1.3249\tLossG: 0.8235\tD(x): 0.5065\tD(G(x)): 0.4489\n",
      "[12/25][200/320]\tLossD: 1.3156\tLossG: 0.7849\tD(x): 0.5316\tD(G(x)): 0.4648\n",
      "[12/25][250/320]\tLossD: 1.2770\tLossG: 0.8022\tD(x): 0.5421\tD(G(x)): 0.4605\n",
      "[12/25][300/320]\tLossD: 1.3010\tLossG: 0.7909\tD(x): 0.5342\tD(G(x)): 0.4644\n",
      "[13/25][0/320]\tLossD: 1.3231\tLossG: 0.8200\tD(x): 0.4915\tD(G(x)): 0.4561\n",
      "[13/25][50/320]\tLossD: 1.3190\tLossG: 0.7840\tD(x): 0.5276\tD(G(x)): 0.4677\n",
      "[13/25][100/320]\tLossD: 1.2779\tLossG: 0.8318\tD(x): 0.5609\tD(G(x)): 0.4482\n",
      "[13/25][150/320]\tLossD: 1.2633\tLossG: 0.8490\tD(x): 0.5375\tD(G(x)): 0.4402\n",
      "[13/25][200/320]\tLossD: 1.2855\tLossG: 0.8159\tD(x): 0.5324\tD(G(x)): 0.4564\n",
      "[13/25][250/320]\tLossD: 1.2611\tLossG: 0.8571\tD(x): 0.5251\tD(G(x)): 0.4375\n",
      "[13/25][300/320]\tLossD: 1.2612\tLossG: 0.8093\tD(x): 0.5423\tD(G(x)): 0.4580\n",
      "[14/25][0/320]\tLossD: 1.2709\tLossG: 0.8177\tD(x): 0.5193\tD(G(x)): 0.4514\n",
      "[14/25][50/320]\tLossD: 1.2147\tLossG: 0.8321\tD(x): 0.5404\tD(G(x)): 0.4442\n",
      "[14/25][100/320]\tLossD: 1.2725\tLossG: 0.8286\tD(x): 0.5395\tD(G(x)): 0.4558\n",
      "[14/25][150/320]\tLossD: 1.2398\tLossG: 0.8549\tD(x): 0.5488\tD(G(x)): 0.4425\n",
      "[14/25][200/320]\tLossD: 1.1972\tLossG: 0.8478\tD(x): 0.5674\tD(G(x)): 0.4384\n",
      "[14/25][250/320]\tLossD: 1.2852\tLossG: 0.8089\tD(x): 0.5324\tD(G(x)): 0.4606\n",
      "[14/25][300/320]\tLossD: 1.2685\tLossG: 0.8605\tD(x): 0.5227\tD(G(x)): 0.4403\n",
      "[15/25][0/320]\tLossD: 1.1765\tLossG: 0.8934\tD(x): 0.5831\tD(G(x)): 0.4242\n",
      "[15/25][50/320]\tLossD: 1.2255\tLossG: 0.8365\tD(x): 0.5549\tD(G(x)): 0.4464\n",
      "[15/25][100/320]\tLossD: 1.1938\tLossG: 0.8875\tD(x): 0.5317\tD(G(x)): 0.4250\n",
      "[15/25][150/320]\tLossD: 1.2547\tLossG: 0.8159\tD(x): 0.5604\tD(G(x)): 0.4569\n",
      "[15/25][200/320]\tLossD: 1.2805\tLossG: 0.8023\tD(x): 0.5406\tD(G(x)): 0.4659\n",
      "[15/25][250/320]\tLossD: 1.2856\tLossG: 0.7819\tD(x): 0.5350\tD(G(x)): 0.4743\n",
      "[15/25][300/320]\tLossD: 1.3417\tLossG: 0.8392\tD(x): 0.5087\tD(G(x)): 0.4472\n",
      "[16/25][0/320]\tLossD: 1.3025\tLossG: 0.7948\tD(x): 0.5315\tD(G(x)): 0.4625\n",
      "[16/25][50/320]\tLossD: 1.1856\tLossG: 0.8273\tD(x): 0.5865\tD(G(x)): 0.4518\n",
      "[16/25][100/320]\tLossD: 1.3031\tLossG: 0.7877\tD(x): 0.5670\tD(G(x)): 0.4714\n",
      "[16/25][150/320]\tLossD: 1.3167\tLossG: 0.7563\tD(x): 0.5461\tD(G(x)): 0.4818\n",
      "[16/25][200/320]\tLossD: 1.2377\tLossG: 0.7828\tD(x): 0.5742\tD(G(x)): 0.4693\n",
      "[16/25][250/320]\tLossD: 1.3149\tLossG: 0.8034\tD(x): 0.5556\tD(G(x)): 0.4628\n",
      "[16/25][300/320]\tLossD: 1.3848\tLossG: 0.7459\tD(x): 0.5441\tD(G(x)): 0.4875\n",
      "[17/25][0/320]\tLossD: 1.2878\tLossG: 0.7872\tD(x): 0.5424\tD(G(x)): 0.4679\n",
      "[17/25][50/320]\tLossD: 1.2924\tLossG: 0.7866\tD(x): 0.5305\tD(G(x)): 0.4677\n",
      "[17/25][100/320]\tLossD: 1.2755\tLossG: 0.7884\tD(x): 0.5499\tD(G(x)): 0.4701\n",
      "[17/25][150/320]\tLossD: 1.3166\tLossG: 0.8006\tD(x): 0.5211\tD(G(x)): 0.4630\n",
      "[17/25][200/320]\tLossD: 1.3697\tLossG: 0.7876\tD(x): 0.4893\tD(G(x)): 0.4725\n",
      "[17/25][250/320]\tLossD: 1.3395\tLossG: 0.7835\tD(x): 0.5182\tD(G(x)): 0.4732\n",
      "[17/25][300/320]\tLossD: 1.3317\tLossG: 0.7949\tD(x): 0.5144\tD(G(x)): 0.4673\n",
      "[18/25][0/320]\tLossD: 1.3556\tLossG: 0.8037\tD(x): 0.5063\tD(G(x)): 0.4591\n",
      "[18/25][50/320]\tLossD: 1.3384\tLossG: 0.7803\tD(x): 0.5401\tD(G(x)): 0.4736\n",
      "[18/25][100/320]\tLossD: 1.2499\tLossG: 0.8330\tD(x): 0.5352\tD(G(x)): 0.4478\n",
      "[18/25][150/320]\tLossD: 1.3521\tLossG: 0.7763\tD(x): 0.5391\tD(G(x)): 0.4760\n",
      "[18/25][200/320]\tLossD: 1.2871\tLossG: 0.8038\tD(x): 0.5519\tD(G(x)): 0.4620\n",
      "[18/25][250/320]\tLossD: 1.2653\tLossG: 0.8115\tD(x): 0.5438\tD(G(x)): 0.4577\n",
      "[18/25][300/320]\tLossD: 1.3821\tLossG: 0.7945\tD(x): 0.5119\tD(G(x)): 0.4712\n",
      "[19/25][0/320]\tLossD: 1.2914\tLossG: 0.8194\tD(x): 0.5309\tD(G(x)): 0.4555\n",
      "[19/25][50/320]\tLossD: 1.4538\tLossG: 0.7370\tD(x): 0.4637\tD(G(x)): 0.4928\n",
      "[19/25][100/320]\tLossD: 1.3728\tLossG: 0.7661\tD(x): 0.5206\tD(G(x)): 0.4818\n",
      "[19/25][150/320]\tLossD: 1.4071\tLossG: 0.7360\tD(x): 0.5243\tD(G(x)): 0.4929\n",
      "[19/25][200/320]\tLossD: 1.3859\tLossG: 0.7249\tD(x): 0.5392\tD(G(x)): 0.4985\n",
      "[19/25][250/320]\tLossD: 1.4372\tLossG: 0.7035\tD(x): 0.5060\tD(G(x)): 0.5075\n",
      "[19/25][300/320]\tLossD: 1.2873\tLossG: 0.7998\tD(x): 0.5460\tD(G(x)): 0.4636\n",
      "[20/25][0/320]\tLossD: 1.3763\tLossG: 0.7318\tD(x): 0.5300\tD(G(x)): 0.4943\n",
      "[20/25][50/320]\tLossD: 1.3159\tLossG: 0.8185\tD(x): 0.5345\tD(G(x)): 0.4543\n",
      "[20/25][100/320]\tLossD: 1.4085\tLossG: 0.7683\tD(x): 0.4886\tD(G(x)): 0.4801\n",
      "[20/25][150/320]\tLossD: 1.2939\tLossG: 0.8066\tD(x): 0.5319\tD(G(x)): 0.4581\n",
      "[20/25][200/320]\tLossD: 1.3465\tLossG: 0.7677\tD(x): 0.5101\tD(G(x)): 0.4781\n",
      "[20/25][250/320]\tLossD: 1.3441\tLossG: 0.8053\tD(x): 0.5022\tD(G(x)): 0.4617\n",
      "[20/25][300/320]\tLossD: 1.3468\tLossG: 0.7960\tD(x): 0.4907\tD(G(x)): 0.4622\n",
      "[21/25][0/320]\tLossD: 1.3805\tLossG: 0.7490\tD(x): 0.5153\tD(G(x)): 0.4899\n",
      "[21/25][50/320]\tLossD: 1.3534\tLossG: 0.7718\tD(x): 0.5310\tD(G(x)): 0.4811\n",
      "[21/25][100/320]\tLossD: 1.3376\tLossG: 0.7744\tD(x): 0.5329\tD(G(x)): 0.4722\n",
      "[21/25][150/320]\tLossD: 1.3379\tLossG: 0.7635\tD(x): 0.5165\tD(G(x)): 0.4752\n",
      "[21/25][200/320]\tLossD: 1.3239\tLossG: 0.7814\tD(x): 0.5352\tD(G(x)): 0.4682\n",
      "[21/25][250/320]\tLossD: 1.3827\tLossG: 0.7352\tD(x): 0.5350\tD(G(x)): 0.4895\n",
      "[21/25][300/320]\tLossD: 1.3608\tLossG: 0.7555\tD(x): 0.5103\tD(G(x)): 0.4823\n",
      "[22/25][0/320]\tLossD: 1.3485\tLossG: 0.7154\tD(x): 0.5262\tD(G(x)): 0.4990\n",
      "[22/25][50/320]\tLossD: 1.3805\tLossG: 0.6866\tD(x): 0.5271\tD(G(x)): 0.5123\n",
      "[22/25][100/320]\tLossD: 1.3101\tLossG: 0.7670\tD(x): 0.5243\tD(G(x)): 0.4727\n",
      "[22/25][150/320]\tLossD: 1.3943\tLossG: 0.7619\tD(x): 0.4757\tD(G(x)): 0.4745\n",
      "[22/25][200/320]\tLossD: 1.3518\tLossG: 0.7522\tD(x): 0.5038\tD(G(x)): 0.4785\n",
      "[22/25][250/320]\tLossD: 1.3855\tLossG: 0.7352\tD(x): 0.5083\tD(G(x)): 0.4906\n",
      "[22/25][300/320]\tLossD: 1.3133\tLossG: 0.7760\tD(x): 0.5291\tD(G(x)): 0.4676\n",
      "[23/25][0/320]\tLossD: 1.3797\tLossG: 0.7017\tD(x): 0.5246\tD(G(x)): 0.5043\n",
      "[23/25][50/320]\tLossD: 1.3211\tLossG: 0.7578\tD(x): 0.5267\tD(G(x)): 0.4765\n",
      "[23/25][100/320]\tLossD: 1.3522\tLossG: 0.7276\tD(x): 0.5138\tD(G(x)): 0.4911\n",
      "[23/25][150/320]\tLossD: 1.3087\tLossG: 0.8367\tD(x): 0.5277\tD(G(x)): 0.4451\n",
      "[23/25][200/320]\tLossD: 1.3328\tLossG: 0.8236\tD(x): 0.5035\tD(G(x)): 0.4519\n",
      "[23/25][250/320]\tLossD: 1.3345\tLossG: 0.7729\tD(x): 0.5128\tD(G(x)): 0.4678\n",
      "[23/25][300/320]\tLossD: 1.4051\tLossG: 0.7360\tD(x): 0.5013\tD(G(x)): 0.4873\n",
      "[24/25][0/320]\tLossD: 1.4315\tLossG: 0.7025\tD(x): 0.5110\tD(G(x)): 0.5053\n",
      "[24/25][50/320]\tLossD: 1.3300\tLossG: 0.7311\tD(x): 0.5382\tD(G(x)): 0.4869\n",
      "[24/25][100/320]\tLossD: 1.3388\tLossG: 0.7259\tD(x): 0.5346\tD(G(x)): 0.4919\n",
      "[24/25][150/320]\tLossD: 1.3486\tLossG: 0.7159\tD(x): 0.5052\tD(G(x)): 0.4936\n",
      "[24/25][200/320]\tLossD: 1.3696\tLossG: 0.7318\tD(x): 0.5079\tD(G(x)): 0.4864\n",
      "[24/25][250/320]\tLossD: 1.3622\tLossG: 0.7261\tD(x): 0.5136\tD(G(x)): 0.4927\n",
      "[24/25][300/320]\tLossD: 1.3460\tLossG: 0.7287\tD(x): 0.5072\tD(G(x)): 0.4901\n"
     ]
    }
   ],
   "source": [
    "G_losses = []\n",
    "D_losses = []\n",
    "iters = 0\n",
    "\n",
    "netD.train()\n",
    "netG.train()\n",
    "\n",
    "print(\"Starting Training Loop...\")\n",
    "\n",
    "for epoch in range(n_epoch):\n",
    "    for i, data in enumerate(data_loader):\n",
    "\n",
    "        netD.zero_grad()\n",
    "        real_batch = data.to(device)\n",
    "        b_size = real_batch.shape[0]\n",
    "        label = torch.full((b_size,), REAL_LABEL, dtype=torch.float, device=device)\n",
    "        output = netD(real_batch).view(-1)\n",
    "        errD_real = criterion(output, label)\n",
    "        errD_real.backward()\n",
    "        D_x = output.mean().item()\n",
    "\n",
    "        noise = torch.randn(b_size, Z_DIM, device=device)\n",
    "        # Generate fake image batch with G\n",
    "        fake = netG(noise)\n",
    "        label.fill_(FAKE_LABEL)\n",
    "        # Classify all fake batch with D\n",
    "        output = netD(fake.detach()).view(-1)\n",
    "        # Calculate D's loss on the all-fake batch\n",
    "        errD_fake = criterion(output, label)\n",
    "        errD_fake.backward()\n",
    "        D_G_z1 = output.mean().item()\n",
    "        errD = errD_real + errD_fake\n",
    "        # Update D\n",
    "        optimizerD.step()\n",
    "\n",
    "        netG.zero_grad()\n",
    "        label.fill_(REAL_LABEL)\n",
    "        output = netD(fake).view(-1)\n",
    "        errG = criterion(output, label)\n",
    "        errG.backward()\n",
    "        D_G_z2 = output.mean().item()\n",
    "        optimizerG.step()\n",
    "\n",
    "        # Save Losses for plotting later\n",
    "        G_losses.append(errG.item())\n",
    "        D_losses.append(errD.item())\n",
    "\n",
    "        # Output training stats\n",
    "        if i % 50 == 0:\n",
    "            print(f\"[{epoch}/{n_epoch}][{i}/{len(data_loader)}]\\tLossD: {errD.item():.4f}\\tLossG: {errG.item():.4f}\\t\" +\n",
    "                f\"D(x): {D_x:.4f}\\tD(G(x)): {D_G_z2:.4f}\")\n",
    "\n"
   ]
  },
  {
   "cell_type": "code",
   "execution_count": 16,
   "metadata": {},
   "outputs": [
    {
     "name": "stdout",
     "output_type": "stream",
     "text": [
      "tensor([[ 0.3910,  0.0113, -0.1009, -1.3494],\n",
      "        [-0.6748, -0.3220, -2.1123, -0.2017],\n",
      "        [ 0.7639,  0.1549,  0.3309,  0.0023],\n",
      "        [ 1.0003,  0.9942, -0.2666,  0.2893],\n",
      "        [ 0.4037,  0.3123,  0.7810, -0.1111],\n",
      "        [ 0.5247,  0.3335,  0.9164, -0.0157],\n",
      "        [ 0.2017,  0.0188, -0.0533, -1.4992],\n",
      "        [-0.2318,  0.4158, -0.3581,  0.1797],\n",
      "        [-1.2597, -0.0660,  0.9624,  0.0761],\n",
      "        [ 0.9327, -0.2166,  0.0555, -0.5671],\n",
      "        [-0.7124,  0.0207, -0.4242,  0.6942],\n",
      "        [ 1.5218,  0.6933,  0.9438,  0.9380]], device='cuda:0')\n",
      "tensor([ 0.4354,  0.0585, -0.7464,  0.2303,  0.0044, -0.8186,  0.7991,  0.5796,\n",
      "         1.0853, -0.7879,  0.3479,  0.1861], device='cuda:0')\n",
      "tensor([[-1.3054, -0.6691, -2.4838, -1.1677,  0.0609,  0.9270,  0.0875, -0.3887,\n",
      "         -0.7769, -0.2328,  0.0974,  0.0423],\n",
      "        [-1.6467,  0.1589, -1.5066, -0.3711,  0.8402,  0.4842,  0.8232,  0.5211,\n",
      "          0.0807, -0.7282,  1.1313, -0.2273],\n",
      "        [ 0.2912,  0.2252,  1.9606,  1.2308, -1.0081, -0.7644, -0.8675,  0.2336,\n",
      "         -0.3138,  0.3178, -0.5135,  0.8883],\n",
      "        [-1.4677, -1.5764, -1.5917,  0.3428,  0.6258,  1.0776,  1.2928,  0.1158,\n",
      "         -1.9482,  0.2897,  0.0411,  0.6326],\n",
      "        [ 0.4236, -0.1065,  1.7332,  0.4816,  0.5413, -0.6600, -0.6633,  0.0798,\n",
      "         -0.5448, -0.3340, -0.1764,  0.4506],\n",
      "        [ 0.0745, -0.0639,  0.9841,  0.8843, -0.7462,  0.6956, -1.2021,  0.7517,\n",
      "          1.0883,  0.3313, -0.0525, -0.5104]], device='cuda:0')\n",
      "tensor([-0.0719,  0.4394, -0.0852, -0.2125,  0.3843, -0.2060], device='cuda:0')\n",
      "tensor([[ 0.4633,  2.0450, -0.5968,  2.2801, -1.3125, -0.5022]],\n",
      "       device='cuda:0')\n",
      "tensor([-0.1080], device='cuda:0')\n"
     ]
    }
   ],
   "source": [
    "for param in netD.parameters():\n",
    "    print(param.data)"
   ]
  },
  {
   "cell_type": "code",
   "execution_count": 17,
   "metadata": {},
   "outputs": [
    {
     "name": "stdout",
     "output_type": "stream",
     "text": [
      "tensor([[-0.0279, -0.1099, -0.2201,  0.2775,  1.1852,  0.7773],\n",
      "        [-0.5889, -0.0923, -0.6672,  0.2586, -0.0826, -0.5583],\n",
      "        [ 0.9270, -0.6807, -0.3718, -1.0299,  0.7101, -0.1408],\n",
      "        [-0.2435,  0.5152, -0.2029,  0.5081, -0.0715, -0.6094],\n",
      "        [-0.4564,  0.1896, -0.2452,  0.2458, -0.8364,  0.0360],\n",
      "        [ 0.4193, -0.2141,  0.1195,  0.5241,  0.2342,  0.1462],\n",
      "        [ 0.5181, -0.7592,  0.3162,  1.0462,  0.2754,  0.2685],\n",
      "        [-0.6156, -0.0630, -0.6205,  0.7284, -0.9212, -0.2515]],\n",
      "       device='cuda:0')\n",
      "tensor([-0.3608,  0.3750,  0.0931,  0.5400,  0.0091,  0.0872, -0.1016, -0.3618],\n",
      "       device='cuda:0')\n",
      "tensor([[-0.6830,  0.4600,  0.1240,  0.6354,  0.3368, -0.6428, -0.4996,  0.2372],\n",
      "        [-0.4146, -0.1043,  0.3874,  0.1510, -0.3549,  0.2100,  0.1616, -0.8972],\n",
      "        [-0.6152, -0.2098, -0.8348, -0.7838,  0.1426, -0.3700, -1.0490,  0.3562],\n",
      "        [ 0.2525,  0.5254,  0.0718, -0.9203, -0.4104, -0.5139, -0.1173,  0.7304],\n",
      "        [ 0.1664, -0.1688, -0.0460,  0.5769,  0.6803,  0.9408, -0.5252, -0.1210],\n",
      "        [-0.2106, -0.3554,  0.4542, -0.2088, -0.0275, -0.4068, -1.4223, -0.1960],\n",
      "        [ 0.5957, -0.2547, -0.2882, -0.2566, -0.0377,  0.8416,  1.1562,  0.6818],\n",
      "        [-0.5619, -0.0705,  0.1282, -0.2588, -0.1182, -0.1927, -1.0733, -0.8640],\n",
      "        [ 0.1227, -0.9581, -2.1543, -0.8744,  0.0948,  0.3938,  0.2090, -0.2487],\n",
      "        [-0.5231,  0.3681, -0.5226, -0.4739, -0.1652, -0.3699, -0.3191, -0.9644],\n",
      "        [ 0.5382,  0.0115, -0.5817, -0.5581,  1.0039, -0.1334,  0.3816, -0.3897],\n",
      "        [ 1.1297, -0.6329,  0.8887,  0.3118,  0.2070,  0.5691, -0.9544, -0.2691]],\n",
      "       device='cuda:0')\n",
      "tensor([ 0.3552,  0.5437, -0.3529,  0.1732,  0.3070, -0.1758, -0.0913, -0.1184,\n",
      "        -0.2672, -0.3309, -0.2267, -0.2099], device='cuda:0')\n",
      "tensor([[ 4.2624e-01,  3.2804e-01,  2.1620e-02, -1.4428e+00,  1.4090e-01,\n",
      "          8.1619e-01,  1.5879e-01, -2.9000e-01,  1.2496e+00,  1.6156e-01,\n",
      "         -7.1465e-01,  4.5052e-01],\n",
      "        [ 4.9838e-01,  7.8082e-01,  3.3790e-01, -4.5093e-01,  2.0474e-01,\n",
      "         -3.4667e-01,  6.3922e-01, -7.1060e-01,  8.1283e-01,  1.9500e-01,\n",
      "          3.1572e-01, -1.0007e+00],\n",
      "        [-4.3068e-01, -1.1437e+00,  4.4575e-01, -2.9183e-02,  1.3214e-01,\n",
      "          3.9376e-01, -4.5665e-02, -2.6735e-01,  1.4496e+00,  1.9387e-02,\n",
      "         -2.5449e-01,  6.2694e-01],\n",
      "        [-4.2230e-01, -1.4653e-01, -2.9124e-01, -5.8231e-01, -7.5012e-04,\n",
      "         -2.0562e-01,  3.3424e-01, -1.2722e+00, -3.5489e-01, -1.1422e+00,\n",
      "         -5.4332e-01,  5.0112e-01]], device='cuda:0')\n",
      "tensor([-0.0579, -0.1291, -0.0349, -0.1192], device='cuda:0')\n"
     ]
    }
   ],
   "source": [
    "for param in netG.parameters():\n",
    "    print(param.data)"
   ]
  },
  {
   "cell_type": "code",
   "execution_count": 18,
   "metadata": {},
   "outputs": [
    {
     "data": {
      "text/plain": [
       "Generator(\n",
       "  (main): Sequential(\n",
       "    (0): Linear(in_features=6, out_features=8, bias=True)\n",
       "    (1): LeakyReLU(negative_slope=0.2)\n",
       "    (2): Linear(in_features=8, out_features=12, bias=True)\n",
       "    (3): LeakyReLU(negative_slope=0.2)\n",
       "    (4): Linear(in_features=12, out_features=4, bias=True)\n",
       "    (5): Sigmoid()\n",
       "  )\n",
       ")"
      ]
     },
     "execution_count": 18,
     "metadata": {},
     "output_type": "execute_result"
    }
   ],
   "source": [
    "netD.eval()\n",
    "netG.eval()"
   ]
  },
  {
   "cell_type": "code",
   "execution_count": 19,
   "metadata": {},
   "outputs": [
    {
     "data": {
      "image/png": "[encoded data removed]",
      "text/plain": [
       "<Figure size 1000x500 with 1 Axes>"
      ]
     },
     "metadata": {},
     "output_type": "display_data"
    }
   ],
   "source": [
    "plt.figure(figsize=(10,5))\n",
    "plt.title(\"Generator and Discriminator Loss During Training\")\n",
    "plt.plot(G_losses,label=\"G\")\n",
    "plt.plot(D_losses,label=\"D\")\n",
    "plt.xlabel(\"iterations\")\n",
    "plt.ylabel(\"Loss\")\n",
    "plt.legend()\n",
    "plt.show()"
   ]
  },
  {
   "cell_type": "code",
   "execution_count": 20,
   "metadata": {},
   "outputs": [],
   "source": [
    "n_rows = 4\n",
    "n_cols = 4"
   ]
  },
  {
   "cell_type": "code",
   "execution_count": 21,
   "metadata": {},
   "outputs": [
    {
     "data": {
      "image/png": "[encoded data removed]",
      "text/plain": [
       "<Figure size 640x480 with 16 Axes>"
      ]
     },
     "metadata": {},
     "output_type": "display_data"
    }
   ],
   "source": [
    "real_batch = next(iter(data_loader))\n",
    "\n",
    "fig, axes = plt.subplots(n_rows, n_cols)\n",
    "\n",
    "for i, ax in enumerate(axes.flatten()):\n",
    "    ax.axis(\"off\")\n",
    "    ax.imshow(real_batch[i].reshape(2, 2).cpu(), cmap=\"binary\")"
   ]
  },
  {
   "cell_type": "code",
   "execution_count": 22,
   "metadata": {},
   "outputs": [
    {
     "data": {
      "image/png": "[encoded data removed]",
      "text/plain": [
       "<Figure size 640x480 with 16 Axes>"
      ]
     },
     "metadata": {},
     "output_type": "display_data"
    }
   ],
   "source": [
    "real_batch = next(iter(data_loader))\n",
    "\n",
    "fig, axes = plt.subplots(n_rows, n_cols)\n",
    "\n",
    "for i, ax in enumerate(axes.flatten()):\n",
    "    ax.axis(\"off\")\n",
    "    ax.imshow(real_batch[i].reshape(2, 2).cpu(), cmap=\"binary\")"
   ]
  },
  {
   "cell_type": "code",
   "execution_count": 23,
   "metadata": {},
   "outputs": [
    {
     "data": {
      "image/png": "[encoded data removed]",
      "text/plain": [
       "<Figure size 640x480 with 16 Axes>"
      ]
     },
     "metadata": {},
     "output_type": "display_data"
    }
   ],
   "source": [
    "b_size = n_rows * n_cols\n",
    "\n",
    "noise = torch.randn(b_size, Z_DIM, device=device)\n",
    "\n",
    "with torch.no_grad():\n",
    "    fake_batch = netG(noise)\n",
    "\n",
    "fig, axes = plt.subplots(n_rows, n_cols)\n",
    "for i, ax in enumerate(axes.flatten()):\n",
    "    ax.axis(\"off\")\n",
    "    ax.imshow(fake_batch[i].reshape(2, 2).cpu(), cmap=\"binary\")"
   ]
  },
  {
   "cell_type": "code",
   "execution_count": 24,
   "metadata": {},
   "outputs": [
    {
     "data": {
      "image/png": "[encoded data removed]",
      "text/plain": [
       "<Figure size 640x480 with 16 Axes>"
      ]
     },
     "metadata": {},
     "output_type": "display_data"
    }
   ],
   "source": [
    "b_size = n_rows * n_cols\n",
    "\n",
    "noise = torch.randn(b_size, Z_DIM, device=device)\n",
    "\n",
    "with torch.no_grad():\n",
    "    fake_batch = netG(noise)\n",
    "\n",
    "fig, axes = plt.subplots(n_rows, n_cols)\n",
    "for i, ax in enumerate(axes.flatten()):\n",
    "    ax.axis(\"off\")\n",
    "    ax.imshow(fake_batch[i].reshape(2, 2).cpu(), cmap=\"binary\")"
   ]
  },
  {
   "cell_type": "code",
   "execution_count": 25,
   "metadata": {},
   "outputs": [],
   "source": [
    "sample_size = 10000\n",
    "data_index = torch.randperm(data_true.shape[0])[:sample_size]\n",
    "real_samples = data_true[data_index]\n",
    "\n",
    "\n",
    "\n",
    "noise = torch.randn(sample_size, Z_DIM, device=device)\n",
    "with torch.no_grad():\n",
    "    fake_samples = netG(noise)\n",
    "\n",
    "\n",
    "np.savez(save_folder + \"/samples.npz\", \n",
    "    real_samples = real_samples.cpu(), \n",
    "    fake_samples_raw=fake_samples.cpu())"
   ]
  },
  {
   "cell_type": "code",
   "execution_count": 26,
   "metadata": {},
   "outputs": [],
   "source": [
    "with torch.no_grad():\n",
    "    real_scores = netD(real_samples).cpu()\n",
    "    fake_scores = netD(fake_samples).cpu()\n",
    "    # fake_rounded_scores = netD(fake_samples_rounded).cpu()"
   ]
  },
  {
   "cell_type": "code",
   "execution_count": 27,
   "metadata": {},
   "outputs": [
    {
     "name": "stdout",
     "output_type": "stream",
     "text": [
      "0.5193862\n",
      "0.49721718\n"
     ]
    }
   ],
   "source": [
    "print(np.mean(real_scores.numpy()))\n",
    "print(np.mean(fake_scores.numpy()))\n",
    "# print(np.mean(fake_rounded_scores.numpy()))"
   ]
  },
  {
   "cell_type": "code",
   "execution_count": 28,
   "metadata": {},
   "outputs": [
    {
     "data": {
      "image/png": "[encoded data removed]",
      "text/plain": [
       "<Figure size 640x480 with 1 Axes>"
      ]
     },
     "metadata": {},
     "output_type": "display_data"
    }
   ],
   "source": [
    "fig, ax = plt.subplots()\n",
    "\n",
    "\n",
    "\n",
    "ax.hist(real_scores.view(-1), bins = 50, range=(0, 1), color = plt.cm.tab10(0), alpha = 0.5, label=\"real\")\n",
    "ax.hist(fake_scores.view(-1), bins = 50, range=(0, 1), color = plt.cm.tab10(1), alpha = 0.5, label=\"generated\")\n",
    "\n",
    "ax.legend()\n",
    "\n",
    "None"
   ]
  },
  {
   "cell_type": "code",
   "execution_count": 29,
   "metadata": {},
   "outputs": [],
   "source": [
    "# fig, ax = plt.subplots()\n",
    "\n",
    "\n",
    "\n",
    "# ax.hist(real_scores.view(-1), bins = 50, range=(0, 1), alpha=0.5, color = plt.cm.tab10(0))\n",
    "# ax.hist(fake_rounded_scores.view(-1), bins = 50, range=(0, 1), alpha=0.5, color = plt.cm.tab10(1))\n",
    "\n",
    "# None"
   ]
  },
  {
   "cell_type": "code",
   "execution_count": 30,
   "metadata": {},
   "outputs": [],
   "source": [
    "# json_path = data_path[:-4] + \".json\"\n",
    "# with open(json_path, 'r') as f:\n",
    "#     real_data_dict = json.load(f)\n",
    "\n",
    "# def np_to_dict(result_np):\n",
    "#     result_dict = {}\n",
    "#     for line in result_np:\n",
    "#         str_key = \"\"\n",
    "#         for i in line:  # reversing the order to match qiskit notation\n",
    "#             str_key+=(str(i))\n",
    "#         current_value = result_dict.get(str_key, 0)\n",
    "#         result_dict[str_key] = current_value + 1\n",
    "#     return result_dict\n",
    "\n",
    "# noise = torch.randn(20480, Z_DIM, device=device)\n",
    "# with torch.no_grad():\n",
    "#     fake_data = netG(noise)\n",
    "# # fake_data_rounded = torch.round(fake_data_raw)\n",
    "# # fake_data_rounded = fake_data_rounded.cpu().numpy().astype(np.int32)\n",
    "\n",
    "\n",
    "# fake_data_dict = np_to_dict(fake_data_rounded)\n",
    "\n",
    "# all_keys = (set(real_data_dict.keys())) | (set(fake_data_dict.keys()))\n",
    "\n",
    "# real_counts = []\n",
    "# fake_counts = []\n",
    "\n",
    "# for k in all_keys:\n",
    "#     real_counts.append(real_data_dict.get(k, 0))\n",
    "#     fake_counts.append(fake_data_dict.get(k, 0))\n",
    "\n",
    "# real_counts = np.array(real_counts)\n",
    "# fake_counts = np.array(fake_counts)\n",
    "\n",
    "# real_probs = real_counts / np.sum(real_counts)\n",
    "# fake_probs = fake_counts / np.sum(fake_counts)\n",
    "\n",
    "# mixed_probs = (real_probs + fake_probs) / 2 # here, every entry of mixed_probs are positive\n",
    "\n",
    "# # Note, mixed_probs is all positive. That's why you can use nan_to_num to deal with zero entries in real_probs or fake_probs\n",
    "# dl_r = np.sum(real_probs * np.nan_to_num(np.log(real_probs / mixed_probs)))\n",
    "# dl_f = np.sum(fake_probs * np.nan_to_num(np.log(fake_probs / mixed_probs)))\n",
    "\n",
    "# jl_div = (dl_r + dl_f) / 2\n",
    "\n",
    "# print(f\"JL-divergens is {jl_div}\")\n"
   ]
  },
  {
   "cell_type": "code",
   "execution_count": 31,
   "metadata": {},
   "outputs": [],
   "source": [
    "# train a standalone discriminator to evaluate the performance of the GAN \"objectively\"\n",
    "class Evaluator(nn.Module):\n",
    "    def __init__(self):\n",
    "        super(Evaluator, self).__init__()\n",
    "        self.main = nn.Sequential(\n",
    "            nn.Linear(OUT_DIM, 16),\n",
    "            # nn.LeakyReLU(0.2),\n",
    "            # nn.Linear(32, 16),\n",
    "            nn.LeakyReLU(0.2),\n",
    "            nn.Linear(16, 8),\n",
    "            nn.LeakyReLU(0.2),\n",
    "            nn.Linear(8, 1),\n",
    "            nn.Sigmoid()\n",
    "        )\n",
    "    \n",
    "    def forward(self, input):\n",
    "        return self.main(input)"
   ]
  },
  {
   "cell_type": "code",
   "execution_count": 32,
   "metadata": {},
   "outputs": [
    {
     "name": "stdout",
     "output_type": "stream",
     "text": [
      "Evaluator(\n",
      "  (main): Sequential(\n",
      "    (0): Linear(in_features=4, out_features=16, bias=True)\n",
      "    (1): LeakyReLU(negative_slope=0.2)\n",
      "    (2): Linear(in_features=16, out_features=8, bias=True)\n",
      "    (3): LeakyReLU(negative_slope=0.2)\n",
      "    (4): Linear(in_features=8, out_features=1, bias=True)\n",
      "    (5): Sigmoid()\n",
      "  )\n",
      ")\n"
     ]
    }
   ],
   "source": [
    "netEv = Evaluator().to(device)\n",
    "netEv.apply(weights_init)\n",
    "\n",
    "optimizer_ev = optim.Adam(netEv.parameters(), lr=lr, betas=(0.5, 0.999))\n",
    "loss_ev = nn.BCELoss()\n",
    "print(netEv)"
   ]
  },
  {
   "cell_type": "code",
   "execution_count": 33,
   "metadata": {},
   "outputs": [],
   "source": [
    "batch_size_ev = 16"
   ]
  },
  {
   "cell_type": "code",
   "execution_count": 34,
   "metadata": {},
   "outputs": [],
   "source": [
    "real_samples_np = real_samples.cpu().numpy()\n",
    "fake_samples_np = fake_samples.cpu().numpy()\n",
    "\n",
    "samples = np.concatenate((real_samples_np, fake_samples_np))\n",
    "\n",
    "real_labels = np.repeat(REAL_LABEL, real_samples_np.shape[0])\n",
    "fake_labels = np.repeat(FAKE_LABEL, fake_samples_np.shape[0])\n",
    "labels = np.concatenate((real_labels, fake_labels))\n",
    "\n",
    "X_train, X_rest, y_train, y_rest = train_test_split(\n",
    "    samples, labels, train_size = 0.6, shuffle = True, stratify = labels\n",
    ")\n",
    "\n",
    "X_valid, X_test, y_valid, y_test = train_test_split(\n",
    "    X_rest, y_rest, test_size = 0.5, shuffle = True, stratify = y_rest\n",
    ")\n",
    "\n",
    "X_train = torch.tensor(X_train, dtype=torch.float32, device=device)\n",
    "X_valid = torch.tensor(X_valid, dtype=torch.float32, device=device)\n",
    "X_test = torch.tensor(X_test, dtype=torch.float32, device=device)\n",
    "y_train = torch.tensor(y_train, dtype=torch.float32, device=device)\n",
    "y_valid = torch.tensor(y_valid, dtype=torch.float32, device=device)\n",
    "y_test = torch.tensor(y_test, dtype=torch.float32, device=device)\n",
    "\n",
    "\n",
    "data_loader_ev = torch.utils.data.DataLoader(list(zip(X_train, y_train)), batch_size = batch_size_ev, shuffle = True)\n"
   ]
  },
  {
   "cell_type": "code",
   "execution_count": 35,
   "metadata": {},
   "outputs": [
    {
     "name": "stdout",
     "output_type": "stream",
     "text": [
      "Starting the training loop\n",
      "[0/25][0/320]\tLoss train: 0.776\tLoss valid: 0.772\tLoss acc: 0.500\n",
      "[0/25][50/320]\tLoss train: 0.722\tLoss valid: 0.720\tLoss acc: 0.500\n",
      "[0/25][100/320]\tLoss train: 0.701\tLoss valid: 0.700\tLoss acc: 0.495\n",
      "[0/25][150/320]\tLoss train: 0.697\tLoss valid: 0.696\tLoss acc: 0.494\n",
      "[0/25][200/320]\tLoss train: 0.695\tLoss valid: 0.694\tLoss acc: 0.520\n",
      "[0/25][250/320]\tLoss train: 0.694\tLoss valid: 0.694\tLoss acc: 0.511\n",
      "[0/25][300/320]\tLoss train: 0.694\tLoss valid: 0.694\tLoss acc: 0.505\n",
      "[0/25][350/320]\tLoss train: 0.694\tLoss valid: 0.694\tLoss acc: 0.523\n",
      "[0/25][400/320]\tLoss train: 0.694\tLoss valid: 0.693\tLoss acc: 0.514\n",
      "[0/25][450/320]\tLoss train: 0.694\tLoss valid: 0.693\tLoss acc: 0.501\n",
      "[0/25][500/320]\tLoss train: 0.694\tLoss valid: 0.693\tLoss acc: 0.499\n",
      "[0/25][550/320]\tLoss train: 0.694\tLoss valid: 0.694\tLoss acc: 0.491\n",
      "[0/25][600/320]\tLoss train: 0.694\tLoss valid: 0.693\tLoss acc: 0.498\n",
      "[0/25][650/320]\tLoss train: 0.693\tLoss valid: 0.693\tLoss acc: 0.492\n",
      "[0/25][700/320]\tLoss train: 0.693\tLoss valid: 0.693\tLoss acc: 0.529\n",
      "[1/25][0/320]\tLoss train: 0.693\tLoss valid: 0.693\tLoss acc: 0.518\n",
      "[1/25][50/320]\tLoss train: 0.693\tLoss valid: 0.693\tLoss acc: 0.501\n",
      "[1/25][100/320]\tLoss train: 0.693\tLoss valid: 0.692\tLoss acc: 0.517\n",
      "[1/25][150/320]\tLoss train: 0.693\tLoss valid: 0.693\tLoss acc: 0.505\n",
      "[1/25][200/320]\tLoss train: 0.693\tLoss valid: 0.692\tLoss acc: 0.534\n",
      "[1/25][250/320]\tLoss train: 0.693\tLoss valid: 0.693\tLoss acc: 0.503\n",
      "[1/25][300/320]\tLoss train: 0.692\tLoss valid: 0.692\tLoss acc: 0.525\n",
      "[1/25][350/320]\tLoss train: 0.692\tLoss valid: 0.692\tLoss acc: 0.528\n",
      "[1/25][400/320]\tLoss train: 0.692\tLoss valid: 0.692\tLoss acc: 0.531\n",
      "[1/25][450/320]\tLoss train: 0.692\tLoss valid: 0.692\tLoss acc: 0.533\n",
      "[1/25][500/320]\tLoss train: 0.692\tLoss valid: 0.692\tLoss acc: 0.543\n",
      "[1/25][550/320]\tLoss train: 0.692\tLoss valid: 0.692\tLoss acc: 0.533\n",
      "[1/25][600/320]\tLoss train: 0.693\tLoss valid: 0.692\tLoss acc: 0.501\n",
      "[1/25][650/320]\tLoss train: 0.692\tLoss valid: 0.692\tLoss acc: 0.527\n",
      "[1/25][700/320]\tLoss train: 0.692\tLoss valid: 0.692\tLoss acc: 0.529\n",
      "[2/25][0/320]\tLoss train: 0.692\tLoss valid: 0.691\tLoss acc: 0.544\n",
      "[2/25][50/320]\tLoss train: 0.692\tLoss valid: 0.692\tLoss acc: 0.520\n",
      "[2/25][100/320]\tLoss train: 0.692\tLoss valid: 0.691\tLoss acc: 0.529\n",
      "[2/25][150/320]\tLoss train: 0.691\tLoss valid: 0.691\tLoss acc: 0.547\n",
      "[2/25][200/320]\tLoss train: 0.691\tLoss valid: 0.691\tLoss acc: 0.545\n",
      "[2/25][250/320]\tLoss train: 0.691\tLoss valid: 0.691\tLoss acc: 0.536\n",
      "[2/25][300/320]\tLoss train: 0.691\tLoss valid: 0.691\tLoss acc: 0.535\n",
      "[2/25][350/320]\tLoss train: 0.692\tLoss valid: 0.692\tLoss acc: 0.506\n",
      "[2/25][400/320]\tLoss train: 0.691\tLoss valid: 0.691\tLoss acc: 0.540\n",
      "[2/25][450/320]\tLoss train: 0.692\tLoss valid: 0.692\tLoss acc: 0.508\n",
      "[2/25][500/320]\tLoss train: 0.691\tLoss valid: 0.691\tLoss acc: 0.545\n",
      "[2/25][550/320]\tLoss train: 0.691\tLoss valid: 0.691\tLoss acc: 0.540\n",
      "[2/25][600/320]\tLoss train: 0.691\tLoss valid: 0.691\tLoss acc: 0.519\n",
      "[2/25][650/320]\tLoss train: 0.692\tLoss valid: 0.692\tLoss acc: 0.498\n",
      "[2/25][700/320]\tLoss train: 0.691\tLoss valid: 0.691\tLoss acc: 0.511\n",
      "[3/25][0/320]\tLoss train: 0.691\tLoss valid: 0.690\tLoss acc: 0.551\n",
      "[3/25][50/320]\tLoss train: 0.691\tLoss valid: 0.690\tLoss acc: 0.552\n",
      "[3/25][100/320]\tLoss train: 0.691\tLoss valid: 0.691\tLoss acc: 0.517\n",
      "[3/25][150/320]\tLoss train: 0.691\tLoss valid: 0.691\tLoss acc: 0.524\n",
      "[3/25][200/320]\tLoss train: 0.691\tLoss valid: 0.691\tLoss acc: 0.534\n",
      "[3/25][250/320]\tLoss train: 0.691\tLoss valid: 0.690\tLoss acc: 0.554\n",
      "[3/25][300/320]\tLoss train: 0.690\tLoss valid: 0.690\tLoss acc: 0.552\n",
      "[3/25][350/320]\tLoss train: 0.691\tLoss valid: 0.690\tLoss acc: 0.532\n",
      "[3/25][400/320]\tLoss train: 0.691\tLoss valid: 0.691\tLoss acc: 0.508\n",
      "[3/25][450/320]\tLoss train: 0.690\tLoss valid: 0.690\tLoss acc: 0.552\n",
      "[3/25][500/320]\tLoss train: 0.690\tLoss valid: 0.690\tLoss acc: 0.545\n",
      "[3/25][550/320]\tLoss train: 0.690\tLoss valid: 0.690\tLoss acc: 0.556\n",
      "[3/25][600/320]\tLoss train: 0.690\tLoss valid: 0.690\tLoss acc: 0.550\n",
      "[3/25][650/320]\tLoss train: 0.690\tLoss valid: 0.690\tLoss acc: 0.544\n",
      "[3/25][700/320]\tLoss train: 0.690\tLoss valid: 0.690\tLoss acc: 0.550\n",
      "[4/25][0/320]\tLoss train: 0.690\tLoss valid: 0.690\tLoss acc: 0.551\n",
      "[4/25][50/320]\tLoss train: 0.690\tLoss valid: 0.690\tLoss acc: 0.550\n",
      "[4/25][100/320]\tLoss train: 0.690\tLoss valid: 0.689\tLoss acc: 0.553\n",
      "[4/25][150/320]\tLoss train: 0.690\tLoss valid: 0.690\tLoss acc: 0.531\n",
      "[4/25][200/320]\tLoss train: 0.690\tLoss valid: 0.689\tLoss acc: 0.552\n",
      "[4/25][250/320]\tLoss train: 0.690\tLoss valid: 0.689\tLoss acc: 0.550\n",
      "[4/25][300/320]\tLoss train: 0.690\tLoss valid: 0.689\tLoss acc: 0.552\n",
      "[4/25][350/320]\tLoss train: 0.690\tLoss valid: 0.689\tLoss acc: 0.545\n",
      "[4/25][400/320]\tLoss train: 0.689\tLoss valid: 0.689\tLoss acc: 0.552\n",
      "[4/25][450/320]\tLoss train: 0.689\tLoss valid: 0.689\tLoss acc: 0.550\n",
      "[4/25][500/320]\tLoss train: 0.690\tLoss valid: 0.689\tLoss acc: 0.549\n",
      "[4/25][550/320]\tLoss train: 0.690\tLoss valid: 0.689\tLoss acc: 0.544\n",
      "[4/25][600/320]\tLoss train: 0.690\tLoss valid: 0.689\tLoss acc: 0.546\n",
      "[4/25][650/320]\tLoss train: 0.689\tLoss valid: 0.689\tLoss acc: 0.554\n",
      "[4/25][700/320]\tLoss train: 0.689\tLoss valid: 0.689\tLoss acc: 0.554\n",
      "[5/25][0/320]\tLoss train: 0.689\tLoss valid: 0.689\tLoss acc: 0.551\n",
      "[5/25][50/320]\tLoss train: 0.689\tLoss valid: 0.689\tLoss acc: 0.555\n",
      "[5/25][100/320]\tLoss train: 0.689\tLoss valid: 0.689\tLoss acc: 0.552\n",
      "[5/25][150/320]\tLoss train: 0.689\tLoss valid: 0.689\tLoss acc: 0.541\n",
      "[5/25][200/320]\tLoss train: 0.689\tLoss valid: 0.688\tLoss acc: 0.553\n",
      "[5/25][250/320]\tLoss train: 0.689\tLoss valid: 0.689\tLoss acc: 0.542\n",
      "[5/25][300/320]\tLoss train: 0.689\tLoss valid: 0.688\tLoss acc: 0.554\n",
      "[5/25][350/320]\tLoss train: 0.689\tLoss valid: 0.688\tLoss acc: 0.552\n",
      "[5/25][400/320]\tLoss train: 0.689\tLoss valid: 0.688\tLoss acc: 0.555\n",
      "[5/25][450/320]\tLoss train: 0.689\tLoss valid: 0.688\tLoss acc: 0.549\n",
      "[5/25][500/320]\tLoss train: 0.689\tLoss valid: 0.688\tLoss acc: 0.550\n",
      "[5/25][550/320]\tLoss train: 0.689\tLoss valid: 0.689\tLoss acc: 0.549\n",
      "[5/25][600/320]\tLoss train: 0.688\tLoss valid: 0.688\tLoss acc: 0.558\n",
      "[5/25][650/320]\tLoss train: 0.689\tLoss valid: 0.688\tLoss acc: 0.552\n",
      "[5/25][700/320]\tLoss train: 0.689\tLoss valid: 0.688\tLoss acc: 0.543\n",
      "[6/25][0/320]\tLoss train: 0.689\tLoss valid: 0.688\tLoss acc: 0.540\n",
      "[6/25][50/320]\tLoss train: 0.688\tLoss valid: 0.688\tLoss acc: 0.556\n",
      "[6/25][100/320]\tLoss train: 0.688\tLoss valid: 0.688\tLoss acc: 0.540\n",
      "[6/25][150/320]\tLoss train: 0.688\tLoss valid: 0.688\tLoss acc: 0.548\n",
      "[6/25][200/320]\tLoss train: 0.688\tLoss valid: 0.688\tLoss acc: 0.551\n",
      "[6/25][250/320]\tLoss train: 0.688\tLoss valid: 0.688\tLoss acc: 0.533\n",
      "[6/25][300/320]\tLoss train: 0.688\tLoss valid: 0.688\tLoss acc: 0.543\n",
      "[6/25][350/320]\tLoss train: 0.688\tLoss valid: 0.688\tLoss acc: 0.551\n",
      "[6/25][400/320]\tLoss train: 0.688\tLoss valid: 0.688\tLoss acc: 0.553\n",
      "[6/25][450/320]\tLoss train: 0.688\tLoss valid: 0.688\tLoss acc: 0.542\n",
      "[6/25][500/320]\tLoss train: 0.688\tLoss valid: 0.688\tLoss acc: 0.556\n",
      "[6/25][550/320]\tLoss train: 0.688\tLoss valid: 0.687\tLoss acc: 0.557\n",
      "[6/25][600/320]\tLoss train: 0.688\tLoss valid: 0.687\tLoss acc: 0.550\n",
      "[6/25][650/320]\tLoss train: 0.688\tLoss valid: 0.687\tLoss acc: 0.545\n",
      "[6/25][700/320]\tLoss train: 0.689\tLoss valid: 0.688\tLoss acc: 0.543\n",
      "[7/25][0/320]\tLoss train: 0.687\tLoss valid: 0.687\tLoss acc: 0.556\n",
      "[7/25][50/320]\tLoss train: 0.687\tLoss valid: 0.687\tLoss acc: 0.549\n",
      "[7/25][100/320]\tLoss train: 0.687\tLoss valid: 0.687\tLoss acc: 0.549\n",
      "[7/25][150/320]\tLoss train: 0.687\tLoss valid: 0.687\tLoss acc: 0.556\n",
      "[7/25][200/320]\tLoss train: 0.687\tLoss valid: 0.687\tLoss acc: 0.550\n",
      "[7/25][250/320]\tLoss train: 0.687\tLoss valid: 0.687\tLoss acc: 0.547\n",
      "[7/25][300/320]\tLoss train: 0.687\tLoss valid: 0.687\tLoss acc: 0.550\n",
      "[7/25][350/320]\tLoss train: 0.687\tLoss valid: 0.687\tLoss acc: 0.552\n",
      "[7/25][400/320]\tLoss train: 0.687\tLoss valid: 0.687\tLoss acc: 0.550\n",
      "[7/25][450/320]\tLoss train: 0.687\tLoss valid: 0.687\tLoss acc: 0.546\n",
      "[7/25][500/320]\tLoss train: 0.687\tLoss valid: 0.687\tLoss acc: 0.547\n",
      "[7/25][550/320]\tLoss train: 0.687\tLoss valid: 0.687\tLoss acc: 0.554\n",
      "[7/25][600/320]\tLoss train: 0.687\tLoss valid: 0.687\tLoss acc: 0.553\n",
      "[7/25][650/320]\tLoss train: 0.687\tLoss valid: 0.687\tLoss acc: 0.552\n",
      "[7/25][700/320]\tLoss train: 0.687\tLoss valid: 0.687\tLoss acc: 0.548\n",
      "[8/25][0/320]\tLoss train: 0.686\tLoss valid: 0.686\tLoss acc: 0.556\n",
      "[8/25][50/320]\tLoss train: 0.686\tLoss valid: 0.686\tLoss acc: 0.551\n",
      "[8/25][100/320]\tLoss train: 0.686\tLoss valid: 0.686\tLoss acc: 0.555\n",
      "[8/25][150/320]\tLoss train: 0.687\tLoss valid: 0.686\tLoss acc: 0.537\n",
      "[8/25][200/320]\tLoss train: 0.686\tLoss valid: 0.686\tLoss acc: 0.540\n",
      "[8/25][250/320]\tLoss train: 0.687\tLoss valid: 0.686\tLoss acc: 0.545\n",
      "[8/25][300/320]\tLoss train: 0.686\tLoss valid: 0.686\tLoss acc: 0.538\n",
      "[8/25][350/320]\tLoss train: 0.686\tLoss valid: 0.686\tLoss acc: 0.540\n",
      "[8/25][400/320]\tLoss train: 0.686\tLoss valid: 0.686\tLoss acc: 0.554\n",
      "[8/25][450/320]\tLoss train: 0.686\tLoss valid: 0.686\tLoss acc: 0.552\n",
      "[8/25][500/320]\tLoss train: 0.686\tLoss valid: 0.686\tLoss acc: 0.557\n",
      "[8/25][550/320]\tLoss train: 0.686\tLoss valid: 0.686\tLoss acc: 0.558\n",
      "[8/25][600/320]\tLoss train: 0.686\tLoss valid: 0.686\tLoss acc: 0.536\n",
      "[8/25][650/320]\tLoss train: 0.686\tLoss valid: 0.686\tLoss acc: 0.557\n",
      "[8/25][700/320]\tLoss train: 0.686\tLoss valid: 0.686\tLoss acc: 0.555\n",
      "[9/25][0/320]\tLoss train: 0.686\tLoss valid: 0.686\tLoss acc: 0.554\n",
      "[9/25][50/320]\tLoss train: 0.686\tLoss valid: 0.686\tLoss acc: 0.554\n",
      "[9/25][100/320]\tLoss train: 0.686\tLoss valid: 0.686\tLoss acc: 0.538\n",
      "[9/25][150/320]\tLoss train: 0.686\tLoss valid: 0.686\tLoss acc: 0.544\n",
      "[9/25][200/320]\tLoss train: 0.685\tLoss valid: 0.685\tLoss acc: 0.554\n",
      "[9/25][250/320]\tLoss train: 0.686\tLoss valid: 0.686\tLoss acc: 0.536\n",
      "[9/25][300/320]\tLoss train: 0.686\tLoss valid: 0.686\tLoss acc: 0.550\n",
      "[9/25][350/320]\tLoss train: 0.686\tLoss valid: 0.686\tLoss acc: 0.549\n",
      "[9/25][400/320]\tLoss train: 0.685\tLoss valid: 0.685\tLoss acc: 0.550\n",
      "[9/25][450/320]\tLoss train: 0.685\tLoss valid: 0.685\tLoss acc: 0.555\n",
      "[9/25][500/320]\tLoss train: 0.685\tLoss valid: 0.685\tLoss acc: 0.557\n",
      "[9/25][550/320]\tLoss train: 0.686\tLoss valid: 0.686\tLoss acc: 0.551\n",
      "[9/25][600/320]\tLoss train: 0.685\tLoss valid: 0.685\tLoss acc: 0.552\n",
      "[9/25][650/320]\tLoss train: 0.685\tLoss valid: 0.685\tLoss acc: 0.555\n",
      "[9/25][700/320]\tLoss train: 0.685\tLoss valid: 0.685\tLoss acc: 0.553\n",
      "[10/25][0/320]\tLoss train: 0.685\tLoss valid: 0.685\tLoss acc: 0.556\n",
      "[10/25][50/320]\tLoss train: 0.687\tLoss valid: 0.687\tLoss acc: 0.546\n",
      "[10/25][100/320]\tLoss train: 0.685\tLoss valid: 0.685\tLoss acc: 0.556\n",
      "[10/25][150/320]\tLoss train: 0.685\tLoss valid: 0.685\tLoss acc: 0.554\n",
      "[10/25][200/320]\tLoss train: 0.685\tLoss valid: 0.685\tLoss acc: 0.549\n",
      "[10/25][250/320]\tLoss train: 0.685\tLoss valid: 0.685\tLoss acc: 0.548\n",
      "[10/25][300/320]\tLoss train: 0.685\tLoss valid: 0.685\tLoss acc: 0.554\n",
      "[10/25][350/320]\tLoss train: 0.686\tLoss valid: 0.686\tLoss acc: 0.552\n",
      "[10/25][400/320]\tLoss train: 0.685\tLoss valid: 0.685\tLoss acc: 0.550\n",
      "[10/25][450/320]\tLoss train: 0.685\tLoss valid: 0.685\tLoss acc: 0.558\n",
      "[10/25][500/320]\tLoss train: 0.685\tLoss valid: 0.685\tLoss acc: 0.538\n",
      "[10/25][550/320]\tLoss train: 0.685\tLoss valid: 0.685\tLoss acc: 0.542\n",
      "[10/25][600/320]\tLoss train: 0.685\tLoss valid: 0.685\tLoss acc: 0.536\n",
      "[10/25][650/320]\tLoss train: 0.684\tLoss valid: 0.684\tLoss acc: 0.558\n",
      "[10/25][700/320]\tLoss train: 0.685\tLoss valid: 0.685\tLoss acc: 0.550\n",
      "[11/25][0/320]\tLoss train: 0.684\tLoss valid: 0.684\tLoss acc: 0.553\n",
      "[11/25][50/320]\tLoss train: 0.685\tLoss valid: 0.685\tLoss acc: 0.551\n",
      "[11/25][100/320]\tLoss train: 0.685\tLoss valid: 0.685\tLoss acc: 0.549\n",
      "[11/25][150/320]\tLoss train: 0.684\tLoss valid: 0.684\tLoss acc: 0.554\n",
      "[11/25][200/320]\tLoss train: 0.684\tLoss valid: 0.685\tLoss acc: 0.553\n",
      "[11/25][250/320]\tLoss train: 0.684\tLoss valid: 0.684\tLoss acc: 0.557\n",
      "[11/25][300/320]\tLoss train: 0.684\tLoss valid: 0.684\tLoss acc: 0.553\n",
      "[11/25][350/320]\tLoss train: 0.684\tLoss valid: 0.684\tLoss acc: 0.553\n",
      "[11/25][400/320]\tLoss train: 0.684\tLoss valid: 0.684\tLoss acc: 0.548\n",
      "[11/25][450/320]\tLoss train: 0.684\tLoss valid: 0.684\tLoss acc: 0.556\n",
      "[11/25][500/320]\tLoss train: 0.684\tLoss valid: 0.684\tLoss acc: 0.557\n",
      "[11/25][550/320]\tLoss train: 0.684\tLoss valid: 0.684\tLoss acc: 0.553\n",
      "[11/25][600/320]\tLoss train: 0.684\tLoss valid: 0.684\tLoss acc: 0.554\n",
      "[11/25][650/320]\tLoss train: 0.684\tLoss valid: 0.684\tLoss acc: 0.554\n",
      "[11/25][700/320]\tLoss train: 0.683\tLoss valid: 0.684\tLoss acc: 0.559\n",
      "[12/25][0/320]\tLoss train: 0.684\tLoss valid: 0.684\tLoss acc: 0.555\n",
      "[12/25][50/320]\tLoss train: 0.684\tLoss valid: 0.684\tLoss acc: 0.547\n",
      "[12/25][100/320]\tLoss train: 0.683\tLoss valid: 0.684\tLoss acc: 0.557\n",
      "[12/25][150/320]\tLoss train: 0.684\tLoss valid: 0.684\tLoss acc: 0.559\n",
      "[12/25][200/320]\tLoss train: 0.684\tLoss valid: 0.684\tLoss acc: 0.546\n",
      "[12/25][250/320]\tLoss train: 0.683\tLoss valid: 0.683\tLoss acc: 0.559\n",
      "[12/25][300/320]\tLoss train: 0.684\tLoss valid: 0.684\tLoss acc: 0.544\n",
      "[12/25][350/320]\tLoss train: 0.683\tLoss valid: 0.683\tLoss acc: 0.554\n",
      "[12/25][400/320]\tLoss train: 0.683\tLoss valid: 0.684\tLoss acc: 0.555\n",
      "[12/25][450/320]\tLoss train: 0.683\tLoss valid: 0.684\tLoss acc: 0.550\n",
      "[12/25][500/320]\tLoss train: 0.683\tLoss valid: 0.684\tLoss acc: 0.551\n",
      "[12/25][550/320]\tLoss train: 0.683\tLoss valid: 0.683\tLoss acc: 0.551\n",
      "[12/25][600/320]\tLoss train: 0.683\tLoss valid: 0.683\tLoss acc: 0.546\n",
      "[12/25][650/320]\tLoss train: 0.683\tLoss valid: 0.683\tLoss acc: 0.554\n",
      "[12/25][700/320]\tLoss train: 0.683\tLoss valid: 0.683\tLoss acc: 0.554\n",
      "[13/25][0/320]\tLoss train: 0.684\tLoss valid: 0.684\tLoss acc: 0.544\n",
      "[13/25][50/320]\tLoss train: 0.684\tLoss valid: 0.685\tLoss acc: 0.542\n",
      "[13/25][100/320]\tLoss train: 0.685\tLoss valid: 0.685\tLoss acc: 0.543\n",
      "[13/25][150/320]\tLoss train: 0.683\tLoss valid: 0.684\tLoss acc: 0.549\n",
      "[13/25][200/320]\tLoss train: 0.683\tLoss valid: 0.683\tLoss acc: 0.551\n",
      "[13/25][250/320]\tLoss train: 0.683\tLoss valid: 0.683\tLoss acc: 0.550\n",
      "[13/25][300/320]\tLoss train: 0.683\tLoss valid: 0.683\tLoss acc: 0.559\n",
      "[13/25][350/320]\tLoss train: 0.683\tLoss valid: 0.683\tLoss acc: 0.552\n",
      "[13/25][400/320]\tLoss train: 0.683\tLoss valid: 0.683\tLoss acc: 0.556\n",
      "[13/25][450/320]\tLoss train: 0.682\tLoss valid: 0.683\tLoss acc: 0.555\n",
      "[13/25][500/320]\tLoss train: 0.682\tLoss valid: 0.683\tLoss acc: 0.556\n",
      "[13/25][550/320]\tLoss train: 0.683\tLoss valid: 0.683\tLoss acc: 0.542\n",
      "[13/25][600/320]\tLoss train: 0.684\tLoss valid: 0.684\tLoss acc: 0.541\n",
      "[13/25][650/320]\tLoss train: 0.683\tLoss valid: 0.683\tLoss acc: 0.552\n",
      "[13/25][700/320]\tLoss train: 0.683\tLoss valid: 0.684\tLoss acc: 0.542\n",
      "[14/25][0/320]\tLoss train: 0.682\tLoss valid: 0.683\tLoss acc: 0.554\n",
      "[14/25][50/320]\tLoss train: 0.682\tLoss valid: 0.682\tLoss acc: 0.557\n",
      "[14/25][100/320]\tLoss train: 0.683\tLoss valid: 0.683\tLoss acc: 0.547\n",
      "[14/25][150/320]\tLoss train: 0.682\tLoss valid: 0.682\tLoss acc: 0.556\n",
      "[14/25][200/320]\tLoss train: 0.684\tLoss valid: 0.685\tLoss acc: 0.545\n",
      "[14/25][250/320]\tLoss train: 0.682\tLoss valid: 0.683\tLoss acc: 0.553\n",
      "[14/25][300/320]\tLoss train: 0.683\tLoss valid: 0.684\tLoss acc: 0.550\n",
      "[14/25][350/320]\tLoss train: 0.683\tLoss valid: 0.683\tLoss acc: 0.552\n",
      "[14/25][400/320]\tLoss train: 0.682\tLoss valid: 0.682\tLoss acc: 0.559\n",
      "[14/25][450/320]\tLoss train: 0.682\tLoss valid: 0.682\tLoss acc: 0.555\n",
      "[14/25][500/320]\tLoss train: 0.683\tLoss valid: 0.683\tLoss acc: 0.544\n",
      "[14/25][550/320]\tLoss train: 0.682\tLoss valid: 0.682\tLoss acc: 0.555\n",
      "[14/25][600/320]\tLoss train: 0.682\tLoss valid: 0.682\tLoss acc: 0.552\n",
      "[14/25][650/320]\tLoss train: 0.682\tLoss valid: 0.682\tLoss acc: 0.558\n",
      "[14/25][700/320]\tLoss train: 0.682\tLoss valid: 0.682\tLoss acc: 0.560\n",
      "[15/25][0/320]\tLoss train: 0.682\tLoss valid: 0.682\tLoss acc: 0.553\n",
      "[15/25][50/320]\tLoss train: 0.681\tLoss valid: 0.682\tLoss acc: 0.558\n",
      "[15/25][100/320]\tLoss train: 0.682\tLoss valid: 0.682\tLoss acc: 0.559\n",
      "[15/25][150/320]\tLoss train: 0.682\tLoss valid: 0.682\tLoss acc: 0.558\n",
      "[15/25][200/320]\tLoss train: 0.682\tLoss valid: 0.682\tLoss acc: 0.549\n",
      "[15/25][250/320]\tLoss train: 0.681\tLoss valid: 0.682\tLoss acc: 0.558\n",
      "[15/25][300/320]\tLoss train: 0.681\tLoss valid: 0.682\tLoss acc: 0.558\n",
      "[15/25][350/320]\tLoss train: 0.681\tLoss valid: 0.682\tLoss acc: 0.554\n",
      "[15/25][400/320]\tLoss train: 0.681\tLoss valid: 0.682\tLoss acc: 0.551\n",
      "[15/25][450/320]\tLoss train: 0.681\tLoss valid: 0.681\tLoss acc: 0.555\n",
      "[15/25][500/320]\tLoss train: 0.682\tLoss valid: 0.682\tLoss acc: 0.546\n",
      "[15/25][550/320]\tLoss train: 0.681\tLoss valid: 0.682\tLoss acc: 0.556\n",
      "[15/25][600/320]\tLoss train: 0.681\tLoss valid: 0.682\tLoss acc: 0.558\n",
      "[15/25][650/320]\tLoss train: 0.681\tLoss valid: 0.682\tLoss acc: 0.554\n",
      "[15/25][700/320]\tLoss train: 0.682\tLoss valid: 0.682\tLoss acc: 0.551\n",
      "[16/25][0/320]\tLoss train: 0.681\tLoss valid: 0.681\tLoss acc: 0.554\n",
      "[16/25][50/320]\tLoss train: 0.680\tLoss valid: 0.681\tLoss acc: 0.555\n",
      "[16/25][100/320]\tLoss train: 0.681\tLoss valid: 0.681\tLoss acc: 0.552\n",
      "[16/25][150/320]\tLoss train: 0.681\tLoss valid: 0.681\tLoss acc: 0.554\n",
      "[16/25][200/320]\tLoss train: 0.681\tLoss valid: 0.681\tLoss acc: 0.555\n",
      "[16/25][250/320]\tLoss train: 0.681\tLoss valid: 0.682\tLoss acc: 0.545\n",
      "[16/25][300/320]\tLoss train: 0.680\tLoss valid: 0.681\tLoss acc: 0.555\n",
      "[16/25][350/320]\tLoss train: 0.681\tLoss valid: 0.681\tLoss acc: 0.548\n",
      "[16/25][400/320]\tLoss train: 0.680\tLoss valid: 0.681\tLoss acc: 0.556\n",
      "[16/25][450/320]\tLoss train: 0.680\tLoss valid: 0.681\tLoss acc: 0.555\n",
      "[16/25][500/320]\tLoss train: 0.680\tLoss valid: 0.681\tLoss acc: 0.557\n",
      "[16/25][550/320]\tLoss train: 0.680\tLoss valid: 0.681\tLoss acc: 0.553\n",
      "[16/25][600/320]\tLoss train: 0.680\tLoss valid: 0.681\tLoss acc: 0.552\n",
      "[16/25][650/320]\tLoss train: 0.680\tLoss valid: 0.680\tLoss acc: 0.557\n",
      "[16/25][700/320]\tLoss train: 0.680\tLoss valid: 0.681\tLoss acc: 0.560\n",
      "[17/25][0/320]\tLoss train: 0.680\tLoss valid: 0.681\tLoss acc: 0.556\n",
      "[17/25][50/320]\tLoss train: 0.680\tLoss valid: 0.681\tLoss acc: 0.565\n",
      "[17/25][100/320]\tLoss train: 0.681\tLoss valid: 0.681\tLoss acc: 0.565\n",
      "[17/25][150/320]\tLoss train: 0.680\tLoss valid: 0.680\tLoss acc: 0.558\n",
      "[17/25][200/320]\tLoss train: 0.680\tLoss valid: 0.681\tLoss acc: 0.554\n",
      "[17/25][250/320]\tLoss train: 0.681\tLoss valid: 0.681\tLoss acc: 0.553\n",
      "[17/25][300/320]\tLoss train: 0.679\tLoss valid: 0.680\tLoss acc: 0.557\n",
      "[17/25][350/320]\tLoss train: 0.679\tLoss valid: 0.680\tLoss acc: 0.554\n",
      "[17/25][400/320]\tLoss train: 0.679\tLoss valid: 0.680\tLoss acc: 0.565\n",
      "[17/25][450/320]\tLoss train: 0.679\tLoss valid: 0.680\tLoss acc: 0.556\n",
      "[17/25][500/320]\tLoss train: 0.679\tLoss valid: 0.680\tLoss acc: 0.559\n",
      "[17/25][550/320]\tLoss train: 0.679\tLoss valid: 0.680\tLoss acc: 0.553\n",
      "[17/25][600/320]\tLoss train: 0.679\tLoss valid: 0.680\tLoss acc: 0.558\n",
      "[17/25][650/320]\tLoss train: 0.679\tLoss valid: 0.680\tLoss acc: 0.557\n",
      "[17/25][700/320]\tLoss train: 0.678\tLoss valid: 0.679\tLoss acc: 0.553\n",
      "[18/25][0/320]\tLoss train: 0.678\tLoss valid: 0.679\tLoss acc: 0.556\n",
      "[18/25][50/320]\tLoss train: 0.679\tLoss valid: 0.680\tLoss acc: 0.553\n",
      "[18/25][100/320]\tLoss train: 0.678\tLoss valid: 0.679\tLoss acc: 0.554\n",
      "[18/25][150/320]\tLoss train: 0.678\tLoss valid: 0.679\tLoss acc: 0.559\n",
      "[18/25][200/320]\tLoss train: 0.678\tLoss valid: 0.679\tLoss acc: 0.554\n",
      "[18/25][250/320]\tLoss train: 0.678\tLoss valid: 0.679\tLoss acc: 0.553\n",
      "[18/25][300/320]\tLoss train: 0.678\tLoss valid: 0.679\tLoss acc: 0.559\n",
      "[18/25][350/320]\tLoss train: 0.677\tLoss valid: 0.678\tLoss acc: 0.560\n",
      "[18/25][400/320]\tLoss train: 0.677\tLoss valid: 0.678\tLoss acc: 0.562\n",
      "[18/25][450/320]\tLoss train: 0.677\tLoss valid: 0.678\tLoss acc: 0.561\n",
      "[18/25][500/320]\tLoss train: 0.677\tLoss valid: 0.677\tLoss acc: 0.562\n",
      "[18/25][550/320]\tLoss train: 0.677\tLoss valid: 0.677\tLoss acc: 0.564\n",
      "[18/25][600/320]\tLoss train: 0.677\tLoss valid: 0.677\tLoss acc: 0.565\n",
      "[18/25][650/320]\tLoss train: 0.677\tLoss valid: 0.677\tLoss acc: 0.563\n",
      "[18/25][700/320]\tLoss train: 0.677\tLoss valid: 0.678\tLoss acc: 0.570\n",
      "[19/25][0/320]\tLoss train: 0.676\tLoss valid: 0.677\tLoss acc: 0.561\n",
      "[19/25][50/320]\tLoss train: 0.676\tLoss valid: 0.677\tLoss acc: 0.565\n",
      "[19/25][100/320]\tLoss train: 0.676\tLoss valid: 0.677\tLoss acc: 0.561\n",
      "[19/25][150/320]\tLoss train: 0.677\tLoss valid: 0.678\tLoss acc: 0.556\n",
      "[19/25][200/320]\tLoss train: 0.676\tLoss valid: 0.677\tLoss acc: 0.558\n",
      "[19/25][250/320]\tLoss train: 0.675\tLoss valid: 0.676\tLoss acc: 0.561\n",
      "[19/25][300/320]\tLoss train: 0.675\tLoss valid: 0.676\tLoss acc: 0.558\n",
      "[19/25][350/320]\tLoss train: 0.676\tLoss valid: 0.678\tLoss acc: 0.559\n",
      "[19/25][400/320]\tLoss train: 0.674\tLoss valid: 0.676\tLoss acc: 0.564\n",
      "[19/25][450/320]\tLoss train: 0.675\tLoss valid: 0.676\tLoss acc: 0.562\n",
      "[19/25][500/320]\tLoss train: 0.674\tLoss valid: 0.676\tLoss acc: 0.563\n",
      "[19/25][550/320]\tLoss train: 0.675\tLoss valid: 0.676\tLoss acc: 0.560\n",
      "[19/25][600/320]\tLoss train: 0.675\tLoss valid: 0.676\tLoss acc: 0.561\n",
      "[19/25][650/320]\tLoss train: 0.674\tLoss valid: 0.675\tLoss acc: 0.578\n",
      "[19/25][700/320]\tLoss train: 0.673\tLoss valid: 0.675\tLoss acc: 0.565\n",
      "[20/25][0/320]\tLoss train: 0.673\tLoss valid: 0.674\tLoss acc: 0.571\n",
      "[20/25][50/320]\tLoss train: 0.673\tLoss valid: 0.674\tLoss acc: 0.568\n",
      "[20/25][100/320]\tLoss train: 0.672\tLoss valid: 0.674\tLoss acc: 0.576\n",
      "[20/25][150/320]\tLoss train: 0.672\tLoss valid: 0.673\tLoss acc: 0.576\n",
      "[20/25][200/320]\tLoss train: 0.673\tLoss valid: 0.674\tLoss acc: 0.562\n",
      "[20/25][250/320]\tLoss train: 0.674\tLoss valid: 0.675\tLoss acc: 0.573\n",
      "[20/25][300/320]\tLoss train: 0.671\tLoss valid: 0.672\tLoss acc: 0.574\n",
      "[20/25][350/320]\tLoss train: 0.671\tLoss valid: 0.672\tLoss acc: 0.577\n",
      "[20/25][400/320]\tLoss train: 0.671\tLoss valid: 0.673\tLoss acc: 0.576\n",
      "[20/25][450/320]\tLoss train: 0.671\tLoss valid: 0.672\tLoss acc: 0.570\n",
      "[20/25][500/320]\tLoss train: 0.670\tLoss valid: 0.671\tLoss acc: 0.574\n",
      "[20/25][550/320]\tLoss train: 0.670\tLoss valid: 0.672\tLoss acc: 0.573\n",
      "[20/25][600/320]\tLoss train: 0.670\tLoss valid: 0.671\tLoss acc: 0.572\n",
      "[20/25][650/320]\tLoss train: 0.671\tLoss valid: 0.672\tLoss acc: 0.563\n",
      "[20/25][700/320]\tLoss train: 0.670\tLoss valid: 0.672\tLoss acc: 0.583\n",
      "[21/25][0/320]\tLoss train: 0.669\tLoss valid: 0.671\tLoss acc: 0.583\n",
      "[21/25][50/320]\tLoss train: 0.669\tLoss valid: 0.671\tLoss acc: 0.569\n",
      "[21/25][100/320]\tLoss train: 0.669\tLoss valid: 0.670\tLoss acc: 0.585\n",
      "[21/25][150/320]\tLoss train: 0.671\tLoss valid: 0.672\tLoss acc: 0.578\n",
      "[21/25][200/320]\tLoss train: 0.669\tLoss valid: 0.670\tLoss acc: 0.591\n",
      "[21/25][250/320]\tLoss train: 0.668\tLoss valid: 0.670\tLoss acc: 0.577\n",
      "[21/25][300/320]\tLoss train: 0.667\tLoss valid: 0.669\tLoss acc: 0.588\n",
      "[21/25][350/320]\tLoss train: 0.667\tLoss valid: 0.669\tLoss acc: 0.579\n",
      "[21/25][400/320]\tLoss train: 0.667\tLoss valid: 0.669\tLoss acc: 0.589\n",
      "[21/25][450/320]\tLoss train: 0.667\tLoss valid: 0.669\tLoss acc: 0.594\n",
      "[21/25][500/320]\tLoss train: 0.666\tLoss valid: 0.668\tLoss acc: 0.577\n",
      "[21/25][550/320]\tLoss train: 0.666\tLoss valid: 0.668\tLoss acc: 0.580\n",
      "[21/25][600/320]\tLoss train: 0.666\tLoss valid: 0.668\tLoss acc: 0.576\n",
      "[21/25][650/320]\tLoss train: 0.666\tLoss valid: 0.667\tLoss acc: 0.576\n",
      "[21/25][700/320]\tLoss train: 0.669\tLoss valid: 0.671\tLoss acc: 0.563\n",
      "[22/25][0/320]\tLoss train: 0.665\tLoss valid: 0.666\tLoss acc: 0.589\n",
      "[22/25][50/320]\tLoss train: 0.665\tLoss valid: 0.666\tLoss acc: 0.582\n",
      "[22/25][100/320]\tLoss train: 0.664\tLoss valid: 0.666\tLoss acc: 0.595\n",
      "[22/25][150/320]\tLoss train: 0.664\tLoss valid: 0.666\tLoss acc: 0.592\n",
      "[22/25][200/320]\tLoss train: 0.664\tLoss valid: 0.666\tLoss acc: 0.582\n",
      "[22/25][250/320]\tLoss train: 0.664\tLoss valid: 0.665\tLoss acc: 0.585\n",
      "[22/25][300/320]\tLoss train: 0.663\tLoss valid: 0.665\tLoss acc: 0.590\n",
      "[22/25][350/320]\tLoss train: 0.663\tLoss valid: 0.664\tLoss acc: 0.590\n",
      "[22/25][400/320]\tLoss train: 0.663\tLoss valid: 0.664\tLoss acc: 0.593\n",
      "[22/25][450/320]\tLoss train: 0.662\tLoss valid: 0.664\tLoss acc: 0.602\n",
      "[22/25][500/320]\tLoss train: 0.662\tLoss valid: 0.664\tLoss acc: 0.593\n",
      "[22/25][550/320]\tLoss train: 0.662\tLoss valid: 0.663\tLoss acc: 0.605\n",
      "[22/25][600/320]\tLoss train: 0.661\tLoss valid: 0.663\tLoss acc: 0.600\n",
      "[22/25][650/320]\tLoss train: 0.661\tLoss valid: 0.663\tLoss acc: 0.606\n",
      "[22/25][700/320]\tLoss train: 0.660\tLoss valid: 0.662\tLoss acc: 0.606\n",
      "[23/25][0/320]\tLoss train: 0.660\tLoss valid: 0.661\tLoss acc: 0.597\n",
      "[23/25][50/320]\tLoss train: 0.660\tLoss valid: 0.662\tLoss acc: 0.599\n",
      "[23/25][100/320]\tLoss train: 0.661\tLoss valid: 0.662\tLoss acc: 0.610\n",
      "[23/25][150/320]\tLoss train: 0.660\tLoss valid: 0.661\tLoss acc: 0.606\n",
      "[23/25][200/320]\tLoss train: 0.660\tLoss valid: 0.661\tLoss acc: 0.595\n",
      "[23/25][250/320]\tLoss train: 0.660\tLoss valid: 0.662\tLoss acc: 0.589\n",
      "[23/25][300/320]\tLoss train: 0.660\tLoss valid: 0.661\tLoss acc: 0.591\n",
      "[23/25][350/320]\tLoss train: 0.658\tLoss valid: 0.659\tLoss acc: 0.615\n",
      "[23/25][400/320]\tLoss train: 0.665\tLoss valid: 0.666\tLoss acc: 0.596\n",
      "[23/25][450/320]\tLoss train: 0.659\tLoss valid: 0.660\tLoss acc: 0.606\n",
      "[23/25][500/320]\tLoss train: 0.657\tLoss valid: 0.658\tLoss acc: 0.617\n",
      "[23/25][550/320]\tLoss train: 0.657\tLoss valid: 0.658\tLoss acc: 0.617\n",
      "[23/25][600/320]\tLoss train: 0.658\tLoss valid: 0.659\tLoss acc: 0.596\n",
      "[23/25][650/320]\tLoss train: 0.656\tLoss valid: 0.658\tLoss acc: 0.619\n",
      "[23/25][700/320]\tLoss train: 0.657\tLoss valid: 0.658\tLoss acc: 0.602\n",
      "[24/25][0/320]\tLoss train: 0.655\tLoss valid: 0.657\tLoss acc: 0.613\n",
      "[24/25][50/320]\tLoss train: 0.655\tLoss valid: 0.656\tLoss acc: 0.616\n",
      "[24/25][100/320]\tLoss train: 0.655\tLoss valid: 0.657\tLoss acc: 0.606\n",
      "[24/25][150/320]\tLoss train: 0.655\tLoss valid: 0.656\tLoss acc: 0.611\n",
      "[24/25][200/320]\tLoss train: 0.661\tLoss valid: 0.662\tLoss acc: 0.598\n",
      "[24/25][250/320]\tLoss train: 0.655\tLoss valid: 0.656\tLoss acc: 0.610\n",
      "[24/25][300/320]\tLoss train: 0.655\tLoss valid: 0.657\tLoss acc: 0.602\n",
      "[24/25][350/320]\tLoss train: 0.653\tLoss valid: 0.654\tLoss acc: 0.633\n",
      "[24/25][400/320]\tLoss train: 0.653\tLoss valid: 0.654\tLoss acc: 0.621\n",
      "[24/25][450/320]\tLoss train: 0.652\tLoss valid: 0.654\tLoss acc: 0.625\n",
      "[24/25][500/320]\tLoss train: 0.653\tLoss valid: 0.655\tLoss acc: 0.620\n",
      "[24/25][550/320]\tLoss train: 0.652\tLoss valid: 0.653\tLoss acc: 0.627\n",
      "[24/25][600/320]\tLoss train: 0.652\tLoss valid: 0.654\tLoss acc: 0.611\n",
      "[24/25][650/320]\tLoss train: 0.652\tLoss valid: 0.654\tLoss acc: 0.612\n",
      "[24/25][700/320]\tLoss train: 0.651\tLoss valid: 0.652\tLoss acc: 0.623\n"
     ]
    }
   ],
   "source": [
    "valid_losses = []\n",
    "train_losses = []\n",
    "iters = 0\n",
    "\n",
    "netEv.train()\n",
    " \n",
    "\n",
    "print(\"Starting the training loop\")\n",
    "for epoch in range(n_epoch):\n",
    "    for i, data in enumerate(data_loader_ev):\n",
    "        netEv.zero_grad()\n",
    "        X_batch = data[0].to(device)\n",
    "        y_batch = data[1].to(device)\n",
    "        prediction_batch = netEv(X_batch).view(-1)\n",
    "        err = loss_ev(prediction_batch, y_batch)\n",
    "        err.backward()\n",
    "        optimizer_ev.step()\n",
    "\n",
    "        if i%50 == 0:\n",
    "            netEv.eval()\n",
    "            with torch.no_grad():\n",
    "                prediction_valid = netEv(X_valid).view(-1)\n",
    "                prediction_train = netEv(X_train).view(-1)\n",
    "            train_loss = loss_ev(prediction_train, y_train).item()\n",
    "            valid_loss = loss_ev(prediction_valid, y_valid).item()\n",
    "            train_losses.append(train_loss)\n",
    "            valid_losses.append(valid_loss)\n",
    "            valid_acc  = torch.isclose(torch.round(prediction_valid), y_valid).sum().item()/len(y_valid)\n",
    "            netEv.train()\n",
    "\n",
    "            print(\n",
    "                f\"[{epoch}/{n_epoch}][{i}/{len(data_loader)}]\\tLoss train: {train_loss:.3f}\\tLoss valid: {valid_loss:.3f}\\tLoss acc: {valid_acc:.3f}\"\n",
    "            )"
   ]
  },
  {
   "cell_type": "code",
   "execution_count": 36,
   "metadata": {},
   "outputs": [
    {
     "data": {
      "text/plain": [
       "tensor([[0.5706, 0.0133, 0.1690, 0.5849],\n",
       "        [0.5357, 0.5482, 0.0158, 0.7075],\n",
       "        [0.5741, 0.2495, 0.1670, 0.3207],\n",
       "        [0.7872, 0.5248, 0.0495, 0.1931],\n",
       "        [0.8435, 0.0578, 0.0928, 0.5890],\n",
       "        [0.4729, 0.9195, 0.1632, 0.9527],\n",
       "        [0.5579, 0.9813, 0.6368, 0.7950],\n",
       "        [0.4444, 0.7580, 0.1170, 0.2294],\n",
       "        [0.7182, 0.9995, 0.8861, 0.9078],\n",
       "        [0.4320, 0.7923, 0.1786, 0.7092],\n",
       "        [0.8690, 0.3992, 0.1010, 0.7635],\n",
       "        [0.6315, 0.8795, 0.0884, 0.2108],\n",
       "        [0.7418, 0.9751, 0.0760, 0.9447],\n",
       "        [0.6508, 0.8272, 0.1459, 0.2387],\n",
       "        [0.6882, 0.0144, 0.0268, 0.2867],\n",
       "        [0.8179, 0.2036, 0.1343, 0.3413]], device='cuda:0')"
      ]
     },
     "execution_count": 36,
     "metadata": {},
     "output_type": "execute_result"
    }
   ],
   "source": [
    "X_batch"
   ]
  },
  {
   "cell_type": "code",
   "execution_count": 37,
   "metadata": {},
   "outputs": [
    {
     "data": {
      "text/plain": [
       "torch.Size([16, 4])"
      ]
     },
     "execution_count": 37,
     "metadata": {},
     "output_type": "execute_result"
    }
   ],
   "source": [
    "X_batch.shape"
   ]
  },
  {
   "cell_type": "code",
   "execution_count": 38,
   "metadata": {},
   "outputs": [
    {
     "data": {
      "text/plain": [
       "tensor([0.3283, 0.5139, 0.5032, 0.5534, 0.2733, 0.3913, 0.5698, 0.5286, 0.6799,\n",
       "        0.4398, 0.4513, 0.6157, 0.4123, 0.5189, 0.3223, 0.3853],\n",
       "       device='cuda:0', grad_fn=<ViewBackward0>)"
      ]
     },
     "execution_count": 38,
     "metadata": {},
     "output_type": "execute_result"
    }
   ],
   "source": [
    "prediction_batch"
   ]
  },
  {
   "cell_type": "code",
   "execution_count": 39,
   "metadata": {},
   "outputs": [
    {
     "data": {
      "text/plain": [
       "tensor([0., 0., 1., 1., 0., 1., 1., 0., 0., 0., 1., 1., 0., 1., 0., 0.],\n",
       "       device='cuda:0')"
      ]
     },
     "execution_count": 39,
     "metadata": {},
     "output_type": "execute_result"
    }
   ],
   "source": [
    "y_batch"
   ]
  },
  {
   "cell_type": "code",
   "execution_count": 40,
   "metadata": {},
   "outputs": [
    {
     "data": {
      "text/plain": [
       "<matplotlib.legend.Legend at 0x73bb52628890>"
      ]
     },
     "execution_count": 40,
     "metadata": {},
     "output_type": "execute_result"
    },
    {
     "data": {
      "image/png": "[encoded data removed]",
      "text/plain": [
       "<Figure size 640x480 with 1 Axes>"
      ]
     },
     "metadata": {},
     "output_type": "display_data"
    }
   ],
   "source": [
    "fig, ax = plt.subplots()\n",
    "ax.plot(train_losses, label=\"train\")\n",
    "ax.plot(valid_losses, label=\"valid\")\n",
    "ax.set(xlabel=\"iterations\", ylabel=\"loss\")\n",
    "ax.legend()"
   ]
  },
  {
   "cell_type": "code",
   "execution_count": 41,
   "metadata": {},
   "outputs": [
    {
     "name": "stdout",
     "output_type": "stream",
     "text": [
      "Test accuracy: 0.6275\n"
     ]
    }
   ],
   "source": [
    "netEv.eval()\n",
    "\n",
    "with torch.no_grad():\n",
    "    prediction_test = netEv(X_test).view(-1)\n",
    "\n",
    "test_acc = torch.isclose(torch.round(prediction_test), y_test).sum().item() / len(y_test)\n",
    "\n",
    "print(f\"Test accuracy: {test_acc}\")"
   ]
  },
  {
   "cell_type": "code",
   "execution_count": 42,
   "metadata": {},
   "outputs": [
    {
     "name": "stdout",
     "output_type": "stream",
     "text": [
      "AUC score is 0.6807425\n"
     ]
    }
   ],
   "source": [
    "print(f\"AUC score is {roc_auc_score(y_test.cpu(), prediction_test.cpu())}\")"
   ]
  },
  {
   "cell_type": "code",
   "execution_count": 43,
   "metadata": {},
   "outputs": [
    {
     "data": {
      "image/png": "[encoded data removed]",
      "text/plain": [
       "<Figure size 640x480 with 1 Axes>"
      ]
     },
     "metadata": {},
     "output_type": "display_data"
    }
   ],
   "source": [
    "true_indices = y_test.isclose(torch.tensor(1.0))\n",
    "fake_indices = y_test.isclose(torch.tensor(0.0))\n",
    "\n",
    "pred_true = prediction_test[true_indices]\n",
    "pred_fake = prediction_test[fake_indices]\n",
    "\n",
    "fig, ax = plt.subplots()\n",
    "ax.hist(pred_true.cpu(), bins = 50, range=(0, 1), color = plt.cm.tab10(0), alpha=0.5, label=\"true\")\n",
    "ax.hist(pred_fake.cpu(), bins = 50, range=(0, 1), color = plt.cm.tab10(1), alpha=0.5, label=\"generated\")\n",
    "ax.legend()\n",
    "\n",
    "None"
   ]
  },
  {
   "cell_type": "code",
   "execution_count": null,
   "metadata": {},
   "outputs": [],
   "source": []
  }
 ],
 "metadata": {
  "kernelspec": {
   "display_name": "Python 3 (ipykernel)",
   "language": "python",
   "name": "python3"
  },
  "language_info": {
   "codemirror_mode": {
    "name": "ipython",
    "version": 3
   },
   "file_extension": ".py",
   "mimetype": "text/x-python",
   "name": "python",
   "nbconvert_exporter": "python",
   "pygments_lexer": "ipython3",
   "version": "3.11.6"
  }
 },
 "nbformat": 4,
 "nbformat_minor": 4
}
